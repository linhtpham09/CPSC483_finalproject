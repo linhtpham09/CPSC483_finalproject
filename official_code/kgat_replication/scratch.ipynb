{
 "cells": [
  {
   "cell_type": "code",
   "execution_count": 2,
   "metadata": {},
   "outputs": [],
   "source": [
    "import pandas as pd "
   ]
  },
  {
   "cell_type": "code",
   "execution_count": 3,
   "metadata": {},
   "outputs": [],
   "source": [
    "train = pd.read_csv('data/train.txt', header = None).reset_index()\n",
    "test = pd.read_csv('data/test.txt', header = None).reset_index()\n",
    "train[0] = train[0].apply(lambda x: ' '.join(x.split())[1:])\n",
    "test[0] = test[0].apply(lambda x: ' '.join(x.split())[1:])\n",
    "train = train.rename(columns = {'index': 'user_id', \n",
    "                                0:'item_id'})\n",
    "test = test.rename(columns = {'index':'user_id', \n",
    "                              0:'item_id'})"
   ]
  },
  {
   "cell_type": "code",
   "execution_count": null,
   "metadata": {},
   "outputs": [],
   "source": [
    "user_list = pd.read_csv('data/user_list.txt', sep = ' ')\n",
    "item_list = pd.read_csv('data/item_list.txt', sep = ' ')\n"
   ]
  },
  {
   "cell_type": "code",
   "execution_count": 67,
   "metadata": {},
   "outputs": [],
   "source": [
    "kg_final = pd.read_csv('data/kg_final.txt', sep = ' ', header = None)\n",
    "kg_final = kg_final.rename(columns = {0:'head_entity_id',\n",
    "                           1: 'relation', \n",
    "                           2:'tail_entity_id'})"
   ]
  },
  {
   "cell_type": "markdown",
   "metadata": {},
   "source": [
    "# To Build CKG:\n",
    "\n",
    "1. Extract User-item interactions\n",
    "use train.txt to connect (user_list) with (item_list)\n",
    "example: (user_id, interacts, item_id)\n",
    "2. Map items to entities \n",
    "use item_list to replace item_id with entity_id (from freebase_id)\n",
    "3. Combine user-entity interactions with kg_final.txt\n",
    "append user-entity interactions to the existing triplets in kg_final.txt "
   ]
  },
  {
   "cell_type": "code",
   "execution_count": 6,
   "metadata": {},
   "outputs": [
    {
     "data": {
      "text/html": [
       "<div>\n",
       "<style scoped>\n",
       "    .dataframe tbody tr th:only-of-type {\n",
       "        vertical-align: middle;\n",
       "    }\n",
       "\n",
       "    .dataframe tbody tr th {\n",
       "        vertical-align: top;\n",
       "    }\n",
       "\n",
       "    .dataframe thead th {\n",
       "        text-align: right;\n",
       "    }\n",
       "</style>\n",
       "<table border=\"1\" class=\"dataframe\">\n",
       "  <thead>\n",
       "    <tr style=\"text-align: right;\">\n",
       "      <th></th>\n",
       "      <th>user_id</th>\n",
       "      <th>item_id</th>\n",
       "    </tr>\n",
       "  </thead>\n",
       "  <tbody>\n",
       "    <tr>\n",
       "      <th>0</th>\n",
       "      <td>0</td>\n",
       "      <td>0 1 2 3 4 5 6 7 8 9 10 11 12 13 14 15 16 17 1...</td>\n",
       "    </tr>\n",
       "    <tr>\n",
       "      <th>1</th>\n",
       "      <td>1</td>\n",
       "      <td>32 33 34 35</td>\n",
       "    </tr>\n",
       "    <tr>\n",
       "      <th>2</th>\n",
       "      <td>2</td>\n",
       "      <td>36 37 38 39 40 41 42 43 44 45 46 47 48 49 50 51</td>\n",
       "    </tr>\n",
       "    <tr>\n",
       "      <th>3</th>\n",
       "      <td>3</td>\n",
       "      <td>52 53 54 55 56 57 58 59 60 61 62 63 64 65 66</td>\n",
       "    </tr>\n",
       "    <tr>\n",
       "      <th>4</th>\n",
       "      <td>4</td>\n",
       "      <td>67 68 69 70 71 72 73 74 75 76 77 78 79 80 81 ...</td>\n",
       "    </tr>\n",
       "  </tbody>\n",
       "</table>\n",
       "</div>"
      ],
      "text/plain": [
       "   user_id                                            item_id\n",
       "0        0   0 1 2 3 4 5 6 7 8 9 10 11 12 13 14 15 16 17 1...\n",
       "1        1                                        32 33 34 35\n",
       "2        2    36 37 38 39 40 41 42 43 44 45 46 47 48 49 50 51\n",
       "3        3       52 53 54 55 56 57 58 59 60 61 62 63 64 65 66\n",
       "4        4   67 68 69 70 71 72 73 74 75 76 77 78 79 80 81 ..."
      ]
     },
     "execution_count": 6,
     "metadata": {},
     "output_type": "execute_result"
    }
   ],
   "source": [
    "train.head()"
   ]
  },
  {
   "cell_type": "code",
   "execution_count": 7,
   "metadata": {},
   "outputs": [
    {
     "data": {
      "text/html": [
       "<div>\n",
       "<style scoped>\n",
       "    .dataframe tbody tr th:only-of-type {\n",
       "        vertical-align: middle;\n",
       "    }\n",
       "\n",
       "    .dataframe tbody tr th {\n",
       "        vertical-align: top;\n",
       "    }\n",
       "\n",
       "    .dataframe thead th {\n",
       "        text-align: right;\n",
       "    }\n",
       "</style>\n",
       "<table border=\"1\" class=\"dataframe\">\n",
       "  <thead>\n",
       "    <tr style=\"text-align: right;\">\n",
       "      <th></th>\n",
       "      <th>user_id</th>\n",
       "      <th>item_id</th>\n",
       "    </tr>\n",
       "  </thead>\n",
       "  <tbody>\n",
       "    <tr>\n",
       "      <th>0</th>\n",
       "      <td>0</td>\n",
       "      <td>4828 774 207 7460 7465 3768 10221 22435</td>\n",
       "    </tr>\n",
       "    <tr>\n",
       "      <th>1</th>\n",
       "      <td>1</td>\n",
       "      <td>2825</td>\n",
       "    </tr>\n",
       "    <tr>\n",
       "      <th>2</th>\n",
       "      <td>2</td>\n",
       "      <td>10184 3500 10241 10185 1700</td>\n",
       "    </tr>\n",
       "    <tr>\n",
       "      <th>3</th>\n",
       "      <td>3</td>\n",
       "      <td>5365 699 3016 6675</td>\n",
       "    </tr>\n",
       "    <tr>\n",
       "      <th>4</th>\n",
       "      <td>4</td>\n",
       "      <td>1168 15939 23677 9813 4683 17241 19662 8720 2...</td>\n",
       "    </tr>\n",
       "  </tbody>\n",
       "</table>\n",
       "</div>"
      ],
      "text/plain": [
       "   user_id                                            item_id\n",
       "0        0            4828 774 207 7460 7465 3768 10221 22435\n",
       "1        1                                               2825\n",
       "2        2                        10184 3500 10241 10185 1700\n",
       "3        3                                 5365 699 3016 6675\n",
       "4        4   1168 15939 23677 9813 4683 17241 19662 8720 2..."
      ]
     },
     "execution_count": 7,
     "metadata": {},
     "output_type": "execute_result"
    }
   ],
   "source": [
    "test.head()"
   ]
  },
  {
   "cell_type": "code",
   "execution_count": 8,
   "metadata": {},
   "outputs": [
    {
     "data": {
      "text/html": [
       "<div>\n",
       "<style scoped>\n",
       "    .dataframe tbody tr th:only-of-type {\n",
       "        vertical-align: middle;\n",
       "    }\n",
       "\n",
       "    .dataframe tbody tr th {\n",
       "        vertical-align: top;\n",
       "    }\n",
       "\n",
       "    .dataframe thead th {\n",
       "        text-align: right;\n",
       "    }\n",
       "</style>\n",
       "<table border=\"1\" class=\"dataframe\">\n",
       "  <thead>\n",
       "    <tr style=\"text-align: right;\">\n",
       "      <th></th>\n",
       "      <th>org_id</th>\n",
       "      <th>remap_id</th>\n",
       "    </tr>\n",
       "  </thead>\n",
       "  <tbody>\n",
       "    <tr>\n",
       "      <th>0</th>\n",
       "      <td>A3RTKL9KB8KLID</td>\n",
       "      <td>0</td>\n",
       "    </tr>\n",
       "    <tr>\n",
       "      <th>1</th>\n",
       "      <td>A38LAIK2N83NH0</td>\n",
       "      <td>1</td>\n",
       "    </tr>\n",
       "    <tr>\n",
       "      <th>2</th>\n",
       "      <td>A3PPXVR5J6U2JD</td>\n",
       "      <td>2</td>\n",
       "    </tr>\n",
       "    <tr>\n",
       "      <th>3</th>\n",
       "      <td>A2ULDDL3MLJPUR</td>\n",
       "      <td>3</td>\n",
       "    </tr>\n",
       "    <tr>\n",
       "      <th>4</th>\n",
       "      <td>A2I6MHMAZZDCRX</td>\n",
       "      <td>4</td>\n",
       "    </tr>\n",
       "  </tbody>\n",
       "</table>\n",
       "</div>"
      ],
      "text/plain": [
       "           org_id  remap_id\n",
       "0  A3RTKL9KB8KLID         0\n",
       "1  A38LAIK2N83NH0         1\n",
       "2  A3PPXVR5J6U2JD         2\n",
       "3  A2ULDDL3MLJPUR         3\n",
       "4  A2I6MHMAZZDCRX         4"
      ]
     },
     "execution_count": 8,
     "metadata": {},
     "output_type": "execute_result"
    }
   ],
   "source": [
    "user_list.head()"
   ]
  },
  {
   "cell_type": "code",
   "execution_count": 9,
   "metadata": {},
   "outputs": [
    {
     "data": {
      "text/html": [
       "<div>\n",
       "<style scoped>\n",
       "    .dataframe tbody tr th:only-of-type {\n",
       "        vertical-align: middle;\n",
       "    }\n",
       "\n",
       "    .dataframe tbody tr th {\n",
       "        vertical-align: top;\n",
       "    }\n",
       "\n",
       "    .dataframe thead th {\n",
       "        text-align: right;\n",
       "    }\n",
       "</style>\n",
       "<table border=\"1\" class=\"dataframe\">\n",
       "  <thead>\n",
       "    <tr style=\"text-align: right;\">\n",
       "      <th></th>\n",
       "      <th>org_id</th>\n",
       "      <th>remap_id</th>\n",
       "      <th>freebase_id</th>\n",
       "    </tr>\n",
       "  </thead>\n",
       "  <tbody>\n",
       "    <tr>\n",
       "      <th>0</th>\n",
       "      <td>0553092626</td>\n",
       "      <td>0</td>\n",
       "      <td>m.045wq1q</td>\n",
       "    </tr>\n",
       "    <tr>\n",
       "      <th>1</th>\n",
       "      <td>0393316041</td>\n",
       "      <td>1</td>\n",
       "      <td>m.03_28m</td>\n",
       "    </tr>\n",
       "    <tr>\n",
       "      <th>2</th>\n",
       "      <td>038548254X</td>\n",
       "      <td>2</td>\n",
       "      <td>m.0h2q1cq</td>\n",
       "    </tr>\n",
       "    <tr>\n",
       "      <th>3</th>\n",
       "      <td>0385307756</td>\n",
       "      <td>3</td>\n",
       "      <td>m.04y9jxd</td>\n",
       "    </tr>\n",
       "    <tr>\n",
       "      <th>4</th>\n",
       "      <td>038531258X</td>\n",
       "      <td>4</td>\n",
       "      <td>m.060c1r</td>\n",
       "    </tr>\n",
       "  </tbody>\n",
       "</table>\n",
       "</div>"
      ],
      "text/plain": [
       "       org_id  remap_id freebase_id\n",
       "0  0553092626         0   m.045wq1q\n",
       "1  0393316041         1    m.03_28m\n",
       "2  038548254X         2   m.0h2q1cq\n",
       "3  0385307756         3   m.04y9jxd\n",
       "4  038531258X         4    m.060c1r"
      ]
     },
     "execution_count": 9,
     "metadata": {},
     "output_type": "execute_result"
    }
   ],
   "source": [
    "item_list.head()"
   ]
  },
  {
   "cell_type": "code",
   "execution_count": 68,
   "metadata": {},
   "outputs": [
    {
     "data": {
      "text/html": [
       "<div>\n",
       "<style scoped>\n",
       "    .dataframe tbody tr th:only-of-type {\n",
       "        vertical-align: middle;\n",
       "    }\n",
       "\n",
       "    .dataframe tbody tr th {\n",
       "        vertical-align: top;\n",
       "    }\n",
       "\n",
       "    .dataframe thead th {\n",
       "        text-align: right;\n",
       "    }\n",
       "</style>\n",
       "<table border=\"1\" class=\"dataframe\">\n",
       "  <thead>\n",
       "    <tr style=\"text-align: right;\">\n",
       "      <th></th>\n",
       "      <th>head_entity_id</th>\n",
       "      <th>relation</th>\n",
       "      <th>tail_entity_id</th>\n",
       "    </tr>\n",
       "  </thead>\n",
       "  <tbody>\n",
       "    <tr>\n",
       "      <th>0</th>\n",
       "      <td>24915</td>\n",
       "      <td>0</td>\n",
       "      <td>24916</td>\n",
       "    </tr>\n",
       "    <tr>\n",
       "      <th>1</th>\n",
       "      <td>24917</td>\n",
       "      <td>1</td>\n",
       "      <td>5117</td>\n",
       "    </tr>\n",
       "    <tr>\n",
       "      <th>2</th>\n",
       "      <td>24918</td>\n",
       "      <td>0</td>\n",
       "      <td>24917</td>\n",
       "    </tr>\n",
       "    <tr>\n",
       "      <th>3</th>\n",
       "      <td>24919</td>\n",
       "      <td>1</td>\n",
       "      <td>24920</td>\n",
       "    </tr>\n",
       "    <tr>\n",
       "      <th>4</th>\n",
       "      <td>24921</td>\n",
       "      <td>2</td>\n",
       "      <td>24922</td>\n",
       "    </tr>\n",
       "  </tbody>\n",
       "</table>\n",
       "</div>"
      ],
      "text/plain": [
       "   head_entity_id  relation  tail_entity_id\n",
       "0           24915         0           24916\n",
       "1           24917         1            5117\n",
       "2           24918         0           24917\n",
       "3           24919         1           24920\n",
       "4           24921         2           24922"
      ]
     },
     "execution_count": 68,
     "metadata": {},
     "output_type": "execute_result"
    }
   ],
   "source": [
    "kg_final.head()"
   ]
  },
  {
   "cell_type": "markdown",
   "metadata": {},
   "source": [
    "## Create user-entity interactions \n",
    "\n",
    "user_id | relation |entity_id \n",
    "\n",
    "user_id from train \n",
    "\n",
    "relation: \"interacts\" \n",
    "\n",
    "entity_id: from freebase_id in item_list"
   ]
  },
  {
   "cell_type": "code",
   "execution_count": 11,
   "metadata": {},
   "outputs": [],
   "source": [
    "#1. need to expand the items in train \n",
    "expanded_train = train.set_index('user_id')['item_id'].str.split().explode().reset_index()"
   ]
  },
  {
   "cell_type": "code",
   "execution_count": 12,
   "metadata": {},
   "outputs": [],
   "source": [
    "expanded_train['item_id'] = expanded_train['item_id'].astype(int)"
   ]
  },
  {
   "cell_type": "code",
   "execution_count": 13,
   "metadata": {},
   "outputs": [],
   "source": [
    "item_list['remap_id'] = item_list['remap_id'].astype(int)"
   ]
  },
  {
   "cell_type": "code",
   "execution_count": 14,
   "metadata": {},
   "outputs": [],
   "source": [
    "# Merge with item_list to get freebase_id\n",
    "user_entity_interactions = expanded_train.merge(item_list, left_on='item_id', right_on='remap_id')\n",
    "\n"
   ]
  },
  {
   "cell_type": "code",
   "execution_count": 15,
   "metadata": {},
   "outputs": [],
   "source": [
    "\n",
    "# Step 4: Keep only necessary columns\n",
    "user_entity_interactions = user_entity_interactions[['user_id', 'freebase_id']].rename(columns={'freebase_id': 'entity_id'})\n",
    "\n",
    "# Step 5: Add the interaction relation\n",
    "#there are already 38 relationship types in the relation_list.txt file \n",
    "#I add a 39th to indicate an interaction specifically for this use case\n",
    "user_entity_interactions['relation'] = 39 \n",
    "\n",
    "# Reorder columns for clarity\n",
    "user_entity_interactions = user_entity_interactions[['user_id', 'relation', 'entity_id']]\n",
    "\n"
   ]
  },
  {
   "cell_type": "code",
   "execution_count": 16,
   "metadata": {},
   "outputs": [
    {
     "data": {
      "text/html": [
       "<div>\n",
       "<style scoped>\n",
       "    .dataframe tbody tr th:only-of-type {\n",
       "        vertical-align: middle;\n",
       "    }\n",
       "\n",
       "    .dataframe tbody tr th {\n",
       "        vertical-align: top;\n",
       "    }\n",
       "\n",
       "    .dataframe thead th {\n",
       "        text-align: right;\n",
       "    }\n",
       "</style>\n",
       "<table border=\"1\" class=\"dataframe\">\n",
       "  <thead>\n",
       "    <tr style=\"text-align: right;\">\n",
       "      <th></th>\n",
       "      <th>user_id</th>\n",
       "      <th>relation</th>\n",
       "      <th>entity_id</th>\n",
       "    </tr>\n",
       "  </thead>\n",
       "  <tbody>\n",
       "    <tr>\n",
       "      <th>0</th>\n",
       "      <td>0</td>\n",
       "      <td>39</td>\n",
       "      <td>m.045wq1q</td>\n",
       "    </tr>\n",
       "    <tr>\n",
       "      <th>1</th>\n",
       "      <td>10</td>\n",
       "      <td>39</td>\n",
       "      <td>m.045wq1q</td>\n",
       "    </tr>\n",
       "    <tr>\n",
       "      <th>2</th>\n",
       "      <td>20</td>\n",
       "      <td>39</td>\n",
       "      <td>m.045wq1q</td>\n",
       "    </tr>\n",
       "    <tr>\n",
       "      <th>3</th>\n",
       "      <td>30</td>\n",
       "      <td>39</td>\n",
       "      <td>m.045wq1q</td>\n",
       "    </tr>\n",
       "    <tr>\n",
       "      <th>4</th>\n",
       "      <td>40</td>\n",
       "      <td>39</td>\n",
       "      <td>m.045wq1q</td>\n",
       "    </tr>\n",
       "    <tr>\n",
       "      <th>...</th>\n",
       "      <td>...</td>\n",
       "      <td>...</td>\n",
       "      <td>...</td>\n",
       "    </tr>\n",
       "    <tr>\n",
       "      <th>723178</th>\n",
       "      <td>70512</td>\n",
       "      <td>39</td>\n",
       "      <td>m.011c3tgn</td>\n",
       "    </tr>\n",
       "    <tr>\n",
       "      <th>723179</th>\n",
       "      <td>70537</td>\n",
       "      <td>39</td>\n",
       "      <td>m.0115wv74</td>\n",
       "    </tr>\n",
       "    <tr>\n",
       "      <th>723180</th>\n",
       "      <td>70550</td>\n",
       "      <td>39</td>\n",
       "      <td>m.010s0my0</td>\n",
       "    </tr>\n",
       "    <tr>\n",
       "      <th>723181</th>\n",
       "      <td>70610</td>\n",
       "      <td>39</td>\n",
       "      <td>m.01131zx0</td>\n",
       "    </tr>\n",
       "    <tr>\n",
       "      <th>723182</th>\n",
       "      <td>70641</td>\n",
       "      <td>39</td>\n",
       "      <td>m.0106b8n9</td>\n",
       "    </tr>\n",
       "  </tbody>\n",
       "</table>\n",
       "<p>723183 rows × 3 columns</p>\n",
       "</div>"
      ],
      "text/plain": [
       "        user_id  relation   entity_id\n",
       "0             0        39   m.045wq1q\n",
       "1            10        39   m.045wq1q\n",
       "2            20        39   m.045wq1q\n",
       "3            30        39   m.045wq1q\n",
       "4            40        39   m.045wq1q\n",
       "...         ...       ...         ...\n",
       "723178    70512        39  m.011c3tgn\n",
       "723179    70537        39  m.0115wv74\n",
       "723180    70550        39  m.010s0my0\n",
       "723181    70610        39  m.01131zx0\n",
       "723182    70641        39  m.0106b8n9\n",
       "\n",
       "[723183 rows x 3 columns]"
      ]
     },
     "execution_count": 16,
     "metadata": {},
     "output_type": "execute_result"
    }
   ],
   "source": [
    "user_entity_interactions"
   ]
  },
  {
   "cell_type": "code",
   "execution_count": 23,
   "metadata": {},
   "outputs": [],
   "source": [
    "entity_list = pd.read_csv(\"data/entity_list.txt\", header = None).reset_index()\n"
   ]
  },
  {
   "cell_type": "code",
   "execution_count": 43,
   "metadata": {},
   "outputs": [],
   "source": [
    "entity_list = pd.DataFrame(entity_list[0].str.split().tolist())"
   ]
  },
  {
   "cell_type": "code",
   "execution_count": 46,
   "metadata": {},
   "outputs": [],
   "source": [
    "entity_list = entity_list[[0,1]]"
   ]
  },
  {
   "cell_type": "code",
   "execution_count": 50,
   "metadata": {},
   "outputs": [],
   "source": [
    "entity_list.columns = entity_list.iloc[0]"
   ]
  },
  {
   "cell_type": "code",
   "execution_count": 55,
   "metadata": {},
   "outputs": [],
   "source": [
    "entity_list = entity_list.drop(entity_list.index[0])"
   ]
  },
  {
   "cell_type": "code",
   "execution_count": 56,
   "metadata": {},
   "outputs": [
    {
     "data": {
      "text/html": [
       "<div>\n",
       "<style scoped>\n",
       "    .dataframe tbody tr th:only-of-type {\n",
       "        vertical-align: middle;\n",
       "    }\n",
       "\n",
       "    .dataframe tbody tr th {\n",
       "        vertical-align: top;\n",
       "    }\n",
       "\n",
       "    .dataframe thead th {\n",
       "        text-align: right;\n",
       "    }\n",
       "</style>\n",
       "<table border=\"1\" class=\"dataframe\">\n",
       "  <thead>\n",
       "    <tr style=\"text-align: right;\">\n",
       "      <th></th>\n",
       "      <th>org_id</th>\n",
       "      <th>remap_id</th>\n",
       "    </tr>\n",
       "  </thead>\n",
       "  <tbody>\n",
       "    <tr>\n",
       "      <th>1</th>\n",
       "      <td>m.045wq1q</td>\n",
       "      <td>0</td>\n",
       "    </tr>\n",
       "    <tr>\n",
       "      <th>2</th>\n",
       "      <td>m.03_28m</td>\n",
       "      <td>1</td>\n",
       "    </tr>\n",
       "    <tr>\n",
       "      <th>3</th>\n",
       "      <td>m.0h2q1cq</td>\n",
       "      <td>2</td>\n",
       "    </tr>\n",
       "    <tr>\n",
       "      <th>4</th>\n",
       "      <td>m.04y9jxd</td>\n",
       "      <td>3</td>\n",
       "    </tr>\n",
       "    <tr>\n",
       "      <th>5</th>\n",
       "      <td>m.060c1r</td>\n",
       "      <td>4</td>\n",
       "    </tr>\n",
       "    <tr>\n",
       "      <th>...</th>\n",
       "      <td>...</td>\n",
       "      <td>...</td>\n",
       "    </tr>\n",
       "    <tr>\n",
       "      <th>83459</th>\n",
       "      <td>m.06388l</td>\n",
       "      <td>113482</td>\n",
       "    </tr>\n",
       "    <tr>\n",
       "      <th>83460</th>\n",
       "      <td>m.0dc6ph</td>\n",
       "      <td>113483</td>\n",
       "    </tr>\n",
       "    <tr>\n",
       "      <th>83461</th>\n",
       "      <td>m.0j1d6ks</td>\n",
       "      <td>113484</td>\n",
       "    </tr>\n",
       "    <tr>\n",
       "      <th>83462</th>\n",
       "      <td>m.06hg41c</td>\n",
       "      <td>113485</td>\n",
       "    </tr>\n",
       "    <tr>\n",
       "      <th>83463</th>\n",
       "      <td>m.083nc0</td>\n",
       "      <td>113486</td>\n",
       "    </tr>\n",
       "  </tbody>\n",
       "</table>\n",
       "<p>83463 rows × 2 columns</p>\n",
       "</div>"
      ],
      "text/plain": [
       "0         org_id remap_id\n",
       "1      m.045wq1q        0\n",
       "2       m.03_28m        1\n",
       "3      m.0h2q1cq        2\n",
       "4      m.04y9jxd        3\n",
       "5       m.060c1r        4\n",
       "...          ...      ...\n",
       "83459   m.06388l   113482\n",
       "83460   m.0dc6ph   113483\n",
       "83461  m.0j1d6ks   113484\n",
       "83462  m.06hg41c   113485\n",
       "83463   m.083nc0   113486\n",
       "\n",
       "[83463 rows x 2 columns]"
      ]
     },
     "execution_count": 56,
     "metadata": {},
     "output_type": "execute_result"
    }
   ],
   "source": [
    "entity_list"
   ]
  },
  {
   "cell_type": "code",
   "execution_count": 60,
   "metadata": {},
   "outputs": [],
   "source": [
    "user_entity = pd.merge(user_entity_interactions, entity_list, how = 'left',  left_on = ['entity_id'], right_on = ['org_id'])"
   ]
  },
  {
   "cell_type": "code",
   "execution_count": 62,
   "metadata": {},
   "outputs": [],
   "source": [
    "user_entity = user_entity[['user_id', 'relation', 'entity_id', 'remap_id']]"
   ]
  },
  {
   "cell_type": "code",
   "execution_count": 82,
   "metadata": {},
   "outputs": [],
   "source": [
    "user_entity['remap_id'] = user_entity['remap_id'].astype(int)"
   ]
  },
  {
   "cell_type": "code",
   "execution_count": 83,
   "metadata": {},
   "outputs": [
    {
     "data": {
      "text/html": [
       "<div>\n",
       "<style scoped>\n",
       "    .dataframe tbody tr th:only-of-type {\n",
       "        vertical-align: middle;\n",
       "    }\n",
       "\n",
       "    .dataframe tbody tr th {\n",
       "        vertical-align: top;\n",
       "    }\n",
       "\n",
       "    .dataframe thead th {\n",
       "        text-align: right;\n",
       "    }\n",
       "</style>\n",
       "<table border=\"1\" class=\"dataframe\">\n",
       "  <thead>\n",
       "    <tr style=\"text-align: right;\">\n",
       "      <th></th>\n",
       "      <th>user_id</th>\n",
       "      <th>relation</th>\n",
       "      <th>entity_id</th>\n",
       "      <th>remap_id</th>\n",
       "    </tr>\n",
       "  </thead>\n",
       "  <tbody>\n",
       "    <tr>\n",
       "      <th>0</th>\n",
       "      <td>0</td>\n",
       "      <td>39</td>\n",
       "      <td>m.045wq1q</td>\n",
       "      <td>0</td>\n",
       "    </tr>\n",
       "    <tr>\n",
       "      <th>1</th>\n",
       "      <td>10</td>\n",
       "      <td>39</td>\n",
       "      <td>m.045wq1q</td>\n",
       "      <td>0</td>\n",
       "    </tr>\n",
       "    <tr>\n",
       "      <th>2</th>\n",
       "      <td>20</td>\n",
       "      <td>39</td>\n",
       "      <td>m.045wq1q</td>\n",
       "      <td>0</td>\n",
       "    </tr>\n",
       "    <tr>\n",
       "      <th>3</th>\n",
       "      <td>30</td>\n",
       "      <td>39</td>\n",
       "      <td>m.045wq1q</td>\n",
       "      <td>0</td>\n",
       "    </tr>\n",
       "    <tr>\n",
       "      <th>4</th>\n",
       "      <td>40</td>\n",
       "      <td>39</td>\n",
       "      <td>m.045wq1q</td>\n",
       "      <td>0</td>\n",
       "    </tr>\n",
       "  </tbody>\n",
       "</table>\n",
       "</div>"
      ],
      "text/plain": [
       "   user_id  relation  entity_id  remap_id\n",
       "0        0        39  m.045wq1q         0\n",
       "1       10        39  m.045wq1q         0\n",
       "2       20        39  m.045wq1q         0\n",
       "3       30        39  m.045wq1q         0\n",
       "4       40        39  m.045wq1q         0"
      ]
     },
     "execution_count": 83,
     "metadata": {},
     "output_type": "execute_result"
    }
   ],
   "source": [
    "user_entity.head()"
   ]
  },
  {
   "cell_type": "code",
   "execution_count": 65,
   "metadata": {},
   "outputs": [
    {
     "data": {
      "text/plain": [
       "(723183, 4)"
      ]
     },
     "execution_count": 65,
     "metadata": {},
     "output_type": "execute_result"
    }
   ],
   "source": [
    "user_entity.shape"
   ]
  },
  {
   "cell_type": "code",
   "execution_count": 69,
   "metadata": {},
   "outputs": [
    {
     "data": {
      "text/html": [
       "<div>\n",
       "<style scoped>\n",
       "    .dataframe tbody tr th:only-of-type {\n",
       "        vertical-align: middle;\n",
       "    }\n",
       "\n",
       "    .dataframe tbody tr th {\n",
       "        vertical-align: top;\n",
       "    }\n",
       "\n",
       "    .dataframe thead th {\n",
       "        text-align: right;\n",
       "    }\n",
       "</style>\n",
       "<table border=\"1\" class=\"dataframe\">\n",
       "  <thead>\n",
       "    <tr style=\"text-align: right;\">\n",
       "      <th></th>\n",
       "      <th>head_entity_id</th>\n",
       "      <th>relation</th>\n",
       "      <th>tail_entity_id</th>\n",
       "    </tr>\n",
       "  </thead>\n",
       "  <tbody>\n",
       "    <tr>\n",
       "      <th>0</th>\n",
       "      <td>24915</td>\n",
       "      <td>0</td>\n",
       "      <td>24916</td>\n",
       "    </tr>\n",
       "    <tr>\n",
       "      <th>1</th>\n",
       "      <td>24917</td>\n",
       "      <td>1</td>\n",
       "      <td>5117</td>\n",
       "    </tr>\n",
       "    <tr>\n",
       "      <th>2</th>\n",
       "      <td>24918</td>\n",
       "      <td>0</td>\n",
       "      <td>24917</td>\n",
       "    </tr>\n",
       "    <tr>\n",
       "      <th>3</th>\n",
       "      <td>24919</td>\n",
       "      <td>1</td>\n",
       "      <td>24920</td>\n",
       "    </tr>\n",
       "    <tr>\n",
       "      <th>4</th>\n",
       "      <td>24921</td>\n",
       "      <td>2</td>\n",
       "      <td>24922</td>\n",
       "    </tr>\n",
       "  </tbody>\n",
       "</table>\n",
       "</div>"
      ],
      "text/plain": [
       "   head_entity_id  relation  tail_entity_id\n",
       "0           24915         0           24916\n",
       "1           24917         1            5117\n",
       "2           24918         0           24917\n",
       "3           24919         1           24920\n",
       "4           24921         2           24922"
      ]
     },
     "execution_count": 69,
     "metadata": {},
     "output_type": "execute_result"
    }
   ],
   "source": [
    "kg_final.head()"
   ]
  },
  {
   "cell_type": "code",
   "execution_count": 70,
   "metadata": {},
   "outputs": [
    {
     "data": {
      "text/plain": [
       "(2557746, 3)"
      ]
     },
     "execution_count": 70,
     "metadata": {},
     "output_type": "execute_result"
    }
   ],
   "source": [
    "kg_final.shape"
   ]
  },
  {
   "cell_type": "markdown",
   "metadata": {},
   "source": [
    "**Collaborative Knowledge Graph = user_entity + kg_final**"
   ]
  },
  {
   "cell_type": "code",
   "execution_count": 86,
   "metadata": {},
   "outputs": [],
   "source": [
    "ckg = kg_final.rename(columns = {'head_entity_id':'head', \n",
    "                                 'tail_entity_id': 'tail'})\n",
    "ckg2 = user_entity[['user_id', 'relation', 'remap_id']].rename(columns = {'user_id': 'head',\n",
    "                                                                          'remap_id':'tail'})"
   ]
  },
  {
   "cell_type": "code",
   "execution_count": 89,
   "metadata": {},
   "outputs": [],
   "source": [
    "ckg = pd.concat([ckg, ckg2], ignore_index = True)"
   ]
  },
  {
   "cell_type": "code",
   "execution_count": 90,
   "metadata": {},
   "outputs": [
    {
     "data": {
      "text/html": [
       "<div>\n",
       "<style scoped>\n",
       "    .dataframe tbody tr th:only-of-type {\n",
       "        vertical-align: middle;\n",
       "    }\n",
       "\n",
       "    .dataframe tbody tr th {\n",
       "        vertical-align: top;\n",
       "    }\n",
       "\n",
       "    .dataframe thead th {\n",
       "        text-align: right;\n",
       "    }\n",
       "</style>\n",
       "<table border=\"1\" class=\"dataframe\">\n",
       "  <thead>\n",
       "    <tr style=\"text-align: right;\">\n",
       "      <th></th>\n",
       "      <th>head</th>\n",
       "      <th>relation</th>\n",
       "      <th>tail</th>\n",
       "    </tr>\n",
       "  </thead>\n",
       "  <tbody>\n",
       "    <tr>\n",
       "      <th>0</th>\n",
       "      <td>24915</td>\n",
       "      <td>0</td>\n",
       "      <td>24916</td>\n",
       "    </tr>\n",
       "    <tr>\n",
       "      <th>1</th>\n",
       "      <td>24917</td>\n",
       "      <td>1</td>\n",
       "      <td>5117</td>\n",
       "    </tr>\n",
       "    <tr>\n",
       "      <th>2</th>\n",
       "      <td>24918</td>\n",
       "      <td>0</td>\n",
       "      <td>24917</td>\n",
       "    </tr>\n",
       "    <tr>\n",
       "      <th>3</th>\n",
       "      <td>24919</td>\n",
       "      <td>1</td>\n",
       "      <td>24920</td>\n",
       "    </tr>\n",
       "    <tr>\n",
       "      <th>4</th>\n",
       "      <td>24921</td>\n",
       "      <td>2</td>\n",
       "      <td>24922</td>\n",
       "    </tr>\n",
       "    <tr>\n",
       "      <th>...</th>\n",
       "      <td>...</td>\n",
       "      <td>...</td>\n",
       "      <td>...</td>\n",
       "    </tr>\n",
       "    <tr>\n",
       "      <th>3280924</th>\n",
       "      <td>70512</td>\n",
       "      <td>39</td>\n",
       "      <td>24910</td>\n",
       "    </tr>\n",
       "    <tr>\n",
       "      <th>3280925</th>\n",
       "      <td>70537</td>\n",
       "      <td>39</td>\n",
       "      <td>24911</td>\n",
       "    </tr>\n",
       "    <tr>\n",
       "      <th>3280926</th>\n",
       "      <td>70550</td>\n",
       "      <td>39</td>\n",
       "      <td>24912</td>\n",
       "    </tr>\n",
       "    <tr>\n",
       "      <th>3280927</th>\n",
       "      <td>70610</td>\n",
       "      <td>39</td>\n",
       "      <td>24913</td>\n",
       "    </tr>\n",
       "    <tr>\n",
       "      <th>3280928</th>\n",
       "      <td>70641</td>\n",
       "      <td>39</td>\n",
       "      <td>24914</td>\n",
       "    </tr>\n",
       "  </tbody>\n",
       "</table>\n",
       "<p>3280929 rows × 3 columns</p>\n",
       "</div>"
      ],
      "text/plain": [
       "          head  relation   tail\n",
       "0        24915         0  24916\n",
       "1        24917         1   5117\n",
       "2        24918         0  24917\n",
       "3        24919         1  24920\n",
       "4        24921         2  24922\n",
       "...        ...       ...    ...\n",
       "3280924  70512        39  24910\n",
       "3280925  70537        39  24911\n",
       "3280926  70550        39  24912\n",
       "3280927  70610        39  24913\n",
       "3280928  70641        39  24914\n",
       "\n",
       "[3280929 rows x 3 columns]"
      ]
     },
     "execution_count": 90,
     "metadata": {},
     "output_type": "execute_result"
    }
   ],
   "source": [
    "ckg"
   ]
  },
  {
   "cell_type": "code",
   "execution_count": null,
   "metadata": {},
   "outputs": [],
   "source": [
    "#ckg.to_csv(\"data/ckg.csv\")"
   ]
  },
  {
   "cell_type": "markdown",
   "metadata": {},
   "source": [
    "## Negative Sampling in KGAT\n",
    "chatgpt "
   ]
  },
  {
   "cell_type": "code",
   "execution_count": 92,
   "metadata": {},
   "outputs": [],
   "source": [
    "import random\n",
    "\n",
    "def generate_negative_samples(ckg, num_neg_samples=1):\n",
    "    \"\"\"\n",
    "    Generate negative samples for the CKG data.\n",
    "    \n",
    "    Args:\n",
    "        ckg (DataFrame): Collaborative Knowledge Graph with columns ['head', 'relation', 'tail'].\n",
    "        num_neg_samples (int): Number of negative samples to generate per positive sample.\n",
    "    \n",
    "    Returns:\n",
    "        neg_samples (DataFrame): DataFrame containing negative samples.\n",
    "    \"\"\"\n",
    "    neg_samples = []\n",
    "    entities = list(set(ckg['head']).union(set(ckg['tail'])))  # All entities (users, items, entities)\n",
    "\n",
    "    for _, row in ckg.iterrows():\n",
    "        head, relation, tail = row['head'], row['relation'], row['tail']\n",
    "        \n",
    "        # Generate negative samples by corrupting the tail\n",
    "        for _ in range(num_neg_samples):\n",
    "            neg_tail = random.choice(entities)\n",
    "            while (head, relation, neg_tail) in ckg.values:\n",
    "                neg_tail = random.choice(entities)  # Ensure the negative sample is invalid\n",
    "            neg_samples.append([head, relation, neg_tail])\n",
    "\n",
    "    neg_samples_df = pd.DataFrame(neg_samples, columns=['head', 'relation', 'tail'])\n",
    "    return neg_samples_df\n"
   ]
  },
  {
   "cell_type": "markdown",
   "metadata": {},
   "source": []
  },
  {
   "cell_type": "markdown",
   "metadata": {},
   "source": [
    "# CKG Embedding Layer\n",
    "\n",
    "In passage 3.1, the KGAT paper discusses how they employe TransR on CKG. This method learns embeds from each entity and relation by optimizing the translation principle $e_h^r + e_r \\approx e^r_t$\n",
    "\n",
    "Our ckg data has the triplet (h,r, t)\n",
    "\n",
    "``def _build_model_phase_II(self):\n",
    "        self.h_e, self.r_e, self.pos_t_e, self.neg_t_e = self._get_kg_inference(self.h, self.r, self.pos_t, self.neg_t)\n",
    "        self.A_kg_score = self._generate_transE_score(h=self.h, t=self.pos_t, r=self.r)\n",
    "        self.A_out = self._create_attentive_A_out()``"
   ]
  },
  {
   "cell_type": "code",
   "execution_count": null,
   "metadata": {},
   "outputs": [],
   "source": []
  },
  {
   "cell_type": "code",
   "execution_count": null,
   "metadata": {},
   "outputs": [],
   "source": []
  },
  {
   "cell_type": "code",
   "execution_count": null,
   "metadata": {},
   "outputs": [],
   "source": []
  },
  {
   "cell_type": "code",
   "execution_count": null,
   "metadata": {},
   "outputs": [],
   "source": []
  },
  {
   "cell_type": "code",
   "execution_count": null,
   "metadata": {},
   "outputs": [],
   "source": []
  }
 ],
 "metadata": {
  "kernelspec": {
   "display_name": "base",
   "language": "python",
   "name": "python3"
  },
  "language_info": {
   "codemirror_mode": {
    "name": "ipython",
    "version": 3
   },
   "file_extension": ".py",
   "mimetype": "text/x-python",
   "name": "python",
   "nbconvert_exporter": "python",
   "pygments_lexer": "ipython3",
   "version": "3.11.0"
  }
 },
 "nbformat": 4,
 "nbformat_minor": 2
}
