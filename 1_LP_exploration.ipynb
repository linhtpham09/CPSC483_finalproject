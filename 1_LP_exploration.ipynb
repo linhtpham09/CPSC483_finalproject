{
 "cells": [
  {
   "cell_type": "code",
   "execution_count": 2,
   "metadata": {},
   "outputs": [
    {
     "name": "stdout",
     "output_type": "stream",
     "text": [
      "Defaulting to user installation because normal site-packages is not writeable\n",
      "Requirement already satisfied: torch_geometric in /Users/linhpham/Library/Python/3.9/lib/python/site-packages (2.6.1)\n",
      "Requirement already satisfied: aiohttp in /Users/linhpham/Library/Python/3.9/lib/python/site-packages (from torch_geometric) (3.10.8)\n",
      "Requirement already satisfied: fsspec in /Users/linhpham/Library/Python/3.9/lib/python/site-packages (from torch_geometric) (2024.9.0)\n",
      "Requirement already satisfied: jinja2 in /Users/linhpham/Library/Python/3.9/lib/python/site-packages (from torch_geometric) (3.1.4)\n",
      "Requirement already satisfied: numpy in /Users/linhpham/Library/Python/3.9/lib/python/site-packages (from torch_geometric) (1.23.5)\n",
      "Requirement already satisfied: psutil>=5.8.0 in /Users/linhpham/Library/Python/3.9/lib/python/site-packages (from torch_geometric) (5.9.7)\n",
      "Requirement already satisfied: pyparsing in /Users/linhpham/Library/Python/3.9/lib/python/site-packages (from torch_geometric) (3.1.1)\n",
      "Requirement already satisfied: requests in /Users/linhpham/Library/Python/3.9/lib/python/site-packages (from torch_geometric) (2.31.0)\n",
      "Requirement already satisfied: tqdm in /Users/linhpham/Library/Python/3.9/lib/python/site-packages (from torch_geometric) (4.66.1)\n",
      "Requirement already satisfied: aiohappyeyeballs>=2.3.0 in /Users/linhpham/Library/Python/3.9/lib/python/site-packages (from aiohttp->torch_geometric) (2.4.2)\n",
      "Requirement already satisfied: aiosignal>=1.1.2 in /Users/linhpham/Library/Python/3.9/lib/python/site-packages (from aiohttp->torch_geometric) (1.3.1)\n",
      "Requirement already satisfied: attrs>=17.3.0 in /Users/linhpham/Library/Python/3.9/lib/python/site-packages (from aiohttp->torch_geometric) (23.2.0)\n",
      "Requirement already satisfied: frozenlist>=1.1.1 in /Users/linhpham/Library/Python/3.9/lib/python/site-packages (from aiohttp->torch_geometric) (1.4.1)\n",
      "Requirement already satisfied: multidict<7.0,>=4.5 in /Users/linhpham/Library/Python/3.9/lib/python/site-packages (from aiohttp->torch_geometric) (6.1.0)\n",
      "Requirement already satisfied: yarl<2.0,>=1.12.0 in /Users/linhpham/Library/Python/3.9/lib/python/site-packages (from aiohttp->torch_geometric) (1.13.1)\n",
      "Requirement already satisfied: async-timeout<5.0,>=4.0 in /Users/linhpham/Library/Python/3.9/lib/python/site-packages (from aiohttp->torch_geometric) (4.0.3)\n",
      "Requirement already satisfied: MarkupSafe>=2.0 in /Users/linhpham/Library/Python/3.9/lib/python/site-packages (from jinja2->torch_geometric) (2.1.5)\n",
      "Requirement already satisfied: charset-normalizer<4,>=2 in /Users/linhpham/Library/Python/3.9/lib/python/site-packages (from requests->torch_geometric) (3.3.2)\n",
      "Requirement already satisfied: idna<4,>=2.5 in /Users/linhpham/Library/Python/3.9/lib/python/site-packages (from requests->torch_geometric) (2.10)\n",
      "Requirement already satisfied: urllib3<3,>=1.21.1 in /Users/linhpham/Library/Python/3.9/lib/python/site-packages (from requests->torch_geometric) (2.1.0)\n",
      "Requirement already satisfied: certifi>=2017.4.17 in /Users/linhpham/Library/Python/3.9/lib/python/site-packages (from requests->torch_geometric) (2023.7.22)\n",
      "Requirement already satisfied: typing-extensions>=4.1.0 in /Users/linhpham/Library/Python/3.9/lib/python/site-packages (from multidict<7.0,>=4.5->aiohttp->torch_geometric) (4.12.2)\n",
      "Defaulting to user installation because normal site-packages is not writeable\n",
      "Looking in links: https://data.pyg.org/whl/torch-2.4.1+cpu.html\n",
      "Requirement already satisfied: pyg_lib in /Users/linhpham/Library/Python/3.9/lib/python/site-packages (0.4.0+pt24)\n",
      "Requirement already satisfied: torch_scatter in /Users/linhpham/Library/Python/3.9/lib/python/site-packages (2.1.2)\n",
      "Requirement already satisfied: torch_sparse in /Users/linhpham/Library/Python/3.9/lib/python/site-packages (0.6.18)\n",
      "Requirement already satisfied: torch_cluster in /Users/linhpham/Library/Python/3.9/lib/python/site-packages (1.6.3)\n",
      "Requirement already satisfied: torch_spline_conv in /Users/linhpham/Library/Python/3.9/lib/python/site-packages (1.2.2)\n",
      "Requirement already satisfied: scipy in /Users/linhpham/Library/Python/3.9/lib/python/site-packages (from torch_sparse) (1.11.4)\n",
      "Requirement already satisfied: numpy<1.28.0,>=1.21.6 in /Users/linhpham/Library/Python/3.9/lib/python/site-packages (from scipy->torch_sparse) (1.23.5)\n"
     ]
    }
   ],
   "source": [
    "!pip install torch_geometric\n",
    "\n",
    "# Optional dependencies:\n",
    "!pip install pyg_lib torch_scatter torch_sparse torch_cluster torch_spline_conv -f https://data.pyg.org/whl/torch-2.4.1+cpu.html"
   ]
  },
  {
   "cell_type": "code",
   "execution_count": 3,
   "metadata": {},
   "outputs": [
    {
     "name": "stdout",
     "output_type": "stream",
     "text": [
      "Defaulting to user installation because normal site-packages is not writeable\n",
      "Requirement already satisfied: numpy==1.23.5 in /Users/linhpham/Library/Python/3.9/lib/python/site-packages (1.23.5)\n",
      "Requirement already satisfied: pandas==1.5.3 in /Users/linhpham/Library/Python/3.9/lib/python/site-packages (1.5.3)\n",
      "Requirement already satisfied: python-dateutil>=2.8.1 in /Users/linhpham/Library/Python/3.9/lib/python/site-packages (from pandas==1.5.3) (2.8.2)\n",
      "Requirement already satisfied: pytz>=2020.1 in /Users/linhpham/Library/Python/3.9/lib/python/site-packages (from pandas==1.5.3) (2023.3.post1)\n",
      "Requirement already satisfied: six>=1.5 in /Library/Developer/CommandLineTools/Library/Frameworks/Python3.framework/Versions/3.9/lib/python3.9/site-packages (from python-dateutil>=2.8.1->pandas==1.5.3) (1.15.0)\n",
      "Note: you may need to restart the kernel to use updated packages.\n"
     ]
    }
   ],
   "source": [
    "pip install numpy==1.23.5 pandas==1.5.3\n"
   ]
  },
  {
   "cell_type": "code",
   "execution_count": 4,
   "metadata": {},
   "outputs": [],
   "source": [
    "from torch_geometric.datasets import AmazonBook"
   ]
  },
  {
   "cell_type": "code",
   "execution_count": 7,
   "metadata": {},
   "outputs": [
    {
     "name": "stderr",
     "output_type": "stream",
     "text": [
      "Processing...\n",
      "Done!\n"
     ]
    }
   ],
   "source": [
    "dataset = AmazonBook(root = './amazonbook')"
   ]
  },
  {
   "cell_type": "code",
   "execution_count": null,
   "metadata": {},
   "outputs": [],
   "source": [
    "dataset[0]"
   ]
  },
  {
   "cell_type": "code",
   "execution_count": null,
   "metadata": {},
   "outputs": [],
   "source": [
    "dataset.num_features"
   ]
  },
  {
   "cell_type": "code",
   "execution_count": null,
   "metadata": {},
   "outputs": [],
   "source": [
    "# Load the processed data\n",
    "print(dataset[0])\n",
    "\n",
    "# Check the node types and number of nodes\n",
    "print(f\"User nodes: {dataset[0]['user'].num_nodes}\")\n",
    "print(f\"Book nodes: {dataset[0]['book'].num_nodes}\")"
   ]
  },
  {
   "cell_type": "code",
   "execution_count": null,
   "metadata": {},
   "outputs": [],
   "source": [
    "\n",
    "# Inspect the edge indices (relationship between users and books)\n",
    "print(f\"Edge index (user -> book): \\n {dataset[0]['user', 'rates', 'book']['edge_index']}\")\n",
    "print(f\"Edge index (book -> user): \\n {dataset[0]['book', 'rated_by', 'user']['edge_index']}\")\n"
   ]
  },
  {
   "cell_type": "code",
   "execution_count": 9,
   "metadata": {},
   "outputs": [],
   "source": [
    "data = dataset[0]"
   ]
  },
  {
   "cell_type": "code",
   "execution_count": null,
   "metadata": {},
   "outputs": [],
   "source": [
    "print(\"Node types:\", data.node_types)\n",
    "print(\"Edge types:\", data.edge_types)\n"
   ]
  },
  {
   "cell_type": "code",
   "execution_count": null,
   "metadata": {},
   "outputs": [],
   "source": [
    "user_to_book_edge_index = data['user', 'rates', 'book']['edge_index']\n",
    "print('Edge index (user -> book):\\n', user_to_book_edge_index)\n"
   ]
  },
  {
   "cell_type": "code",
   "execution_count": 8,
   "metadata": {},
   "outputs": [],
   "source": [
    "from torch_geometric.datasets import MovieLens1M"
   ]
  },
  {
   "cell_type": "code",
   "execution_count": 9,
   "metadata": {},
   "outputs": [
    {
     "name": "stderr",
     "output_type": "stream",
     "text": [
      "Downloading https://files.grouplens.org/datasets/movielens/ml-1m.zip\n",
      "Extracting movielens/ml-1m.zip\n",
      "Processing...\n",
      "Done!\n"
     ]
    }
   ],
   "source": [
    "df = MovieLens1M(root = './movielens')"
   ]
  },
  {
   "cell_type": "code",
   "execution_count": 11,
   "metadata": {},
   "outputs": [],
   "source": [
    "movies = df[0]"
   ]
  },
  {
   "cell_type": "code",
   "execution_count": 12,
   "metadata": {},
   "outputs": [
    {
     "data": {
      "text/plain": [
       "HeteroData(\n",
       "  movie={ x=[3883, 18] },\n",
       "  user={ x=[6040, 30] },\n",
       "  (user, rates, movie)={\n",
       "    edge_index=[2, 1000209],\n",
       "    rating=[1000209],\n",
       "    time=[1000209],\n",
       "  },\n",
       "  (movie, rated_by, user)={\n",
       "    edge_index=[2, 1000209],\n",
       "    rating=[1000209],\n",
       "    time=[1000209],\n",
       "  }\n",
       ")"
      ]
     },
     "execution_count": 12,
     "metadata": {},
     "output_type": "execute_result"
    }
   ],
   "source": [
    "movies"
   ]
  },
  {
   "cell_type": "code",
   "execution_count": null,
   "metadata": {},
   "outputs": [],
   "source": []
  },
  {
   "cell_type": "code",
   "execution_count": null,
   "metadata": {},
   "outputs": [],
   "source": []
  }
 ],
 "metadata": {
  "kernelspec": {
   "display_name": "Python 3",
   "language": "python",
   "name": "python3"
  },
  "language_info": {
   "codemirror_mode": {
    "name": "ipython",
    "version": 3
   },
   "file_extension": ".py",
   "mimetype": "text/x-python",
   "name": "python",
   "nbconvert_exporter": "python",
   "pygments_lexer": "ipython3",
   "version": "3.9.6"
  }
 },
 "nbformat": 4,
 "nbformat_minor": 2
}
