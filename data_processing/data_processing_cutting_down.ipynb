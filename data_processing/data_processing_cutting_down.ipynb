{
 "cells": [
  {
   "cell_type": "markdown",
   "metadata": {},
   "source": [
    "# This notebook is used to cut down the data that we are using for training the model\n"
   ]
  },
  {
   "cell_type": "markdown",
   "metadata": {},
   "source": [
    "## importing the necessary libraries for the Amazon data set\n"
   ]
  },
  {
   "cell_type": "code",
   "execution_count": 1,
   "metadata": {},
   "outputs": [],
   "source": [
    "import torch\n",
    "import numpy as np\n",
    "from torch_geometric.datasets import AmazonBook\n",
    "import pandas as pd"
   ]
  },
  {
   "cell_type": "code",
   "execution_count": 2,
   "metadata": {},
   "outputs": [],
   "source": [
    "## importing in the train and test sets\n",
    "users_df = pd.read_csv('user_list.csv')\n",
    "entity_df = pd.read_csv('entity_list.csv')\n",
    "item_df = pd.read_csv('item_list.csv')\n"
   ]
  },
  {
   "cell_type": "code",
   "execution_count": 3,
   "metadata": {},
   "outputs": [
    {
     "name": "stdout",
     "output_type": "stream",
     "text": [
      "(987994, 2)\n",
      "(4171463, 3)\n",
      "(4162024, 2)\n"
     ]
    }
   ],
   "source": [
    "print(users_df.shape)\n",
    "print(entity_df.shape)\n",
    "print(item_df.shape)"
   ]
  },
  {
   "cell_type": "code",
   "execution_count": 4,
   "metadata": {},
   "outputs": [
    {
     "name": "stdout",
     "output_type": "stream",
     "text": [
      "(50000, 2)\n",
      "        usermap_id  user_id\n",
      "166482      166482   983246\n",
      "821949      821949   748177\n",
      "49365        49365   657111\n",
      "453247      453247   376824\n",
      "804351      804351   399877\n"
     ]
    }
   ],
   "source": [
    "### getting the filtered users list\n",
    "users_filtered = users_df.sample(n = 50000, replace = False)\n",
    "print(users_filtered.shape)\n",
    "print(users_filtered.head())"
   ]
  },
  {
   "cell_type": "code",
   "execution_count": 117,
   "metadata": {},
   "outputs": [
    {
     "name": "stdout",
     "output_type": "stream",
     "text": [
      "   0        1        2   3           4\n",
      "0  1  2268318  2520377  pv  1511544070\n",
      "1  1  2333346  2520771  pv  1511561733\n",
      "2  1  2576651   149192  pv  1511572885\n",
      "3  1  3830808  4181361  pv  1511593493\n",
      "4  1  4365585  2520377  pv  1511596146\n"
     ]
    },
    {
     "data": {
      "text/html": [
       "<div>\n",
       "<style scoped>\n",
       "    .dataframe tbody tr th:only-of-type {\n",
       "        vertical-align: middle;\n",
       "    }\n",
       "\n",
       "    .dataframe tbody tr th {\n",
       "        vertical-align: top;\n",
       "    }\n",
       "\n",
       "    .dataframe thead th {\n",
       "        text-align: right;\n",
       "    }\n",
       "</style>\n",
       "<table border=\"1\" class=\"dataframe\">\n",
       "  <thead>\n",
       "    <tr style=\"text-align: right;\">\n",
       "      <th></th>\n",
       "      <th>user_id</th>\n",
       "      <th>item_id</th>\n",
       "      <th>category_id</th>\n",
       "      <th>behavior_type</th>\n",
       "      <th>timestamp</th>\n",
       "    </tr>\n",
       "  </thead>\n",
       "  <tbody>\n",
       "    <tr>\n",
       "      <th>0</th>\n",
       "      <td>1</td>\n",
       "      <td>2268318</td>\n",
       "      <td>2520377</td>\n",
       "      <td>pv</td>\n",
       "      <td>1511544070</td>\n",
       "    </tr>\n",
       "    <tr>\n",
       "      <th>1</th>\n",
       "      <td>1</td>\n",
       "      <td>2333346</td>\n",
       "      <td>2520771</td>\n",
       "      <td>pv</td>\n",
       "      <td>1511561733</td>\n",
       "    </tr>\n",
       "    <tr>\n",
       "      <th>2</th>\n",
       "      <td>1</td>\n",
       "      <td>2576651</td>\n",
       "      <td>149192</td>\n",
       "      <td>pv</td>\n",
       "      <td>1511572885</td>\n",
       "    </tr>\n",
       "    <tr>\n",
       "      <th>3</th>\n",
       "      <td>1</td>\n",
       "      <td>3830808</td>\n",
       "      <td>4181361</td>\n",
       "      <td>pv</td>\n",
       "      <td>1511593493</td>\n",
       "    </tr>\n",
       "    <tr>\n",
       "      <th>4</th>\n",
       "      <td>1</td>\n",
       "      <td>4365585</td>\n",
       "      <td>2520377</td>\n",
       "      <td>pv</td>\n",
       "      <td>1511596146</td>\n",
       "    </tr>\n",
       "  </tbody>\n",
       "</table>\n",
       "</div>"
      ],
      "text/plain": [
       "   user_id  item_id  category_id behavior_type   timestamp\n",
       "0        1  2268318      2520377            pv  1511544070\n",
       "1        1  2333346      2520771            pv  1511561733\n",
       "2        1  2576651       149192            pv  1511572885\n",
       "3        1  3830808      4181361            pv  1511593493\n",
       "4        1  4365585      2520377            pv  1511596146"
      ]
     },
     "execution_count": 117,
     "metadata": {},
     "output_type": "execute_result"
    }
   ],
   "source": [
    "## need to get the filtered items list as well\n",
    "\n",
    "taobao_df = pd.read_csv(\"taobao/raw/UserBehavior.csv\", header = None)\n",
    "print(taobao_df.head())\n",
    "taobao_df.columns = ['user_id', 'item_id', 'category_id', 'behavior_type', 'timestamp']\n",
    "taobao_df.head()\n"
   ]
  },
  {
   "cell_type": "code",
   "execution_count": 6,
   "metadata": {},
   "outputs": [
    {
     "name": "stdout",
     "output_type": "stream",
     "text": [
      "(5065216, 5)\n"
     ]
    }
   ],
   "source": [
    "## filtering for the entries for the actual users : \n",
    "\n",
    "taobao_filtered = taobao_df[taobao_df['user_id'].isin(users_filtered['user_id'])]\n",
    "print(taobao_filtered.shape)"
   ]
  },
  {
   "cell_type": "code",
   "execution_count": 7,
   "metadata": {},
   "outputs": [
    {
     "name": "stdout",
     "output_type": "stream",
     "text": [
      "(100150807, 5)\n"
     ]
    }
   ],
   "source": [
    "print(taobao_df.shape)"
   ]
  },
  {
   "cell_type": "code",
   "execution_count": 8,
   "metadata": {},
   "outputs": [
    {
     "name": "stdout",
     "output_type": "stream",
     "text": [
      "(5065216, 6)\n",
      "   user_id  item_id  category_id behavior_type   timestamp  itemmap_id\n",
      "0  1000040  3849409      4756105            pv  1511578189      764448\n",
      "1  1000040  3386371      2355072            pv  1511578330     1075195\n",
      "2  1000040  2331370      3607361            pv  1511578403       56983\n",
      "3  1000040  3381470      4145813            pv  1511596534      765968\n",
      "4  1000040  3083057      3102419            pv  1511596593     3969547\n"
     ]
    }
   ],
   "source": [
    "taobao_filtered = taobao_filtered.merge(item_df, on = 'item_id', how = 'left')\n",
    "print(taobao_filtered.shape)\n",
    "print(taobao_filtered.head())"
   ]
  },
  {
   "cell_type": "code",
   "execution_count": 9,
   "metadata": {},
   "outputs": [],
   "source": [
    "kg_df = pd.read_csv('kg_final.csv')"
   ]
  },
  {
   "cell_type": "code",
   "execution_count": 10,
   "metadata": {},
   "outputs": [
    {
     "name": "stdout",
     "output_type": "stream",
     "text": [
      "(8326884, 3)\n",
      "      head     tail  relation\n",
      "0  2827803  4165957         0\n",
      "1  3261306  4164386         0\n",
      "2  2446773  4165378         0\n",
      "3  2281264  4170771         0\n",
      "4  3676007  4165957         0\n"
     ]
    }
   ],
   "source": [
    "print(kg_df.shape)\n",
    "print(kg_df.head())"
   ]
  },
  {
   "cell_type": "code",
   "execution_count": 11,
   "metadata": {},
   "outputs": [],
   "source": [
    "kg_filtered = kg_df[(kg_df['head'].isin(taobao_filtered['itemmap_id']) )| (kg_df['tail'].isin(taobao_filtered['itemmap_id']))]"
   ]
  },
  {
   "cell_type": "code",
   "execution_count": 12,
   "metadata": {},
   "outputs": [
    {
     "name": "stdout",
     "output_type": "stream",
     "text": [
      "(2221908, 3)\n",
      "      head     tail  relation\n",
      "0  2827803  4165957         0\n",
      "1  3261306  4164386         0\n",
      "2  2446773  4165378         0\n",
      "3  2281264  4170771         0\n",
      "4  3676007  4165957         0\n"
     ]
    }
   ],
   "source": [
    "print(kg_filtered.shape)\n",
    "print(kg_filtered.head())"
   ]
  },
  {
   "cell_type": "code",
   "execution_count": 29,
   "metadata": {},
   "outputs": [
    {
     "data": {
      "text/plain": [
       "1117779"
      ]
     },
     "execution_count": 29,
     "metadata": {},
     "output_type": "execute_result"
    }
   ],
   "source": [
    "len(kg_filtered['tail'].unique())"
   ]
  },
  {
   "cell_type": "markdown",
   "metadata": {},
   "source": [
    "This essentially eliminates it down to 50,000 users and in total, 1117779 unique entities. \n",
    "\n",
    "Now, we will need to go through to redevelop the mappings of the users/items/etc such that they are capped at the total number of values here"
   ]
  },
  {
   "cell_type": "code",
   "execution_count": 14,
   "metadata": {},
   "outputs": [
    {
     "name": "stdout",
     "output_type": "stream",
     "text": [
      "        usermap_id  user_id\n",
      "166482      166482   983246\n",
      "821949      821949   748177\n",
      "49365        49365   657111\n",
      "453247      453247   376824\n",
      "804351      804351   399877\n",
      "50000\n",
      "50000\n"
     ]
    }
   ],
   "source": [
    "print(users_filtered.head())\n",
    "print(len(users_filtered['usermap_id'].unique()))\n",
    "print(len(users_filtered['user_id'].unique()))"
   ]
  },
  {
   "cell_type": "code",
   "execution_count": 15,
   "metadata": {},
   "outputs": [
    {
     "name": "stdout",
     "output_type": "stream",
     "text": [
      "(50000, 3)\n",
      "    index  usermap_id  user_id\n",
      "0  166482      166482   983246\n",
      "1  821949      821949   748177\n",
      "2   49365       49365   657111\n",
      "3  453247      453247   376824\n",
      "4  804351      804351   399877\n"
     ]
    }
   ],
   "source": [
    "## now, will re-order the users to index appropriately\n",
    "\n",
    "users_filtered.reset_index(inplace = True)\n",
    "print(users_filtered.shape)\n",
    "print(users_filtered.head())"
   ]
  },
  {
   "cell_type": "code",
   "execution_count": 16,
   "metadata": {},
   "outputs": [],
   "source": [
    "users_filtered = users_filtered.drop(columns = 'index')"
   ]
  },
  {
   "cell_type": "code",
   "execution_count": 17,
   "metadata": {},
   "outputs": [
    {
     "data": {
      "text/html": [
       "<div>\n",
       "<style scoped>\n",
       "    .dataframe tbody tr th:only-of-type {\n",
       "        vertical-align: middle;\n",
       "    }\n",
       "\n",
       "    .dataframe tbody tr th {\n",
       "        vertical-align: top;\n",
       "    }\n",
       "\n",
       "    .dataframe thead th {\n",
       "        text-align: right;\n",
       "    }\n",
       "</style>\n",
       "<table border=\"1\" class=\"dataframe\">\n",
       "  <thead>\n",
       "    <tr style=\"text-align: right;\">\n",
       "      <th></th>\n",
       "      <th>usermap_id</th>\n",
       "      <th>user_id</th>\n",
       "    </tr>\n",
       "  </thead>\n",
       "  <tbody>\n",
       "    <tr>\n",
       "      <th>0</th>\n",
       "      <td>166482</td>\n",
       "      <td>983246</td>\n",
       "    </tr>\n",
       "    <tr>\n",
       "      <th>1</th>\n",
       "      <td>821949</td>\n",
       "      <td>748177</td>\n",
       "    </tr>\n",
       "    <tr>\n",
       "      <th>2</th>\n",
       "      <td>49365</td>\n",
       "      <td>657111</td>\n",
       "    </tr>\n",
       "    <tr>\n",
       "      <th>3</th>\n",
       "      <td>453247</td>\n",
       "      <td>376824</td>\n",
       "    </tr>\n",
       "    <tr>\n",
       "      <th>4</th>\n",
       "      <td>804351</td>\n",
       "      <td>399877</td>\n",
       "    </tr>\n",
       "  </tbody>\n",
       "</table>\n",
       "</div>"
      ],
      "text/plain": [
       "   usermap_id  user_id\n",
       "0      166482   983246\n",
       "1      821949   748177\n",
       "2       49365   657111\n",
       "3      453247   376824\n",
       "4      804351   399877"
      ]
     },
     "execution_count": 17,
     "metadata": {},
     "output_type": "execute_result"
    }
   ],
   "source": [
    "users_filtered.head()"
   ]
  },
  {
   "cell_type": "code",
   "execution_count": 18,
   "metadata": {},
   "outputs": [
    {
     "data": {
      "text/html": [
       "<div>\n",
       "<style scoped>\n",
       "    .dataframe tbody tr th:only-of-type {\n",
       "        vertical-align: middle;\n",
       "    }\n",
       "\n",
       "    .dataframe tbody tr th {\n",
       "        vertical-align: top;\n",
       "    }\n",
       "\n",
       "    .dataframe thead th {\n",
       "        text-align: right;\n",
       "    }\n",
       "</style>\n",
       "<table border=\"1\" class=\"dataframe\">\n",
       "  <thead>\n",
       "    <tr style=\"text-align: right;\">\n",
       "      <th></th>\n",
       "      <th>index</th>\n",
       "      <th>usermap_id</th>\n",
       "      <th>user_id</th>\n",
       "    </tr>\n",
       "  </thead>\n",
       "  <tbody>\n",
       "    <tr>\n",
       "      <th>0</th>\n",
       "      <td>0</td>\n",
       "      <td>166482</td>\n",
       "      <td>983246</td>\n",
       "    </tr>\n",
       "    <tr>\n",
       "      <th>1</th>\n",
       "      <td>1</td>\n",
       "      <td>821949</td>\n",
       "      <td>748177</td>\n",
       "    </tr>\n",
       "    <tr>\n",
       "      <th>2</th>\n",
       "      <td>2</td>\n",
       "      <td>49365</td>\n",
       "      <td>657111</td>\n",
       "    </tr>\n",
       "    <tr>\n",
       "      <th>3</th>\n",
       "      <td>3</td>\n",
       "      <td>453247</td>\n",
       "      <td>376824</td>\n",
       "    </tr>\n",
       "    <tr>\n",
       "      <th>4</th>\n",
       "      <td>4</td>\n",
       "      <td>804351</td>\n",
       "      <td>399877</td>\n",
       "    </tr>\n",
       "  </tbody>\n",
       "</table>\n",
       "</div>"
      ],
      "text/plain": [
       "   index  usermap_id  user_id\n",
       "0      0      166482   983246\n",
       "1      1      821949   748177\n",
       "2      2       49365   657111\n",
       "3      3      453247   376824\n",
       "4      4      804351   399877"
      ]
     },
     "execution_count": 18,
     "metadata": {},
     "output_type": "execute_result"
    }
   ],
   "source": [
    "users_filtered = users_filtered.reset_index()\n",
    "users_filtered.head()"
   ]
  },
  {
   "cell_type": "code",
   "execution_count": 19,
   "metadata": {},
   "outputs": [
    {
     "data": {
      "text/html": [
       "<div>\n",
       "<style scoped>\n",
       "    .dataframe tbody tr th:only-of-type {\n",
       "        vertical-align: middle;\n",
       "    }\n",
       "\n",
       "    .dataframe tbody tr th {\n",
       "        vertical-align: top;\n",
       "    }\n",
       "\n",
       "    .dataframe thead th {\n",
       "        text-align: right;\n",
       "    }\n",
       "</style>\n",
       "<table border=\"1\" class=\"dataframe\">\n",
       "  <thead>\n",
       "    <tr style=\"text-align: right;\">\n",
       "      <th></th>\n",
       "      <th>new_usermap_id</th>\n",
       "      <th>usermap_id</th>\n",
       "      <th>user_id</th>\n",
       "    </tr>\n",
       "  </thead>\n",
       "  <tbody>\n",
       "    <tr>\n",
       "      <th>0</th>\n",
       "      <td>0</td>\n",
       "      <td>166482</td>\n",
       "      <td>983246</td>\n",
       "    </tr>\n",
       "    <tr>\n",
       "      <th>1</th>\n",
       "      <td>1</td>\n",
       "      <td>821949</td>\n",
       "      <td>748177</td>\n",
       "    </tr>\n",
       "    <tr>\n",
       "      <th>2</th>\n",
       "      <td>2</td>\n",
       "      <td>49365</td>\n",
       "      <td>657111</td>\n",
       "    </tr>\n",
       "    <tr>\n",
       "      <th>3</th>\n",
       "      <td>3</td>\n",
       "      <td>453247</td>\n",
       "      <td>376824</td>\n",
       "    </tr>\n",
       "    <tr>\n",
       "      <th>4</th>\n",
       "      <td>4</td>\n",
       "      <td>804351</td>\n",
       "      <td>399877</td>\n",
       "    </tr>\n",
       "  </tbody>\n",
       "</table>\n",
       "</div>"
      ],
      "text/plain": [
       "   new_usermap_id  usermap_id  user_id\n",
       "0               0      166482   983246\n",
       "1               1      821949   748177\n",
       "2               2       49365   657111\n",
       "3               3      453247   376824\n",
       "4               4      804351   399877"
      ]
     },
     "execution_count": 19,
     "metadata": {},
     "output_type": "execute_result"
    }
   ],
   "source": [
    "users_filtered = users_filtered.rename(columns = {'index':'new_usermap_id'})\n",
    "users_filtered.head()"
   ]
  },
  {
   "cell_type": "code",
   "execution_count": 20,
   "metadata": {},
   "outputs": [
    {
     "name": "stdout",
     "output_type": "stream",
     "text": [
      "50000\n"
     ]
    }
   ],
   "source": [
    "print(len(users_filtered['new_usermap_id'].unique()))"
   ]
  },
  {
   "cell_type": "code",
   "execution_count": 21,
   "metadata": {},
   "outputs": [],
   "source": [
    "users_filtered.to_csv('users_filtered_list.csv')"
   ]
  },
  {
   "cell_type": "code",
   "execution_count": 22,
   "metadata": {},
   "outputs": [
    {
     "name": "stdout",
     "output_type": "stream",
     "text": [
      "50000\n"
     ]
    }
   ],
   "source": [
    "## mapping the taobao items list \n",
    "print(len(users_filtered['user_id'].unique()))"
   ]
  },
  {
   "cell_type": "code",
   "execution_count": 23,
   "metadata": {},
   "outputs": [
    {
     "name": "stdout",
     "output_type": "stream",
     "text": [
      "50000\n"
     ]
    }
   ],
   "source": [
    "print(len(taobao_filtered['user_id'].unique()))"
   ]
  },
  {
   "cell_type": "code",
   "execution_count": 24,
   "metadata": {},
   "outputs": [
    {
     "data": {
      "text/plain": [
       "(5065216, 6)"
      ]
     },
     "execution_count": 24,
     "metadata": {},
     "output_type": "execute_result"
    }
   ],
   "source": [
    "taobao_filtered.shape"
   ]
  },
  {
   "cell_type": "code",
   "execution_count": 25,
   "metadata": {},
   "outputs": [
    {
     "data": {
      "text/plain": [
       "(5065216, 6)"
      ]
     },
     "execution_count": 25,
     "metadata": {},
     "output_type": "execute_result"
    }
   ],
   "source": [
    "taobao_filtered[taobao_filtered['user_id'].isin(users_filtered['user_id'])].shape\n",
    "## just to make sure that it's the right data set"
   ]
  },
  {
   "cell_type": "code",
   "execution_count": 27,
   "metadata": {},
   "outputs": [
    {
     "data": {
      "text/plain": [
       "1117778"
      ]
     },
     "execution_count": 27,
     "metadata": {},
     "output_type": "execute_result"
    }
   ],
   "source": [
    "len(taobao_filtered['item_id'].unique()) + len(taobao_filtered['category_id'].unique())"
   ]
  },
  {
   "cell_type": "code",
   "execution_count": 30,
   "metadata": {},
   "outputs": [
    {
     "name": "stdout",
     "output_type": "stream",
     "text": [
      "   itemmap_id  item_id\n",
      "0           0  4910621\n",
      "1           1  4847970\n",
      "2           2  2736814\n",
      "3           3  2247338\n",
      "4           4  3840111\n"
     ]
    }
   ],
   "source": [
    "print(item_df.head())"
   ]
  },
  {
   "cell_type": "code",
   "execution_count": 31,
   "metadata": {},
   "outputs": [
    {
     "name": "stdout",
     "output_type": "stream",
     "text": [
      "    itemmap_id  item_id\n",
      "6            6  1587638\n",
      "15          15  4102184\n",
      "16          16  4823083\n",
      "24          24  3597637\n",
      "25          25   884047\n",
      "(1110292, 2)\n"
     ]
    }
   ],
   "source": [
    "item_filtered = item_df[item_df['item_id'].isin(taobao_filtered['item_id'])]\n",
    "print(item_filtered.head())\n",
    "print(item_filtered.shape)"
   ]
  },
  {
   "cell_type": "code",
   "execution_count": 32,
   "metadata": {},
   "outputs": [
    {
     "data": {
      "text/html": [
       "<div>\n",
       "<style scoped>\n",
       "    .dataframe tbody tr th:only-of-type {\n",
       "        vertical-align: middle;\n",
       "    }\n",
       "\n",
       "    .dataframe tbody tr th {\n",
       "        vertical-align: top;\n",
       "    }\n",
       "\n",
       "    .dataframe thead th {\n",
       "        text-align: right;\n",
       "    }\n",
       "</style>\n",
       "<table border=\"1\" class=\"dataframe\">\n",
       "  <thead>\n",
       "    <tr style=\"text-align: right;\">\n",
       "      <th></th>\n",
       "      <th>index</th>\n",
       "      <th>itemmap_id</th>\n",
       "      <th>item_id</th>\n",
       "    </tr>\n",
       "  </thead>\n",
       "  <tbody>\n",
       "    <tr>\n",
       "      <th>0</th>\n",
       "      <td>6</td>\n",
       "      <td>6</td>\n",
       "      <td>1587638</td>\n",
       "    </tr>\n",
       "    <tr>\n",
       "      <th>1</th>\n",
       "      <td>15</td>\n",
       "      <td>15</td>\n",
       "      <td>4102184</td>\n",
       "    </tr>\n",
       "    <tr>\n",
       "      <th>2</th>\n",
       "      <td>16</td>\n",
       "      <td>16</td>\n",
       "      <td>4823083</td>\n",
       "    </tr>\n",
       "    <tr>\n",
       "      <th>3</th>\n",
       "      <td>24</td>\n",
       "      <td>24</td>\n",
       "      <td>3597637</td>\n",
       "    </tr>\n",
       "    <tr>\n",
       "      <th>4</th>\n",
       "      <td>25</td>\n",
       "      <td>25</td>\n",
       "      <td>884047</td>\n",
       "    </tr>\n",
       "  </tbody>\n",
       "</table>\n",
       "</div>"
      ],
      "text/plain": [
       "   index  itemmap_id  item_id\n",
       "0      6           6  1587638\n",
       "1     15          15  4102184\n",
       "2     16          16  4823083\n",
       "3     24          24  3597637\n",
       "4     25          25   884047"
      ]
     },
     "execution_count": 32,
     "metadata": {},
     "output_type": "execute_result"
    }
   ],
   "source": [
    "item_filtered = item_filtered.reset_index()\n",
    "item_filtered.head()"
   ]
  },
  {
   "cell_type": "code",
   "execution_count": 33,
   "metadata": {},
   "outputs": [
    {
     "data": {
      "text/html": [
       "<div>\n",
       "<style scoped>\n",
       "    .dataframe tbody tr th:only-of-type {\n",
       "        vertical-align: middle;\n",
       "    }\n",
       "\n",
       "    .dataframe tbody tr th {\n",
       "        vertical-align: top;\n",
       "    }\n",
       "\n",
       "    .dataframe thead th {\n",
       "        text-align: right;\n",
       "    }\n",
       "</style>\n",
       "<table border=\"1\" class=\"dataframe\">\n",
       "  <thead>\n",
       "    <tr style=\"text-align: right;\">\n",
       "      <th></th>\n",
       "      <th>index</th>\n",
       "      <th>itemmap_id</th>\n",
       "      <th>item_id</th>\n",
       "    </tr>\n",
       "  </thead>\n",
       "  <tbody>\n",
       "    <tr>\n",
       "      <th>0</th>\n",
       "      <td>0</td>\n",
       "      <td>6</td>\n",
       "      <td>1587638</td>\n",
       "    </tr>\n",
       "    <tr>\n",
       "      <th>1</th>\n",
       "      <td>1</td>\n",
       "      <td>15</td>\n",
       "      <td>4102184</td>\n",
       "    </tr>\n",
       "    <tr>\n",
       "      <th>2</th>\n",
       "      <td>2</td>\n",
       "      <td>16</td>\n",
       "      <td>4823083</td>\n",
       "    </tr>\n",
       "    <tr>\n",
       "      <th>3</th>\n",
       "      <td>3</td>\n",
       "      <td>24</td>\n",
       "      <td>3597637</td>\n",
       "    </tr>\n",
       "    <tr>\n",
       "      <th>4</th>\n",
       "      <td>4</td>\n",
       "      <td>25</td>\n",
       "      <td>884047</td>\n",
       "    </tr>\n",
       "  </tbody>\n",
       "</table>\n",
       "</div>"
      ],
      "text/plain": [
       "   index  itemmap_id  item_id\n",
       "0      0           6  1587638\n",
       "1      1          15  4102184\n",
       "2      2          16  4823083\n",
       "3      3          24  3597637\n",
       "4      4          25   884047"
      ]
     },
     "execution_count": 33,
     "metadata": {},
     "output_type": "execute_result"
    }
   ],
   "source": [
    "item_filtered = item_filtered.drop(columns = 'index')\n",
    "item_filtered = item_filtered.reset_index()\n",
    "item_filtered.head()"
   ]
  },
  {
   "cell_type": "code",
   "execution_count": 34,
   "metadata": {},
   "outputs": [
    {
     "data": {
      "text/html": [
       "<div>\n",
       "<style scoped>\n",
       "    .dataframe tbody tr th:only-of-type {\n",
       "        vertical-align: middle;\n",
       "    }\n",
       "\n",
       "    .dataframe tbody tr th {\n",
       "        vertical-align: top;\n",
       "    }\n",
       "\n",
       "    .dataframe thead th {\n",
       "        text-align: right;\n",
       "    }\n",
       "</style>\n",
       "<table border=\"1\" class=\"dataframe\">\n",
       "  <thead>\n",
       "    <tr style=\"text-align: right;\">\n",
       "      <th></th>\n",
       "      <th>index</th>\n",
       "      <th>itemmap_id</th>\n",
       "      <th>item_id</th>\n",
       "    </tr>\n",
       "  </thead>\n",
       "  <tbody>\n",
       "    <tr>\n",
       "      <th>0</th>\n",
       "      <td>0</td>\n",
       "      <td>6</td>\n",
       "      <td>1587638</td>\n",
       "    </tr>\n",
       "    <tr>\n",
       "      <th>1</th>\n",
       "      <td>1</td>\n",
       "      <td>15</td>\n",
       "      <td>4102184</td>\n",
       "    </tr>\n",
       "    <tr>\n",
       "      <th>2</th>\n",
       "      <td>2</td>\n",
       "      <td>16</td>\n",
       "      <td>4823083</td>\n",
       "    </tr>\n",
       "    <tr>\n",
       "      <th>3</th>\n",
       "      <td>3</td>\n",
       "      <td>24</td>\n",
       "      <td>3597637</td>\n",
       "    </tr>\n",
       "    <tr>\n",
       "      <th>4</th>\n",
       "      <td>4</td>\n",
       "      <td>25</td>\n",
       "      <td>884047</td>\n",
       "    </tr>\n",
       "  </tbody>\n",
       "</table>\n",
       "</div>"
      ],
      "text/plain": [
       "   index  itemmap_id  item_id\n",
       "0      0           6  1587638\n",
       "1      1          15  4102184\n",
       "2      2          16  4823083\n",
       "3      3          24  3597637\n",
       "4      4          25   884047"
      ]
     },
     "execution_count": 34,
     "metadata": {},
     "output_type": "execute_result"
    }
   ],
   "source": [
    "item_filtered.head()"
   ]
  },
  {
   "cell_type": "code",
   "execution_count": 35,
   "metadata": {},
   "outputs": [
    {
     "data": {
      "text/html": [
       "<div>\n",
       "<style scoped>\n",
       "    .dataframe tbody tr th:only-of-type {\n",
       "        vertical-align: middle;\n",
       "    }\n",
       "\n",
       "    .dataframe tbody tr th {\n",
       "        vertical-align: top;\n",
       "    }\n",
       "\n",
       "    .dataframe thead th {\n",
       "        text-align: right;\n",
       "    }\n",
       "</style>\n",
       "<table border=\"1\" class=\"dataframe\">\n",
       "  <thead>\n",
       "    <tr style=\"text-align: right;\">\n",
       "      <th></th>\n",
       "      <th>new_itemmap_id</th>\n",
       "      <th>itemmap_id</th>\n",
       "      <th>item_id</th>\n",
       "    </tr>\n",
       "  </thead>\n",
       "  <tbody>\n",
       "    <tr>\n",
       "      <th>0</th>\n",
       "      <td>0</td>\n",
       "      <td>6</td>\n",
       "      <td>1587638</td>\n",
       "    </tr>\n",
       "    <tr>\n",
       "      <th>1</th>\n",
       "      <td>1</td>\n",
       "      <td>15</td>\n",
       "      <td>4102184</td>\n",
       "    </tr>\n",
       "    <tr>\n",
       "      <th>2</th>\n",
       "      <td>2</td>\n",
       "      <td>16</td>\n",
       "      <td>4823083</td>\n",
       "    </tr>\n",
       "    <tr>\n",
       "      <th>3</th>\n",
       "      <td>3</td>\n",
       "      <td>24</td>\n",
       "      <td>3597637</td>\n",
       "    </tr>\n",
       "    <tr>\n",
       "      <th>4</th>\n",
       "      <td>4</td>\n",
       "      <td>25</td>\n",
       "      <td>884047</td>\n",
       "    </tr>\n",
       "  </tbody>\n",
       "</table>\n",
       "</div>"
      ],
      "text/plain": [
       "   new_itemmap_id  itemmap_id  item_id\n",
       "0               0           6  1587638\n",
       "1               1          15  4102184\n",
       "2               2          16  4823083\n",
       "3               3          24  3597637\n",
       "4               4          25   884047"
      ]
     },
     "execution_count": 35,
     "metadata": {},
     "output_type": "execute_result"
    }
   ],
   "source": [
    "item_filtered = item_filtered.rename(columns = {'index': 'new_itemmap_id'})\n",
    "item_filtered.head()"
   ]
  },
  {
   "cell_type": "code",
   "execution_count": 36,
   "metadata": {},
   "outputs": [
    {
     "name": "stdout",
     "output_type": "stream",
     "text": [
      "1110291\n",
      "(1110292, 3)\n"
     ]
    }
   ],
   "source": [
    "print(item_filtered['new_itemmap_id'].max())\n",
    "print(item_filtered.shape)"
   ]
  },
  {
   "cell_type": "code",
   "execution_count": 37,
   "metadata": {},
   "outputs": [
    {
     "name": "stdout",
     "output_type": "stream",
     "text": [
      "   categorymap_id  category_id\n",
      "0         4162024      1003418\n",
      "1         4162025      1047470\n",
      "2         4162026      2819583\n",
      "3         4162027      1363318\n",
      "4         4162028      2560150\n",
      "(9439, 2)\n"
     ]
    }
   ],
   "source": [
    "category_df = pd.read_csv('category_list.csv')\n",
    "print(category_df.head())\n",
    "print(category_df.shape)"
   ]
  },
  {
   "cell_type": "code",
   "execution_count": 38,
   "metadata": {},
   "outputs": [
    {
     "name": "stdout",
     "output_type": "stream",
     "text": [
      "(7486, 2)\n",
      "   categorymap_id  category_id\n",
      "1         4162025      1047470\n",
      "2         4162026      2819583\n",
      "3         4162027      1363318\n",
      "5         4162029       360595\n",
      "6         4162030      1234361\n"
     ]
    }
   ],
   "source": [
    "category_filtered = category_df[category_df['category_id'].isin(taobao_filtered['category_id'])]\n",
    "print(category_filtered.shape)\n",
    "print(category_filtered.head())"
   ]
  },
  {
   "cell_type": "code",
   "execution_count": 39,
   "metadata": {},
   "outputs": [
    {
     "data": {
      "text/html": [
       "<div>\n",
       "<style scoped>\n",
       "    .dataframe tbody tr th:only-of-type {\n",
       "        vertical-align: middle;\n",
       "    }\n",
       "\n",
       "    .dataframe tbody tr th {\n",
       "        vertical-align: top;\n",
       "    }\n",
       "\n",
       "    .dataframe thead th {\n",
       "        text-align: right;\n",
       "    }\n",
       "</style>\n",
       "<table border=\"1\" class=\"dataframe\">\n",
       "  <thead>\n",
       "    <tr style=\"text-align: right;\">\n",
       "      <th></th>\n",
       "      <th>index</th>\n",
       "      <th>categorymap_id</th>\n",
       "      <th>category_id</th>\n",
       "    </tr>\n",
       "  </thead>\n",
       "  <tbody>\n",
       "    <tr>\n",
       "      <th>0</th>\n",
       "      <td>1</td>\n",
       "      <td>4162025</td>\n",
       "      <td>1047470</td>\n",
       "    </tr>\n",
       "    <tr>\n",
       "      <th>1</th>\n",
       "      <td>2</td>\n",
       "      <td>4162026</td>\n",
       "      <td>2819583</td>\n",
       "    </tr>\n",
       "    <tr>\n",
       "      <th>2</th>\n",
       "      <td>3</td>\n",
       "      <td>4162027</td>\n",
       "      <td>1363318</td>\n",
       "    </tr>\n",
       "    <tr>\n",
       "      <th>3</th>\n",
       "      <td>5</td>\n",
       "      <td>4162029</td>\n",
       "      <td>360595</td>\n",
       "    </tr>\n",
       "    <tr>\n",
       "      <th>4</th>\n",
       "      <td>6</td>\n",
       "      <td>4162030</td>\n",
       "      <td>1234361</td>\n",
       "    </tr>\n",
       "  </tbody>\n",
       "</table>\n",
       "</div>"
      ],
      "text/plain": [
       "   index  categorymap_id  category_id\n",
       "0      1         4162025      1047470\n",
       "1      2         4162026      2819583\n",
       "2      3         4162027      1363318\n",
       "3      5         4162029       360595\n",
       "4      6         4162030      1234361"
      ]
     },
     "execution_count": 39,
     "metadata": {},
     "output_type": "execute_result"
    }
   ],
   "source": [
    "category_filtered = category_filtered.reset_index()\n",
    "category_filtered.head()"
   ]
  },
  {
   "cell_type": "code",
   "execution_count": 40,
   "metadata": {},
   "outputs": [
    {
     "data": {
      "text/html": [
       "<div>\n",
       "<style scoped>\n",
       "    .dataframe tbody tr th:only-of-type {\n",
       "        vertical-align: middle;\n",
       "    }\n",
       "\n",
       "    .dataframe tbody tr th {\n",
       "        vertical-align: top;\n",
       "    }\n",
       "\n",
       "    .dataframe thead th {\n",
       "        text-align: right;\n",
       "    }\n",
       "</style>\n",
       "<table border=\"1\" class=\"dataframe\">\n",
       "  <thead>\n",
       "    <tr style=\"text-align: right;\">\n",
       "      <th></th>\n",
       "      <th>categorymap_id</th>\n",
       "      <th>category_id</th>\n",
       "    </tr>\n",
       "  </thead>\n",
       "  <tbody>\n",
       "    <tr>\n",
       "      <th>0</th>\n",
       "      <td>4162025</td>\n",
       "      <td>1047470</td>\n",
       "    </tr>\n",
       "    <tr>\n",
       "      <th>1</th>\n",
       "      <td>4162026</td>\n",
       "      <td>2819583</td>\n",
       "    </tr>\n",
       "    <tr>\n",
       "      <th>2</th>\n",
       "      <td>4162027</td>\n",
       "      <td>1363318</td>\n",
       "    </tr>\n",
       "    <tr>\n",
       "      <th>3</th>\n",
       "      <td>4162029</td>\n",
       "      <td>360595</td>\n",
       "    </tr>\n",
       "    <tr>\n",
       "      <th>4</th>\n",
       "      <td>4162030</td>\n",
       "      <td>1234361</td>\n",
       "    </tr>\n",
       "  </tbody>\n",
       "</table>\n",
       "</div>"
      ],
      "text/plain": [
       "   categorymap_id  category_id\n",
       "0         4162025      1047470\n",
       "1         4162026      2819583\n",
       "2         4162027      1363318\n",
       "3         4162029       360595\n",
       "4         4162030      1234361"
      ]
     },
     "execution_count": 40,
     "metadata": {},
     "output_type": "execute_result"
    }
   ],
   "source": [
    "category_filtered = category_filtered.drop(columns = 'index')\n",
    "category_filtered.head()"
   ]
  },
  {
   "cell_type": "code",
   "execution_count": 41,
   "metadata": {},
   "outputs": [
    {
     "data": {
      "text/html": [
       "<div>\n",
       "<style scoped>\n",
       "    .dataframe tbody tr th:only-of-type {\n",
       "        vertical-align: middle;\n",
       "    }\n",
       "\n",
       "    .dataframe tbody tr th {\n",
       "        vertical-align: top;\n",
       "    }\n",
       "\n",
       "    .dataframe thead th {\n",
       "        text-align: right;\n",
       "    }\n",
       "</style>\n",
       "<table border=\"1\" class=\"dataframe\">\n",
       "  <thead>\n",
       "    <tr style=\"text-align: right;\">\n",
       "      <th></th>\n",
       "      <th>index</th>\n",
       "      <th>categorymap_id</th>\n",
       "      <th>category_id</th>\n",
       "    </tr>\n",
       "  </thead>\n",
       "  <tbody>\n",
       "    <tr>\n",
       "      <th>0</th>\n",
       "      <td>0</td>\n",
       "      <td>4162025</td>\n",
       "      <td>1047470</td>\n",
       "    </tr>\n",
       "    <tr>\n",
       "      <th>1</th>\n",
       "      <td>1</td>\n",
       "      <td>4162026</td>\n",
       "      <td>2819583</td>\n",
       "    </tr>\n",
       "    <tr>\n",
       "      <th>2</th>\n",
       "      <td>2</td>\n",
       "      <td>4162027</td>\n",
       "      <td>1363318</td>\n",
       "    </tr>\n",
       "    <tr>\n",
       "      <th>3</th>\n",
       "      <td>3</td>\n",
       "      <td>4162029</td>\n",
       "      <td>360595</td>\n",
       "    </tr>\n",
       "    <tr>\n",
       "      <th>4</th>\n",
       "      <td>4</td>\n",
       "      <td>4162030</td>\n",
       "      <td>1234361</td>\n",
       "    </tr>\n",
       "  </tbody>\n",
       "</table>\n",
       "</div>"
      ],
      "text/plain": [
       "   index  categorymap_id  category_id\n",
       "0      0         4162025      1047470\n",
       "1      1         4162026      2819583\n",
       "2      2         4162027      1363318\n",
       "3      3         4162029       360595\n",
       "4      4         4162030      1234361"
      ]
     },
     "execution_count": 41,
     "metadata": {},
     "output_type": "execute_result"
    }
   ],
   "source": [
    "category_filtered = category_filtered.reset_index()\n",
    "category_filtered.head()"
   ]
  },
  {
   "cell_type": "code",
   "execution_count": 42,
   "metadata": {},
   "outputs": [
    {
     "name": "stdout",
     "output_type": "stream",
     "text": [
      "   new_categorymap_id  categorymap_id  category_id\n",
      "0             1110292         4162025      1047470\n",
      "1             1110293         4162026      2819583\n",
      "2             1110294         4162027      1363318\n",
      "3             1110295         4162029       360595\n",
      "4             1110296         4162030      1234361\n",
      "(7486, 3)\n",
      "7486\n"
     ]
    }
   ],
   "source": [
    "category_filtered = category_filtered.rename(columns = {'index': 'new_categorymap_id'})\n",
    "\n",
    "category_filtered['new_categorymap_id'] = category_filtered['new_categorymap_id'] + item_filtered['new_itemmap_id'].max() + 1\n",
    "print(category_filtered.head())\n",
    "print(category_filtered.shape)\n",
    "print(len(category_filtered['new_categorymap_id'].unique()))\n"
   ]
  },
  {
   "cell_type": "code",
   "execution_count": 44,
   "metadata": {},
   "outputs": [
    {
     "name": "stdout",
     "output_type": "stream",
     "text": [
      "1117777\n"
     ]
    },
    {
     "data": {
      "text/plain": [
       "1117777"
      ]
     },
     "execution_count": 44,
     "metadata": {},
     "output_type": "execute_result"
    }
   ],
   "source": [
    "print(category_filtered['new_categorymap_id'].max())\n",
    "7486 + 1110291"
   ]
  },
  {
   "cell_type": "code",
   "execution_count": 49,
   "metadata": {},
   "outputs": [
    {
     "name": "stdout",
     "output_type": "stream",
     "text": [
      "   new_itemmap_id  itemmap_id  item_id\n",
      "0               0           6  1587638\n",
      "1               1          15  4102184\n",
      "2               2          16  4823083\n",
      "3               3          24  3597637\n",
      "4               4          25   884047\n",
      "1110291\n",
      "1110292\n",
      "(1110292, 3)\n",
      "   new_categorymap_id  categorymap_id  category_id\n",
      "0             1110292         4162025      1047470\n",
      "1             1110293         4162026      2819583\n",
      "2             1110294         4162027      1363318\n",
      "3             1110295         4162029       360595\n",
      "4             1110296         4162030      1234361\n",
      "1117777\n",
      "7486\n"
     ]
    }
   ],
   "source": [
    "print(item_filtered.head())\n",
    "print(item_filtered['new_itemmap_id'].max())\n",
    "print(len(item_filtered['new_itemmap_id'].unique()))\n",
    "print(item_filtered.shape)\n",
    "\n",
    "print(category_filtered.head())\n",
    "print(category_filtered['new_categorymap_id'].max())\n",
    "print(len(category_filtered['new_categorymap_id'].unique()))"
   ]
  },
  {
   "cell_type": "code",
   "execution_count": 46,
   "metadata": {},
   "outputs": [
    {
     "name": "stdout",
     "output_type": "stream",
     "text": [
      "(1110292, 3)\n",
      "(7486, 3)\n"
     ]
    }
   ],
   "source": [
    "print(item_filtered.shape)\n",
    "print(category_filtered.shape)"
   ]
  },
  {
   "cell_type": "code",
   "execution_count": 47,
   "metadata": {},
   "outputs": [
    {
     "data": {
      "text/plain": [
       "1117777"
      ]
     },
     "execution_count": 47,
     "metadata": {},
     "output_type": "execute_result"
    }
   ],
   "source": [
    "1110291 + 7486"
   ]
  },
  {
   "cell_type": "code",
   "execution_count": 50,
   "metadata": {},
   "outputs": [],
   "source": [
    "category_filtered2 = category_filtered.copy(deep = True)\n",
    "item_filtered2 = item_filtered.copy(deep = True)\n",
    "\n",
    "category_filtered2['type'] = 'category'\n",
    "item_filtered2['type'] = 'item'\n",
    "\n",
    "category_filtered2.rename(columns = {'new_categorymap_id':'new_map_id', \n",
    "                               'category_id': 'og_id',\n",
    "                               'categorymap_id': 'og_map_id'}, \n",
    "                    inplace = True)\n",
    "item_filtered2.rename(columns = {'new_itemmap_id': 'new_map_id', \n",
    "                           'item_id': 'og_id', \n",
    "                           'itemmap_id': 'og_map_id'}, \n",
    "                inplace = True)\n",
    "\n",
    "entity_filtered = pd.concat([item_filtered2, category_filtered2])"
   ]
  },
  {
   "cell_type": "code",
   "execution_count": 51,
   "metadata": {},
   "outputs": [
    {
     "name": "stdout",
     "output_type": "stream",
     "text": [
      "   new_map_id  og_map_id    og_id  type\n",
      "0           0          6  1587638  item\n",
      "1           1         15  4102184  item\n",
      "2           2         16  4823083  item\n",
      "3           3         24  3597637  item\n",
      "4           4         25   884047  item\n",
      "(1117778, 4)\n"
     ]
    }
   ],
   "source": [
    "print(entity_filtered.head())\n",
    "print(entity_filtered.shape)"
   ]
  },
  {
   "cell_type": "code",
   "execution_count": 52,
   "metadata": {},
   "outputs": [
    {
     "name": "stdout",
     "output_type": "stream",
     "text": [
      "1117777\n"
     ]
    }
   ],
   "source": [
    "print(entity_filtered['new_map_id'].max())"
   ]
  },
  {
   "cell_type": "code",
   "execution_count": null,
   "metadata": {},
   "outputs": [
    {
     "name": "stdout",
     "output_type": "stream",
     "text": [
      "1117778\n",
      "1117777\n",
      "(1117778, 4)\n",
      "7486\n",
      "1117777\n",
      "1110292\n",
      "(7486, 3)\n",
      "1110292\n",
      "1110291\n",
      "(1110292, 3)\n"
     ]
    }
   ],
   "source": [
    "print(len(entity_filtered['new_map_id'].unique()))\n",
    "print(entity_filtered['new_map_id'].max())\n",
    "print(entity_filtered.shape)\n",
    "\n",
    "print(len(category_filtered['new_categorymap_id'].unique()))\n",
    "print(category_filtered['new_categorymap_id'].max())\n",
    "print(category_filtered['new_categorymap_id'].min())\n",
    "print(category_filtered.shape)\n",
    "\n",
    "print(len(item_filtered['new_itemmap_id'].unique()))\n",
    "\n",
    "print(item_filtered['new_itemmap_id'].max())\n",
    "print(item_filtered.shape)"
   ]
  },
  {
   "cell_type": "code",
   "execution_count": 57,
   "metadata": {},
   "outputs": [],
   "source": [
    "## saving the item list and entity list\n",
    "\n",
    "entity_filtered.to_csv('entity_filtered_list.csv')\n",
    "item_filtered.to_csv('item_filtered_list.csv')\n",
    "category_filtered.to_csv('category_filtered_list.csv')"
   ]
  },
  {
   "cell_type": "code",
   "execution_count": 94,
   "metadata": {},
   "outputs": [
    {
     "name": "stdout",
     "output_type": "stream",
     "text": [
      "   user_id  item_id  category_id behavior_type   timestamp\n",
      "0        1  2268318      2520377            pv  1511544070\n",
      "1        1  2333346      2520771            pv  1511561733\n",
      "2        1  2576651       149192            pv  1511572885\n",
      "3        1  3830808      4181361            pv  1511593493\n",
      "4        1  4365585      2520377            pv  1511596146\n"
     ]
    }
   ],
   "source": [
    "print(taobao_df.head())"
   ]
  },
  {
   "cell_type": "code",
   "execution_count": 146,
   "metadata": {},
   "outputs": [
    {
     "name": "stdout",
     "output_type": "stream",
     "text": [
      "(100150807, 5)\n",
      "(4163442, 2)\n",
      "   item_id  category_id\n",
      "0  2268318      2520377\n",
      "1  2333346      2520771\n",
      "2  2576651       149192\n",
      "3  3830808      4181361\n",
      "4  4365585      2520377\n"
     ]
    }
   ],
   "source": [
    "print(taobao_df.shape)\n",
    "taobao_filtered2 = taobao_df[['item_id', 'category_id']].drop_duplicates()\n",
    "print(taobao_filtered2.shape)\n",
    "print(taobao_filtered2.head())"
   ]
  },
  {
   "cell_type": "code",
   "execution_count": 147,
   "metadata": {},
   "outputs": [
    {
     "data": {
      "text/html": [
       "<div>\n",
       "<style scoped>\n",
       "    .dataframe tbody tr th:only-of-type {\n",
       "        vertical-align: middle;\n",
       "    }\n",
       "\n",
       "    .dataframe tbody tr th {\n",
       "        vertical-align: top;\n",
       "    }\n",
       "\n",
       "    .dataframe thead th {\n",
       "        text-align: right;\n",
       "    }\n",
       "</style>\n",
       "<table border=\"1\" class=\"dataframe\">\n",
       "  <thead>\n",
       "    <tr style=\"text-align: right;\">\n",
       "      <th></th>\n",
       "      <th>new_itemmap_id</th>\n",
       "      <th>itemmap_id</th>\n",
       "      <th>item_id</th>\n",
       "    </tr>\n",
       "  </thead>\n",
       "  <tbody>\n",
       "    <tr>\n",
       "      <th>0</th>\n",
       "      <td>0</td>\n",
       "      <td>6</td>\n",
       "      <td>1587638</td>\n",
       "    </tr>\n",
       "    <tr>\n",
       "      <th>1</th>\n",
       "      <td>1</td>\n",
       "      <td>15</td>\n",
       "      <td>4102184</td>\n",
       "    </tr>\n",
       "    <tr>\n",
       "      <th>2</th>\n",
       "      <td>2</td>\n",
       "      <td>16</td>\n",
       "      <td>4823083</td>\n",
       "    </tr>\n",
       "    <tr>\n",
       "      <th>3</th>\n",
       "      <td>3</td>\n",
       "      <td>24</td>\n",
       "      <td>3597637</td>\n",
       "    </tr>\n",
       "    <tr>\n",
       "      <th>4</th>\n",
       "      <td>4</td>\n",
       "      <td>25</td>\n",
       "      <td>884047</td>\n",
       "    </tr>\n",
       "  </tbody>\n",
       "</table>\n",
       "</div>"
      ],
      "text/plain": [
       "   new_itemmap_id  itemmap_id  item_id\n",
       "0               0           6  1587638\n",
       "1               1          15  4102184\n",
       "2               2          16  4823083\n",
       "3               3          24  3597637\n",
       "4               4          25   884047"
      ]
     },
     "execution_count": 147,
     "metadata": {},
     "output_type": "execute_result"
    }
   ],
   "source": [
    "item_filtered.head()"
   ]
  },
  {
   "cell_type": "code",
   "execution_count": 141,
   "metadata": {},
   "outputs": [
    {
     "ename": "KeyboardInterrupt",
     "evalue": "",
     "output_type": "error",
     "traceback": [
      "\u001b[0;31m---------------------------------------------------------------------------\u001b[0m",
      "\u001b[0;31mKeyboardInterrupt\u001b[0m                         Traceback (most recent call last)",
      "\u001b[0;32m/tmp/ipykernel_44396/2277856942.py\u001b[0m in \u001b[0;36m<module>\u001b[0;34m\u001b[0m\n\u001b[0;32m----> 1\u001b[0;31m \u001b[0mtrial\u001b[0m \u001b[0;34m=\u001b[0m \u001b[0mtaobao_df\u001b[0m\u001b[0;34m.\u001b[0m\u001b[0mgroupby\u001b[0m\u001b[0;34m(\u001b[0m\u001b[0;34m'item_id'\u001b[0m\u001b[0;34m)\u001b[0m\u001b[0;34m[\u001b[0m\u001b[0;34m'category_id'\u001b[0m\u001b[0;34m]\u001b[0m\u001b[0;34m.\u001b[0m\u001b[0mnunique\u001b[0m\u001b[0;34m(\u001b[0m\u001b[0;34m)\u001b[0m\u001b[0;34m\u001b[0m\u001b[0;34m\u001b[0m\u001b[0m\n\u001b[0m",
      "\u001b[0;32m/usr/lib/python3/dist-packages/pandas/core/groupby/generic.py\u001b[0m in \u001b[0;36mnunique\u001b[0;34m(self, dropna)\u001b[0m\n\u001b[1;32m    634\u001b[0m \u001b[0;34m\u001b[0m\u001b[0m\n\u001b[1;32m    635\u001b[0m         \u001b[0mcodes\u001b[0m\u001b[0;34m,\u001b[0m \u001b[0m_\u001b[0m \u001b[0;34m=\u001b[0m \u001b[0malgorithms\u001b[0m\u001b[0;34m.\u001b[0m\u001b[0mfactorize\u001b[0m\u001b[0;34m(\u001b[0m\u001b[0mval\u001b[0m\u001b[0;34m,\u001b[0m \u001b[0msort\u001b[0m\u001b[0;34m=\u001b[0m\u001b[0;32mFalse\u001b[0m\u001b[0;34m)\u001b[0m\u001b[0;34m\u001b[0m\u001b[0;34m\u001b[0m\u001b[0m\n\u001b[0;32m--> 636\u001b[0;31m         \u001b[0msorter\u001b[0m \u001b[0;34m=\u001b[0m \u001b[0mnp\u001b[0m\u001b[0;34m.\u001b[0m\u001b[0mlexsort\u001b[0m\u001b[0;34m(\u001b[0m\u001b[0;34m(\u001b[0m\u001b[0mcodes\u001b[0m\u001b[0;34m,\u001b[0m \u001b[0mids\u001b[0m\u001b[0;34m)\u001b[0m\u001b[0;34m)\u001b[0m\u001b[0;34m\u001b[0m\u001b[0;34m\u001b[0m\u001b[0m\n\u001b[0m\u001b[1;32m    637\u001b[0m         \u001b[0mcodes\u001b[0m \u001b[0;34m=\u001b[0m \u001b[0mcodes\u001b[0m\u001b[0;34m[\u001b[0m\u001b[0msorter\u001b[0m\u001b[0;34m]\u001b[0m\u001b[0;34m\u001b[0m\u001b[0;34m\u001b[0m\u001b[0m\n\u001b[1;32m    638\u001b[0m         \u001b[0mids\u001b[0m \u001b[0;34m=\u001b[0m \u001b[0mids\u001b[0m\u001b[0;34m[\u001b[0m\u001b[0msorter\u001b[0m\u001b[0;34m]\u001b[0m\u001b[0;34m\u001b[0m\u001b[0;34m\u001b[0m\u001b[0m\n",
      "\u001b[0;31mKeyboardInterrupt\u001b[0m: "
     ]
    }
   ],
   "source": [
    "trial = taobao_df.groupby('item_id')['category_id'].nunique()"
   ]
  },
  {
   "cell_type": "code",
   "execution_count": 119,
   "metadata": {},
   "outputs": [
    {
     "name": "stdout",
     "output_type": "stream",
     "text": [
      "   item_id  category_id\n",
      "0        1            1\n",
      "1        3            1\n",
      "2        4            1\n",
      "3        5            1\n",
      "4        6            1\n"
     ]
    },
    {
     "data": {
      "text/html": [
       "<div>\n",
       "<style scoped>\n",
       "    .dataframe tbody tr th:only-of-type {\n",
       "        vertical-align: middle;\n",
       "    }\n",
       "\n",
       "    .dataframe tbody tr th {\n",
       "        vertical-align: top;\n",
       "    }\n",
       "\n",
       "    .dataframe thead th {\n",
       "        text-align: right;\n",
       "    }\n",
       "</style>\n",
       "<table border=\"1\" class=\"dataframe\">\n",
       "  <thead>\n",
       "    <tr style=\"text-align: right;\">\n",
       "      <th></th>\n",
       "      <th>item_id</th>\n",
       "      <th>category_id</th>\n",
       "    </tr>\n",
       "  </thead>\n",
       "  <tbody>\n",
       "    <tr>\n",
       "      <th>1316</th>\n",
       "      <td>1608</td>\n",
       "      <td>2</td>\n",
       "    </tr>\n",
       "    <tr>\n",
       "      <th>2475</th>\n",
       "      <td>3035</td>\n",
       "      <td>2</td>\n",
       "    </tr>\n",
       "    <tr>\n",
       "      <th>8324</th>\n",
       "      <td>10307</td>\n",
       "      <td>2</td>\n",
       "    </tr>\n",
       "    <tr>\n",
       "      <th>16397</th>\n",
       "      <td>20353</td>\n",
       "      <td>2</td>\n",
       "    </tr>\n",
       "    <tr>\n",
       "      <th>20228</th>\n",
       "      <td>25084</td>\n",
       "      <td>2</td>\n",
       "    </tr>\n",
       "    <tr>\n",
       "      <th>...</th>\n",
       "      <td>...</td>\n",
       "      <td>...</td>\n",
       "    </tr>\n",
       "    <tr>\n",
       "      <th>4147343</th>\n",
       "      <td>5144889</td>\n",
       "      <td>2</td>\n",
       "    </tr>\n",
       "    <tr>\n",
       "      <th>4148256</th>\n",
       "      <td>5146010</td>\n",
       "      <td>2</td>\n",
       "    </tr>\n",
       "    <tr>\n",
       "      <th>4149316</th>\n",
       "      <td>5147331</td>\n",
       "      <td>2</td>\n",
       "    </tr>\n",
       "    <tr>\n",
       "      <th>4158829</th>\n",
       "      <td>5159113</td>\n",
       "      <td>2</td>\n",
       "    </tr>\n",
       "    <tr>\n",
       "      <th>4161115</th>\n",
       "      <td>5161931</td>\n",
       "      <td>2</td>\n",
       "    </tr>\n",
       "  </tbody>\n",
       "</table>\n",
       "<p>1406 rows × 2 columns</p>\n",
       "</div>"
      ],
      "text/plain": [
       "         item_id  category_id\n",
       "1316        1608            2\n",
       "2475        3035            2\n",
       "8324       10307            2\n",
       "16397      20353            2\n",
       "20228      25084            2\n",
       "...          ...          ...\n",
       "4147343  5144889            2\n",
       "4148256  5146010            2\n",
       "4149316  5147331            2\n",
       "4158829  5159113            2\n",
       "4161115  5161931            2\n",
       "\n",
       "[1406 rows x 2 columns]"
      ]
     },
     "execution_count": 119,
     "metadata": {},
     "output_type": "execute_result"
    }
   ],
   "source": [
    "trial = trial.reset_index()\n",
    "print(trial.head())\n",
    "trial[trial['category_id'] != 1]"
   ]
  },
  {
   "cell_type": "code",
   "execution_count": 148,
   "metadata": {},
   "outputs": [
    {
     "name": "stdout",
     "output_type": "stream",
     "text": [
      "(1110953, 2)\n"
     ]
    }
   ],
   "source": [
    "taobao_filtered2 = taobao_filtered2[(taobao_filtered2['item_id'].isin(item_filtered['item_id'])) & (taobao_filtered2['category_id'].isin(category_filtered['category_id']))]\n",
    "print(taobao_filtered2.shape)"
   ]
  },
  {
   "cell_type": "code",
   "execution_count": 149,
   "metadata": {},
   "outputs": [
    {
     "data": {
      "text/plain": [
       "1110292"
      ]
     },
     "execution_count": 149,
     "metadata": {},
     "output_type": "execute_result"
    }
   ],
   "source": [
    "len(item_filtered['item_id'].unique())"
   ]
  },
  {
   "cell_type": "code",
   "execution_count": 150,
   "metadata": {},
   "outputs": [
    {
     "name": "stdout",
     "output_type": "stream",
     "text": [
      "1110292\n"
     ]
    }
   ],
   "source": [
    "print(len(taobao_filtered2['item_id'].unique()))"
   ]
  },
  {
   "cell_type": "code",
   "execution_count": 152,
   "metadata": {},
   "outputs": [
    {
     "name": "stdout",
     "output_type": "stream",
     "text": [
      "7486\n"
     ]
    }
   ],
   "source": [
    "print(len(taobao_filtered2['category_id'].unique()))\n"
   ]
  },
  {
   "cell_type": "code",
   "execution_count": 153,
   "metadata": {},
   "outputs": [
    {
     "name": "stdout",
     "output_type": "stream",
     "text": [
      "(1110953, 2)\n",
      "(100150807, 5)\n",
      "   item_id  category_id\n",
      "0  2268318      2520377\n",
      "1  2333346      2520771\n",
      "2  2576651       149192\n",
      "3  3830808      4181361\n",
      "4  4365585      2520377\n"
     ]
    }
   ],
   "source": [
    "print(taobao_filtered2.shape)\n",
    "print(taobao_df.shape)\n",
    "print(taobao_filtered2.head())"
   ]
  },
  {
   "cell_type": "code",
   "execution_count": 154,
   "metadata": {},
   "outputs": [
    {
     "data": {
      "text/html": [
       "<div>\n",
       "<style scoped>\n",
       "    .dataframe tbody tr th:only-of-type {\n",
       "        vertical-align: middle;\n",
       "    }\n",
       "\n",
       "    .dataframe tbody tr th {\n",
       "        vertical-align: top;\n",
       "    }\n",
       "\n",
       "    .dataframe thead th {\n",
       "        text-align: right;\n",
       "    }\n",
       "</style>\n",
       "<table border=\"1\" class=\"dataframe\">\n",
       "  <thead>\n",
       "    <tr style=\"text-align: right;\">\n",
       "      <th></th>\n",
       "      <th>item_id</th>\n",
       "      <th>category_id</th>\n",
       "      <th>new_itemmap_id</th>\n",
       "      <th>itemmap_id</th>\n",
       "    </tr>\n",
       "  </thead>\n",
       "  <tbody>\n",
       "    <tr>\n",
       "      <th>0</th>\n",
       "      <td>2268318</td>\n",
       "      <td>2520377</td>\n",
       "      <td>754333</td>\n",
       "      <td>2827803</td>\n",
       "    </tr>\n",
       "    <tr>\n",
       "      <th>1</th>\n",
       "      <td>2333346</td>\n",
       "      <td>2520771</td>\n",
       "      <td>869675</td>\n",
       "      <td>3261306</td>\n",
       "    </tr>\n",
       "    <tr>\n",
       "      <th>2</th>\n",
       "      <td>2576651</td>\n",
       "      <td>149192</td>\n",
       "      <td>652803</td>\n",
       "      <td>2446773</td>\n",
       "    </tr>\n",
       "    <tr>\n",
       "      <th>3</th>\n",
       "      <td>3830808</td>\n",
       "      <td>4181361</td>\n",
       "      <td>608696</td>\n",
       "      <td>2281264</td>\n",
       "    </tr>\n",
       "    <tr>\n",
       "      <th>4</th>\n",
       "      <td>4365585</td>\n",
       "      <td>2520377</td>\n",
       "      <td>980434</td>\n",
       "      <td>3676007</td>\n",
       "    </tr>\n",
       "  </tbody>\n",
       "</table>\n",
       "</div>"
      ],
      "text/plain": [
       "   item_id  category_id  new_itemmap_id  itemmap_id\n",
       "0  2268318      2520377          754333     2827803\n",
       "1  2333346      2520771          869675     3261306\n",
       "2  2576651       149192          652803     2446773\n",
       "3  3830808      4181361          608696     2281264\n",
       "4  4365585      2520377          980434     3676007"
      ]
     },
     "execution_count": 154,
     "metadata": {},
     "output_type": "execute_result"
    }
   ],
   "source": [
    "## making the filtered kg graph\n",
    "taobao_filtered2 = taobao_filtered2.merge(item_filtered, on = 'item_id', how = 'left')\n",
    "taobao_filtered2.head()"
   ]
  },
  {
   "cell_type": "code",
   "execution_count": 155,
   "metadata": {},
   "outputs": [],
   "source": [
    "taobao_filtered2 = taobao_filtered2.merge(category_filtered, on = 'category_id', how = 'left')"
   ]
  },
  {
   "cell_type": "code",
   "execution_count": 156,
   "metadata": {},
   "outputs": [
    {
     "data": {
      "text/html": [
       "<div>\n",
       "<style scoped>\n",
       "    .dataframe tbody tr th:only-of-type {\n",
       "        vertical-align: middle;\n",
       "    }\n",
       "\n",
       "    .dataframe tbody tr th {\n",
       "        vertical-align: top;\n",
       "    }\n",
       "\n",
       "    .dataframe thead th {\n",
       "        text-align: right;\n",
       "    }\n",
       "</style>\n",
       "<table border=\"1\" class=\"dataframe\">\n",
       "  <thead>\n",
       "    <tr style=\"text-align: right;\">\n",
       "      <th></th>\n",
       "      <th>item_id</th>\n",
       "      <th>category_id</th>\n",
       "      <th>new_itemmap_id</th>\n",
       "      <th>itemmap_id</th>\n",
       "      <th>new_categorymap_id</th>\n",
       "      <th>categorymap_id</th>\n",
       "    </tr>\n",
       "  </thead>\n",
       "  <tbody>\n",
       "    <tr>\n",
       "      <th>0</th>\n",
       "      <td>2268318</td>\n",
       "      <td>2520377</td>\n",
       "      <td>754333</td>\n",
       "      <td>2827803</td>\n",
       "      <td>1113413</td>\n",
       "      <td>4165957</td>\n",
       "    </tr>\n",
       "    <tr>\n",
       "      <th>1</th>\n",
       "      <td>2333346</td>\n",
       "      <td>2520771</td>\n",
       "      <td>869675</td>\n",
       "      <td>3261306</td>\n",
       "      <td>1112174</td>\n",
       "      <td>4164386</td>\n",
       "    </tr>\n",
       "    <tr>\n",
       "      <th>2</th>\n",
       "      <td>2576651</td>\n",
       "      <td>149192</td>\n",
       "      <td>652803</td>\n",
       "      <td>2446773</td>\n",
       "      <td>1112954</td>\n",
       "      <td>4165378</td>\n",
       "    </tr>\n",
       "    <tr>\n",
       "      <th>3</th>\n",
       "      <td>3830808</td>\n",
       "      <td>4181361</td>\n",
       "      <td>608696</td>\n",
       "      <td>2281264</td>\n",
       "      <td>1117217</td>\n",
       "      <td>4170771</td>\n",
       "    </tr>\n",
       "    <tr>\n",
       "      <th>4</th>\n",
       "      <td>4365585</td>\n",
       "      <td>2520377</td>\n",
       "      <td>980434</td>\n",
       "      <td>3676007</td>\n",
       "      <td>1113413</td>\n",
       "      <td>4165957</td>\n",
       "    </tr>\n",
       "  </tbody>\n",
       "</table>\n",
       "</div>"
      ],
      "text/plain": [
       "   item_id  category_id  new_itemmap_id  itemmap_id  new_categorymap_id  \\\n",
       "0  2268318      2520377          754333     2827803             1113413   \n",
       "1  2333346      2520771          869675     3261306             1112174   \n",
       "2  2576651       149192          652803     2446773             1112954   \n",
       "3  3830808      4181361          608696     2281264             1117217   \n",
       "4  4365585      2520377          980434     3676007             1113413   \n",
       "\n",
       "   categorymap_id  \n",
       "0         4165957  \n",
       "1         4164386  \n",
       "2         4165378  \n",
       "3         4170771  \n",
       "4         4165957  "
      ]
     },
     "execution_count": 156,
     "metadata": {},
     "output_type": "execute_result"
    }
   ],
   "source": [
    "taobao_filtered2.head()"
   ]
  },
  {
   "cell_type": "code",
   "execution_count": 157,
   "metadata": {},
   "outputs": [
    {
     "name": "stdout",
     "output_type": "stream",
     "text": [
      "(1110953, 6)\n"
     ]
    },
    {
     "data": {
      "text/html": [
       "<div>\n",
       "<style scoped>\n",
       "    .dataframe tbody tr th:only-of-type {\n",
       "        vertical-align: middle;\n",
       "    }\n",
       "\n",
       "    .dataframe tbody tr th {\n",
       "        vertical-align: top;\n",
       "    }\n",
       "\n",
       "    .dataframe thead th {\n",
       "        text-align: right;\n",
       "    }\n",
       "</style>\n",
       "<table border=\"1\" class=\"dataframe\">\n",
       "  <thead>\n",
       "    <tr style=\"text-align: right;\">\n",
       "      <th></th>\n",
       "      <th>item_id</th>\n",
       "      <th>category_id</th>\n",
       "      <th>new_itemmap_id</th>\n",
       "      <th>itemmap_id</th>\n",
       "      <th>new_categorymap_id</th>\n",
       "      <th>categorymap_id</th>\n",
       "    </tr>\n",
       "  </thead>\n",
       "  <tbody>\n",
       "    <tr>\n",
       "      <th>0</th>\n",
       "      <td>2268318</td>\n",
       "      <td>2520377</td>\n",
       "      <td>754333</td>\n",
       "      <td>2827803</td>\n",
       "      <td>1113413</td>\n",
       "      <td>4165957</td>\n",
       "    </tr>\n",
       "    <tr>\n",
       "      <th>1</th>\n",
       "      <td>2333346</td>\n",
       "      <td>2520771</td>\n",
       "      <td>869675</td>\n",
       "      <td>3261306</td>\n",
       "      <td>1112174</td>\n",
       "      <td>4164386</td>\n",
       "    </tr>\n",
       "    <tr>\n",
       "      <th>2</th>\n",
       "      <td>2576651</td>\n",
       "      <td>149192</td>\n",
       "      <td>652803</td>\n",
       "      <td>2446773</td>\n",
       "      <td>1112954</td>\n",
       "      <td>4165378</td>\n",
       "    </tr>\n",
       "    <tr>\n",
       "      <th>3</th>\n",
       "      <td>3830808</td>\n",
       "      <td>4181361</td>\n",
       "      <td>608696</td>\n",
       "      <td>2281264</td>\n",
       "      <td>1117217</td>\n",
       "      <td>4170771</td>\n",
       "    </tr>\n",
       "    <tr>\n",
       "      <th>4</th>\n",
       "      <td>4365585</td>\n",
       "      <td>2520377</td>\n",
       "      <td>980434</td>\n",
       "      <td>3676007</td>\n",
       "      <td>1113413</td>\n",
       "      <td>4165957</td>\n",
       "    </tr>\n",
       "  </tbody>\n",
       "</table>\n",
       "</div>"
      ],
      "text/plain": [
       "   item_id  category_id  new_itemmap_id  itemmap_id  new_categorymap_id  \\\n",
       "0  2268318      2520377          754333     2827803             1113413   \n",
       "1  2333346      2520771          869675     3261306             1112174   \n",
       "2  2576651       149192          652803     2446773             1112954   \n",
       "3  3830808      4181361          608696     2281264             1117217   \n",
       "4  4365585      2520377          980434     3676007             1113413   \n",
       "\n",
       "   categorymap_id  \n",
       "0         4165957  \n",
       "1         4164386  \n",
       "2         4165378  \n",
       "3         4170771  \n",
       "4         4165957  "
      ]
     },
     "execution_count": 157,
     "metadata": {},
     "output_type": "execute_result"
    }
   ],
   "source": [
    "print(taobao_filtered2.shape)\n",
    "taobao_filtered2.head()"
   ]
  },
  {
   "cell_type": "code",
   "execution_count": 158,
   "metadata": {},
   "outputs": [
    {
     "name": "stdout",
     "output_type": "stream",
     "text": [
      "7486\n",
      "1110292\n"
     ]
    }
   ],
   "source": [
    "print(len(taobao_filtered2['new_categorymap_id'].unique()))\n",
    "print(len(taobao_filtered2['new_itemmap_id'].unique()))"
   ]
  },
  {
   "cell_type": "code",
   "execution_count": 159,
   "metadata": {},
   "outputs": [
    {
     "name": "stdout",
     "output_type": "stream",
     "text": [
      "(1110953, 2)\n"
     ]
    }
   ],
   "source": [
    "taobao_filtered3 = taobao_filtered2[['new_itemmap_id', 'new_categorymap_id']].drop_duplicates()\n",
    "print(taobao_filtered3.shape)\n"
   ]
  },
  {
   "cell_type": "code",
   "execution_count": 162,
   "metadata": {},
   "outputs": [
    {
     "name": "stdout",
     "output_type": "stream",
     "text": [
      "7486\n",
      "1110292\n"
     ]
    }
   ],
   "source": [
    "print(len(taobao_filtered3['new_categorymap_id'].unique()))\n",
    "print(len(taobao_filtered3['new_itemmap_id'].unique()))"
   ]
  },
  {
   "cell_type": "code",
   "execution_count": 163,
   "metadata": {},
   "outputs": [
    {
     "data": {
      "text/plain": [
       "1117778"
      ]
     },
     "execution_count": 163,
     "metadata": {},
     "output_type": "execute_result"
    }
   ],
   "source": [
    "1110292 + 7486"
   ]
  },
  {
   "cell_type": "code",
   "execution_count": 164,
   "metadata": {},
   "outputs": [
    {
     "data": {
      "text/plain": [
       "7274"
      ]
     },
     "execution_count": 164,
     "metadata": {},
     "output_type": "execute_result"
    }
   ],
   "source": [
    "1117778 - 1110504"
   ]
  },
  {
   "cell_type": "code",
   "execution_count": 165,
   "metadata": {},
   "outputs": [
    {
     "name": "stdout",
     "output_type": "stream",
     "text": [
      "(1110953, 2)\n"
     ]
    }
   ],
   "source": [
    "print(taobao_filtered3.shape)"
   ]
  },
  {
   "cell_type": "code",
   "execution_count": 174,
   "metadata": {},
   "outputs": [
    {
     "name": "stdout",
     "output_type": "stream",
     "text": [
      "     head     tail  relation\n",
      "0  754333  1113413         0\n",
      "1  869675  1112174         0\n",
      "2  652803  1112954         0\n",
      "3  608696  1117217         0\n",
      "4  980434  1113413         0\n",
      "      head    tail  relation\n",
      "0  1113413  754333         1\n",
      "1  1112174  869675         1\n",
      "2  1112954  652803         1\n",
      "3  1117217  608696         1\n",
      "4  1113413  980434         1\n"
     ]
    }
   ],
   "source": [
    "taobao_kg_itemtocat = taobao_filtered3.copy(deep = True)\n",
    "taobao_kg_cattoitem = taobao_filtered3.copy(deep = True)\n",
    "\n",
    "taobao_kg_itemtocat = taobao_kg_itemtocat[['new_itemmap_id', 'new_categorymap_id']]\n",
    "taobao_kg_cattoitem = taobao_kg_cattoitem[['new_categorymap_id', 'new_itemmap_id']]\n",
    "\n",
    "\n",
    "taobao_kg_itemtocat['relation'] = 0\n",
    "taobao_kg_cattoitem['relation'] = 1\n",
    "\n",
    "taobao_kg_itemtocat = taobao_kg_itemtocat.rename(columns = {'new_itemmap_id': 'head', \n",
    "                                                              'new_categorymap_id': 'tail'})\n",
    "taobao_kg_cattoitem = taobao_kg_cattoitem.rename(columns = {'new_categorymap_id': 'head', \n",
    "                                                            'new_itemmap_id': 'tail'})\n",
    "\n",
    "print(taobao_kg_itemtocat.head())\n",
    "print(taobao_kg_cattoitem.head())"
   ]
  },
  {
   "cell_type": "code",
   "execution_count": 175,
   "metadata": {},
   "outputs": [],
   "source": [
    "kg_filtered = pd.concat([taobao_kg_itemtocat, taobao_kg_cattoitem])"
   ]
  },
  {
   "cell_type": "code",
   "execution_count": 177,
   "metadata": {},
   "outputs": [
    {
     "name": "stdout",
     "output_type": "stream",
     "text": [
      "1117778\n",
      "1117778\n"
     ]
    }
   ],
   "source": [
    "print(len(kg_filtered['head'].unique()))\n",
    "print(len(kg_filtered['tail'].unique()))"
   ]
  },
  {
   "cell_type": "code",
   "execution_count": 178,
   "metadata": {},
   "outputs": [
    {
     "name": "stdout",
     "output_type": "stream",
     "text": [
      "(2221906, 3)\n"
     ]
    }
   ],
   "source": [
    "print(kg_filtered.shape)"
   ]
  },
  {
   "cell_type": "code",
   "execution_count": 179,
   "metadata": {},
   "outputs": [
    {
     "data": {
      "text/html": [
       "<div>\n",
       "<style scoped>\n",
       "    .dataframe tbody tr th:only-of-type {\n",
       "        vertical-align: middle;\n",
       "    }\n",
       "\n",
       "    .dataframe tbody tr th {\n",
       "        vertical-align: top;\n",
       "    }\n",
       "\n",
       "    .dataframe thead th {\n",
       "        text-align: right;\n",
       "    }\n",
       "</style>\n",
       "<table border=\"1\" class=\"dataframe\">\n",
       "  <thead>\n",
       "    <tr style=\"text-align: right;\">\n",
       "      <th></th>\n",
       "      <th>head</th>\n",
       "      <th>tail</th>\n",
       "      <th>relation</th>\n",
       "    </tr>\n",
       "  </thead>\n",
       "  <tbody>\n",
       "    <tr>\n",
       "      <th>0</th>\n",
       "      <td>754333</td>\n",
       "      <td>1113413</td>\n",
       "      <td>0</td>\n",
       "    </tr>\n",
       "    <tr>\n",
       "      <th>1</th>\n",
       "      <td>869675</td>\n",
       "      <td>1112174</td>\n",
       "      <td>0</td>\n",
       "    </tr>\n",
       "    <tr>\n",
       "      <th>2</th>\n",
       "      <td>652803</td>\n",
       "      <td>1112954</td>\n",
       "      <td>0</td>\n",
       "    </tr>\n",
       "    <tr>\n",
       "      <th>3</th>\n",
       "      <td>608696</td>\n",
       "      <td>1117217</td>\n",
       "      <td>0</td>\n",
       "    </tr>\n",
       "    <tr>\n",
       "      <th>4</th>\n",
       "      <td>980434</td>\n",
       "      <td>1113413</td>\n",
       "      <td>0</td>\n",
       "    </tr>\n",
       "  </tbody>\n",
       "</table>\n",
       "</div>"
      ],
      "text/plain": [
       "     head     tail  relation\n",
       "0  754333  1113413         0\n",
       "1  869675  1112174         0\n",
       "2  652803  1112954         0\n",
       "3  608696  1117217         0\n",
       "4  980434  1113413         0"
      ]
     },
     "execution_count": 179,
     "metadata": {},
     "output_type": "execute_result"
    }
   ],
   "source": [
    "kg_filtered.head()"
   ]
  },
  {
   "cell_type": "code",
   "execution_count": 180,
   "metadata": {},
   "outputs": [],
   "source": [
    "kg_filtered.to_csv('kg_filtered.csv')"
   ]
  },
  {
   "cell_type": "markdown",
   "metadata": {},
   "source": [
    "# ignore down below"
   ]
  },
  {
   "cell_type": "code",
   "execution_count": 184,
   "metadata": {},
   "outputs": [
    {
     "data": {
      "text/plain": [
       "1110292"
      ]
     },
     "execution_count": 184,
     "metadata": {},
     "output_type": "execute_result"
    }
   ],
   "source": [
    "len(item_filtered['new_itemmap_id'].unique())"
   ]
  },
  {
   "cell_type": "code",
   "execution_count": 182,
   "metadata": {},
   "outputs": [
    {
     "data": {
      "text/html": [
       "<div>\n",
       "<style scoped>\n",
       "    .dataframe tbody tr th:only-of-type {\n",
       "        vertical-align: middle;\n",
       "    }\n",
       "\n",
       "    .dataframe tbody tr th {\n",
       "        vertical-align: top;\n",
       "    }\n",
       "\n",
       "    .dataframe thead th {\n",
       "        text-align: right;\n",
       "    }\n",
       "</style>\n",
       "<table border=\"1\" class=\"dataframe\">\n",
       "  <thead>\n",
       "    <tr style=\"text-align: right;\">\n",
       "      <th></th>\n",
       "      <th>new_itemmap_id</th>\n",
       "      <th>itemmap_id</th>\n",
       "      <th>item_id</th>\n",
       "    </tr>\n",
       "  </thead>\n",
       "  <tbody>\n",
       "  </tbody>\n",
       "</table>\n",
       "</div>"
      ],
      "text/plain": [
       "Empty DataFrame\n",
       "Columns: [new_itemmap_id, itemmap_id, item_id]\n",
       "Index: []"
      ]
     },
     "execution_count": 182,
     "metadata": {},
     "output_type": "execute_result"
    }
   ],
   "source": [
    "item_filtered[~item_filtered['new_itemmap_id'].isin(kg_filtered['head'])]"
   ]
  },
  {
   "cell_type": "code",
   "execution_count": 185,
   "metadata": {},
   "outputs": [
    {
     "data": {
      "text/html": [
       "<div>\n",
       "<style scoped>\n",
       "    .dataframe tbody tr th:only-of-type {\n",
       "        vertical-align: middle;\n",
       "    }\n",
       "\n",
       "    .dataframe tbody tr th {\n",
       "        vertical-align: top;\n",
       "    }\n",
       "\n",
       "    .dataframe thead th {\n",
       "        text-align: right;\n",
       "    }\n",
       "</style>\n",
       "<table border=\"1\" class=\"dataframe\">\n",
       "  <thead>\n",
       "    <tr style=\"text-align: right;\">\n",
       "      <th></th>\n",
       "      <th>new_categorymap_id</th>\n",
       "      <th>categorymap_id</th>\n",
       "      <th>category_id</th>\n",
       "    </tr>\n",
       "  </thead>\n",
       "  <tbody>\n",
       "  </tbody>\n",
       "</table>\n",
       "</div>"
      ],
      "text/plain": [
       "Empty DataFrame\n",
       "Columns: [new_categorymap_id, categorymap_id, category_id]\n",
       "Index: []"
      ]
     },
     "execution_count": 185,
     "metadata": {},
     "output_type": "execute_result"
    }
   ],
   "source": [
    "category_filtered[~category_filtered['new_categorymap_id'].isin(kg_filtered['head'])]"
   ]
  },
  {
   "cell_type": "code",
   "execution_count": 186,
   "metadata": {},
   "outputs": [],
   "source": [
    "taobao_filtered_trial = taobao_df[(taobao_df['item_id'].isin(item_filtered['item_id'])) & (taobao_df['category_id'].isin(category_filtered['category_id']))]\n"
   ]
  },
  {
   "cell_type": "code",
   "execution_count": 187,
   "metadata": {},
   "outputs": [
    {
     "name": "stdout",
     "output_type": "stream",
     "text": [
      "   user_id  item_id  category_id behavior_type   timestamp\n",
      "0        1  2268318      2520377            pv  1511544070\n",
      "1        1  2333346      2520771            pv  1511561733\n",
      "2        1  2576651       149192            pv  1511572885\n",
      "3        1  3830808      4181361            pv  1511593493\n",
      "4        1  4365585      2520377            pv  1511596146\n"
     ]
    }
   ],
   "source": [
    "print(taobao_filtered_trial.head())"
   ]
  },
  {
   "cell_type": "code",
   "execution_count": 189,
   "metadata": {},
   "outputs": [
    {
     "data": {
      "text/html": [
       "<div>\n",
       "<style scoped>\n",
       "    .dataframe tbody tr th:only-of-type {\n",
       "        vertical-align: middle;\n",
       "    }\n",
       "\n",
       "    .dataframe tbody tr th {\n",
       "        vertical-align: top;\n",
       "    }\n",
       "\n",
       "    .dataframe thead th {\n",
       "        text-align: right;\n",
       "    }\n",
       "</style>\n",
       "<table border=\"1\" class=\"dataframe\">\n",
       "  <thead>\n",
       "    <tr style=\"text-align: right;\">\n",
       "      <th></th>\n",
       "      <th>new_usermap_id</th>\n",
       "      <th>usermap_id</th>\n",
       "      <th>user_id</th>\n",
       "    </tr>\n",
       "  </thead>\n",
       "  <tbody>\n",
       "  </tbody>\n",
       "</table>\n",
       "</div>"
      ],
      "text/plain": [
       "Empty DataFrame\n",
       "Columns: [new_usermap_id, usermap_id, user_id]\n",
       "Index: []"
      ]
     },
     "execution_count": 189,
     "metadata": {},
     "output_type": "execute_result"
    }
   ],
   "source": [
    "users_filtered[~users_filtered['user_id'].isin(taobao_filtered_trial['user_id'])]"
   ]
  },
  {
   "cell_type": "code",
   "execution_count": 190,
   "metadata": {},
   "outputs": [
    {
     "data": {
      "text/html": [
       "<div>\n",
       "<style scoped>\n",
       "    .dataframe tbody tr th:only-of-type {\n",
       "        vertical-align: middle;\n",
       "    }\n",
       "\n",
       "    .dataframe tbody tr th {\n",
       "        vertical-align: top;\n",
       "    }\n",
       "\n",
       "    .dataframe thead th {\n",
       "        text-align: right;\n",
       "    }\n",
       "</style>\n",
       "<table border=\"1\" class=\"dataframe\">\n",
       "  <thead>\n",
       "    <tr style=\"text-align: right;\">\n",
       "      <th></th>\n",
       "      <th>user_id</th>\n",
       "      <th>item_id</th>\n",
       "      <th>category_id</th>\n",
       "      <th>behavior_type</th>\n",
       "      <th>timestamp</th>\n",
       "    </tr>\n",
       "  </thead>\n",
       "  <tbody>\n",
       "    <tr>\n",
       "      <th>0</th>\n",
       "      <td>1</td>\n",
       "      <td>2268318</td>\n",
       "      <td>2520377</td>\n",
       "      <td>pv</td>\n",
       "      <td>1511544070</td>\n",
       "    </tr>\n",
       "    <tr>\n",
       "      <th>1</th>\n",
       "      <td>1</td>\n",
       "      <td>2333346</td>\n",
       "      <td>2520771</td>\n",
       "      <td>pv</td>\n",
       "      <td>1511561733</td>\n",
       "    </tr>\n",
       "    <tr>\n",
       "      <th>2</th>\n",
       "      <td>1</td>\n",
       "      <td>2576651</td>\n",
       "      <td>149192</td>\n",
       "      <td>pv</td>\n",
       "      <td>1511572885</td>\n",
       "    </tr>\n",
       "    <tr>\n",
       "      <th>3</th>\n",
       "      <td>1</td>\n",
       "      <td>3830808</td>\n",
       "      <td>4181361</td>\n",
       "      <td>pv</td>\n",
       "      <td>1511593493</td>\n",
       "    </tr>\n",
       "    <tr>\n",
       "      <th>4</th>\n",
       "      <td>1</td>\n",
       "      <td>4365585</td>\n",
       "      <td>2520377</td>\n",
       "      <td>pv</td>\n",
       "      <td>1511596146</td>\n",
       "    </tr>\n",
       "    <tr>\n",
       "      <th>...</th>\n",
       "      <td>...</td>\n",
       "      <td>...</td>\n",
       "      <td>...</td>\n",
       "      <td>...</td>\n",
       "      <td>...</td>\n",
       "    </tr>\n",
       "    <tr>\n",
       "      <th>100150802</th>\n",
       "      <td>999999</td>\n",
       "      <td>4797808</td>\n",
       "      <td>11120</td>\n",
       "      <td>pv</td>\n",
       "      <td>1512293403</td>\n",
       "    </tr>\n",
       "    <tr>\n",
       "      <th>100150803</th>\n",
       "      <td>999999</td>\n",
       "      <td>4613472</td>\n",
       "      <td>4602841</td>\n",
       "      <td>pv</td>\n",
       "      <td>1512293766</td>\n",
       "    </tr>\n",
       "    <tr>\n",
       "      <th>100150804</th>\n",
       "      <td>999999</td>\n",
       "      <td>3647364</td>\n",
       "      <td>2304296</td>\n",
       "      <td>pv</td>\n",
       "      <td>1512293792</td>\n",
       "    </tr>\n",
       "    <tr>\n",
       "      <th>100150805</th>\n",
       "      <td>999999</td>\n",
       "      <td>1903801</td>\n",
       "      <td>2304296</td>\n",
       "      <td>pv</td>\n",
       "      <td>1512293827</td>\n",
       "    </tr>\n",
       "    <tr>\n",
       "      <th>100150806</th>\n",
       "      <td>999999</td>\n",
       "      <td>3696094</td>\n",
       "      <td>4602841</td>\n",
       "      <td>pv</td>\n",
       "      <td>1512293891</td>\n",
       "    </tr>\n",
       "  </tbody>\n",
       "</table>\n",
       "<p>66711787 rows × 5 columns</p>\n",
       "</div>"
      ],
      "text/plain": [
       "           user_id  item_id  category_id behavior_type   timestamp\n",
       "0                1  2268318      2520377            pv  1511544070\n",
       "1                1  2333346      2520771            pv  1511561733\n",
       "2                1  2576651       149192            pv  1511572885\n",
       "3                1  3830808      4181361            pv  1511593493\n",
       "4                1  4365585      2520377            pv  1511596146\n",
       "...            ...      ...          ...           ...         ...\n",
       "100150802   999999  4797808        11120            pv  1512293403\n",
       "100150803   999999  4613472      4602841            pv  1512293766\n",
       "100150804   999999  3647364      2304296            pv  1512293792\n",
       "100150805   999999  1903801      2304296            pv  1512293827\n",
       "100150806   999999  3696094      4602841            pv  1512293891\n",
       "\n",
       "[66711787 rows x 5 columns]"
      ]
     },
     "execution_count": 190,
     "metadata": {},
     "output_type": "execute_result"
    }
   ],
   "source": [
    "taobao_filtered_trial[~taobao_filtered_trial['item_id'].isin(kg_filtered['head'])]"
   ]
  },
  {
   "cell_type": "code",
   "execution_count": null,
   "metadata": {},
   "outputs": [],
   "source": []
  }
 ],
 "metadata": {
  "kernelspec": {
   "display_name": "Python 3",
   "language": "python",
   "name": "python3"
  },
  "language_info": {
   "codemirror_mode": {
    "name": "ipython",
    "version": 3
   },
   "file_extension": ".py",
   "mimetype": "text/x-python",
   "name": "python",
   "nbconvert_exporter": "python",
   "pygments_lexer": "ipython3",
   "version": "3.10.12"
  }
 },
 "nbformat": 4,
 "nbformat_minor": 2
}
