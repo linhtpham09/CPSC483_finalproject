{
 "cells": [
  {
   "cell_type": "markdown",
   "metadata": {},
   "source": [
    "# Part two of data processing \n",
    "\n",
    "This part is just knowledge graph creation"
   ]
  },
  {
   "cell_type": "code",
   "execution_count": 1,
   "metadata": {},
   "outputs": [],
   "source": [
    "## importing the necessary libraries for the Amazon data set\n",
    "import torch\n",
    "import numpy as np\n",
    "from torch_geometric.datasets import AmazonBook\n",
    "import pandas as pd"
   ]
  },
  {
   "cell_type": "code",
   "execution_count": 2,
   "metadata": {},
   "outputs": [
    {
     "name": "stdout",
     "output_type": "stream",
     "text": [
      "   0        1        2   3           4\n",
      "0  1  2268318  2520377  pv  1511544070\n",
      "1  1  2333346  2520771  pv  1511561733\n",
      "2  1  2576651   149192  pv  1511572885\n",
      "3  1  3830808  4181361  pv  1511593493\n",
      "4  1  4365585  2520377  pv  1511596146\n"
     ]
    },
    {
     "data": {
      "text/html": [
       "<div>\n",
       "<style scoped>\n",
       "    .dataframe tbody tr th:only-of-type {\n",
       "        vertical-align: middle;\n",
       "    }\n",
       "\n",
       "    .dataframe tbody tr th {\n",
       "        vertical-align: top;\n",
       "    }\n",
       "\n",
       "    .dataframe thead th {\n",
       "        text-align: right;\n",
       "    }\n",
       "</style>\n",
       "<table border=\"1\" class=\"dataframe\">\n",
       "  <thead>\n",
       "    <tr style=\"text-align: right;\">\n",
       "      <th></th>\n",
       "      <th>user_id</th>\n",
       "      <th>item_id</th>\n",
       "      <th>category_id</th>\n",
       "      <th>behavior_type</th>\n",
       "      <th>timestamp</th>\n",
       "    </tr>\n",
       "  </thead>\n",
       "  <tbody>\n",
       "    <tr>\n",
       "      <th>0</th>\n",
       "      <td>1</td>\n",
       "      <td>2268318</td>\n",
       "      <td>2520377</td>\n",
       "      <td>pv</td>\n",
       "      <td>1511544070</td>\n",
       "    </tr>\n",
       "    <tr>\n",
       "      <th>1</th>\n",
       "      <td>1</td>\n",
       "      <td>2333346</td>\n",
       "      <td>2520771</td>\n",
       "      <td>pv</td>\n",
       "      <td>1511561733</td>\n",
       "    </tr>\n",
       "    <tr>\n",
       "      <th>2</th>\n",
       "      <td>1</td>\n",
       "      <td>2576651</td>\n",
       "      <td>149192</td>\n",
       "      <td>pv</td>\n",
       "      <td>1511572885</td>\n",
       "    </tr>\n",
       "    <tr>\n",
       "      <th>3</th>\n",
       "      <td>1</td>\n",
       "      <td>3830808</td>\n",
       "      <td>4181361</td>\n",
       "      <td>pv</td>\n",
       "      <td>1511593493</td>\n",
       "    </tr>\n",
       "    <tr>\n",
       "      <th>4</th>\n",
       "      <td>1</td>\n",
       "      <td>4365585</td>\n",
       "      <td>2520377</td>\n",
       "      <td>pv</td>\n",
       "      <td>1511596146</td>\n",
       "    </tr>\n",
       "  </tbody>\n",
       "</table>\n",
       "</div>"
      ],
      "text/plain": [
       "   user_id  item_id  category_id behavior_type   timestamp\n",
       "0        1  2268318      2520377            pv  1511544070\n",
       "1        1  2333346      2520771            pv  1511561733\n",
       "2        1  2576651       149192            pv  1511572885\n",
       "3        1  3830808      4181361            pv  1511593493\n",
       "4        1  4365585      2520377            pv  1511596146"
      ]
     },
     "execution_count": 2,
     "metadata": {},
     "output_type": "execute_result"
    }
   ],
   "source": [
    "## loading in the Taobao data\n",
    "taobao_df = pd.read_csv(\"taobao/raw/UserBehavior.csv\", header = None)\n",
    "print(taobao_df.head())\n",
    "taobao_df.columns = ['user_id', 'item_id', 'category_id', 'behavior_type', 'timestamp']\n",
    "taobao_df.head()"
   ]
  },
  {
   "cell_type": "code",
   "execution_count": 3,
   "metadata": {},
   "outputs": [],
   "source": [
    "## loading in the various lists\n",
    "category_df = pd.read_csv('category_list.csv')\n",
    "entity_df = pd.read_csv('entity_list.csv')\n",
    "item_df = pd.read_csv('item_list.csv')\n",
    "relation_df = pd.read_csv('relation_list.csv')\n",
    "user_df = pd.read_csv('user_list.csv')"
   ]
  },
  {
   "cell_type": "code",
   "execution_count": 4,
   "metadata": {},
   "outputs": [
    {
     "name": "stdout",
     "output_type": "stream",
     "text": [
      "   categorymap_id  category_id\n",
      "0         4162024      1003418\n",
      "1         4162025      1047470\n",
      "2         4162026      2819583\n",
      "3         4162027      1363318\n",
      "4         4162028      2560150\n",
      "   map_id    og_id  type\n",
      "0       0  4910621  item\n",
      "1       1  4847970  item\n",
      "2       2  2736814  item\n",
      "3       3  2247338  item\n",
      "4       4  3840111  item\n",
      "   itemmap_id  item_id\n",
      "0           0  4910621\n",
      "1           1  4847970\n",
      "2           2  2736814\n",
      "3           3  2247338\n",
      "4           4  3840111\n",
      "      relation_type  relationmap_id\n",
      "0  item_to_category               0\n",
      "1  category_to_item               1\n",
      "   usermap_id  user_id\n",
      "0           0    10502\n",
      "1           1   710733\n",
      "2           2   412015\n",
      "3           3   309344\n",
      "4           4    49306\n"
     ]
    }
   ],
   "source": [
    "print(category_df.head())\n",
    "print(entity_df.head())\n",
    "print(item_df.head())\n",
    "print(relation_df.head())\n",
    "print(user_df.head())"
   ]
  },
  {
   "cell_type": "code",
   "execution_count": 5,
   "metadata": {},
   "outputs": [
    {
     "name": "stdout",
     "output_type": "stream",
     "text": [
      "   user_id  item_id  category_id behavior_type   timestamp\n",
      "0        1  2268318      2520377            pv  1511544070\n",
      "1        1  2333346      2520771            pv  1511561733\n",
      "2        1  2576651       149192            pv  1511572885\n",
      "3        1  3830808      4181361            pv  1511593493\n",
      "4        1  4365585      2520377            pv  1511596146\n"
     ]
    }
   ],
   "source": [
    "## going to create the knowledge graph\n",
    "print(taobao_df.head())"
   ]
  },
  {
   "cell_type": "code",
   "execution_count": 6,
   "metadata": {},
   "outputs": [
    {
     "name": "stdout",
     "output_type": "stream",
     "text": [
      "(100150807, 2)\n",
      "(100150807, 2)\n"
     ]
    }
   ],
   "source": [
    "## first pulling out the item to category relations\n",
    "\n",
    "item_to_category_df = taobao_df[['item_id', 'category_id']]\n",
    "category_to_item_df = taobao_df[['category_id', 'item_id']]\n",
    "\n",
    "print(item_to_category_df.shape)\n",
    "print(category_to_item_df.shape)\n"
   ]
  },
  {
   "cell_type": "code",
   "execution_count": 7,
   "metadata": {},
   "outputs": [],
   "source": [
    "taobao_df_filtered = taobao_df[['item_id', 'category_id']]\n"
   ]
  },
  {
   "cell_type": "code",
   "execution_count": 8,
   "metadata": {},
   "outputs": [],
   "source": [
    "## here is basically just getting the unique combinations between the item id and the category id\n",
    "taobao_df_filtered = taobao_df_filtered[['item_id', 'category_id']].drop_duplicates()\n"
   ]
  },
  {
   "cell_type": "code",
   "execution_count": 9,
   "metadata": {},
   "outputs": [
    {
     "name": "stdout",
     "output_type": "stream",
     "text": [
      "(4163442, 2)\n",
      "   item_id  category_id\n",
      "0  2268318      2520377\n",
      "1  2333346      2520771\n",
      "2  2576651       149192\n",
      "3  3830808      4181361\n",
      "4  4365585      2520377\n",
      "   itemmap_id  item_id\n",
      "0           0  4910621\n",
      "1           1  4847970\n",
      "2           2  2736814\n",
      "3           3  2247338\n",
      "4           4  3840111\n",
      "   categorymap_id  category_id\n",
      "0         4162024      1003418\n",
      "1         4162025      1047470\n",
      "2         4162026      2819583\n",
      "3         4162027      1363318\n",
      "4         4162028      2560150\n"
     ]
    }
   ],
   "source": [
    "print(taobao_df_filtered.shape)\n",
    "print(taobao_df_filtered.head())\n",
    "\n",
    "print(item_df.head())\n",
    "print(category_df.head())"
   ]
  },
  {
   "cell_type": "code",
   "execution_count": 10,
   "metadata": {},
   "outputs": [
    {
     "name": "stdout",
     "output_type": "stream",
     "text": [
      "(4163442, 3)\n",
      "   item_id  category_id  itemmap_id\n",
      "0  2268318      2520377     2827803\n",
      "1  2333346      2520771     3261306\n",
      "2  2576651       149192     2446773\n",
      "3  3830808      4181361     2281264\n",
      "4  4365585      2520377     3676007\n"
     ]
    }
   ],
   "source": [
    "## will map the item_id to the entity_remap id and the category_id to the entity_remap id as well\n",
    "taobao_filtered_joined_df = taobao_df_filtered.merge(item_df, how = 'left', on = 'item_id')\n",
    "print(taobao_filtered_joined_df.shape)\n",
    "print(taobao_filtered_joined_df.head())"
   ]
  },
  {
   "cell_type": "code",
   "execution_count": 11,
   "metadata": {},
   "outputs": [
    {
     "name": "stdout",
     "output_type": "stream",
     "text": [
      "(4163442, 4)\n",
      "   item_id  category_id  itemmap_id  categorymap_id\n",
      "0  2268318      2520377     2827803         4165957\n",
      "1  2333346      2520771     3261306         4164386\n",
      "2  2576651       149192     2446773         4165378\n",
      "3  3830808      4181361     2281264         4170771\n",
      "4  4365585      2520377     3676007         4165957\n"
     ]
    }
   ],
   "source": [
    "taobao_filtered_joined_df = taobao_filtered_joined_df.merge(category_df, how = 'left', on = 'category_id')\n",
    "print(taobao_filtered_joined_df.shape)\n",
    "print(taobao_filtered_joined_df.head())"
   ]
  },
  {
   "cell_type": "code",
   "execution_count": 12,
   "metadata": {},
   "outputs": [
    {
     "name": "stdout",
     "output_type": "stream",
     "text": [
      "(4163442, 4)\n"
     ]
    }
   ],
   "source": [
    "print(taobao_filtered_joined_df.dropna().shape)\n",
    "### no empty entries!"
   ]
  },
  {
   "cell_type": "code",
   "execution_count": 14,
   "metadata": {},
   "outputs": [
    {
     "name": "stdout",
     "output_type": "stream",
     "text": [
      "      head     tail  relation\n",
      "0  2827803  4165957         0\n",
      "1  3261306  4164386         0\n",
      "2  2446773  4165378         0\n",
      "3  2281264  4170771         0\n",
      "4  3676007  4165957         0\n",
      "      head     tail  relation\n",
      "0  4165957  2827803         1\n",
      "1  4164386  3261306         1\n",
      "2  4165378  2446773         1\n",
      "3  4170771  2281264         1\n",
      "4  4165957  3676007         1\n"
     ]
    }
   ],
   "source": [
    "## here, will create the two knowledge graphs\n",
    "taobao_kg_itemtocat = taobao_filtered_joined_df.copy(deep = True)\n",
    "taobao_kg_cattoitem = taobao_filtered_joined_df.copy(deep = True)\n",
    "\n",
    "taobao_kg_itemtocat = taobao_kg_itemtocat[['itemmap_id', 'categorymap_id']]\n",
    "taobao_kg_cattoitem = taobao_kg_cattoitem[['categorymap_id', 'itemmap_id']]\n",
    "\n",
    "\n",
    "taobao_kg_itemtocat['relation'] = 0\n",
    "taobao_kg_cattoitem['relation'] = 1\n",
    "\n",
    "taobao_kg_itemtocat = taobao_kg_itemtocat.rename(columns = {'itemmap_id': 'head', \n",
    "                                                              'categorymap_id': 'tail'})\n",
    "taobao_kg_cattoitem = taobao_kg_cattoitem.rename(columns = {'categorymap_id': 'head', \n",
    "                                                            'itemmap_id': 'tail'})\n",
    "\n",
    "print(taobao_kg_itemtocat.head())\n",
    "print(taobao_kg_cattoitem.head())\n",
    "\n"
   ]
  },
  {
   "cell_type": "code",
   "execution_count": 15,
   "metadata": {},
   "outputs": [
    {
     "name": "stdout",
     "output_type": "stream",
     "text": [
      "      head     tail  relation\n",
      "0  2827803  4165957         0\n",
      "1  3261306  4164386         0\n",
      "2  2446773  4165378         0\n",
      "3  2281264  4170771         0\n",
      "4  3676007  4165957         0\n",
      "(8326884, 3)\n",
      "4171463\n",
      "4171463\n"
     ]
    }
   ],
   "source": [
    "final_kg  = pd.concat([taobao_kg_itemtocat, taobao_kg_cattoitem])\n",
    "print(final_kg.head())\n",
    "print(final_kg.shape)\n",
    "print(len(final_kg['head'].unique()))\n",
    "print(len(final_kg['tail'].unique()))"
   ]
  },
  {
   "cell_type": "code",
   "execution_count": 17,
   "metadata": {},
   "outputs": [],
   "source": [
    "final_kg.to_csv('kg_final.csv', index = False)"
   ]
  },
  {
   "cell_type": "code",
   "execution_count": 19,
   "metadata": {},
   "outputs": [
    {
     "name": "stdout",
     "output_type": "stream",
     "text": [
      "      head     tail  relation\n",
      "0  2827803  4165957         0\n",
      "1  3261306  4164386         0\n",
      "2  2446773  4165378         0\n",
      "3  2281264  4170771         0\n",
      "4  3676007  4165957         0\n",
      "(8326884, 3)\n",
      "4171463\n",
      "4171463\n"
     ]
    }
   ],
   "source": [
    "kg_trial = pd.read_csv('kg_final.csv')\n",
    "print(kg_trial.head())\n",
    "print(kg_trial.shape)\n",
    "print(len(kg_trial['head'].unique()))\n",
    "print(len(kg_trial['tail'].unique()))"
   ]
  },
  {
   "cell_type": "markdown",
   "metadata": {},
   "source": [
    "# linh 10/11/24"
   ]
  },
  {
   "cell_type": "code",
   "execution_count": 2,
   "metadata": {},
   "outputs": [],
   "source": [
    "import pandas as pd"
   ]
  },
  {
   "cell_type": "code",
   "execution_count": 3,
   "metadata": {},
   "outputs": [],
   "source": [
    "kg_final = pd.read_csv(\"kg_final.csv\")"
   ]
  },
  {
   "cell_type": "code",
   "execution_count": 5,
   "metadata": {},
   "outputs": [
    {
     "data": {
      "text/plain": [
       "(8326884, 3)"
      ]
     },
     "execution_count": 5,
     "metadata": {},
     "output_type": "execute_result"
    }
   ],
   "source": [
    "kg_final.shape"
   ]
  },
  {
   "cell_type": "code",
   "execution_count": 6,
   "metadata": {},
   "outputs": [
    {
     "data": {
      "text/html": [
       "<div>\n",
       "<style scoped>\n",
       "    .dataframe tbody tr th:only-of-type {\n",
       "        vertical-align: middle;\n",
       "    }\n",
       "\n",
       "    .dataframe tbody tr th {\n",
       "        vertical-align: top;\n",
       "    }\n",
       "\n",
       "    .dataframe thead th {\n",
       "        text-align: right;\n",
       "    }\n",
       "</style>\n",
       "<table border=\"1\" class=\"dataframe\">\n",
       "  <thead>\n",
       "    <tr style=\"text-align: right;\">\n",
       "      <th></th>\n",
       "      <th>head</th>\n",
       "      <th>tail</th>\n",
       "      <th>relation</th>\n",
       "    </tr>\n",
       "  </thead>\n",
       "  <tbody>\n",
       "    <tr>\n",
       "      <th>0</th>\n",
       "      <td>2120101</td>\n",
       "      <td>4168529</td>\n",
       "      <td>0</td>\n",
       "    </tr>\n",
       "    <tr>\n",
       "      <th>1</th>\n",
       "      <td>1013206</td>\n",
       "      <td>4168935</td>\n",
       "      <td>0</td>\n",
       "    </tr>\n",
       "    <tr>\n",
       "      <th>2</th>\n",
       "      <td>2612228</td>\n",
       "      <td>4170188</td>\n",
       "      <td>0</td>\n",
       "    </tr>\n",
       "    <tr>\n",
       "      <th>3</th>\n",
       "      <td>1728925</td>\n",
       "      <td>4166371</td>\n",
       "      <td>0</td>\n",
       "    </tr>\n",
       "    <tr>\n",
       "      <th>4</th>\n",
       "      <td>34476</td>\n",
       "      <td>4168529</td>\n",
       "      <td>0</td>\n",
       "    </tr>\n",
       "  </tbody>\n",
       "</table>\n",
       "</div>"
      ],
      "text/plain": [
       "      head     tail  relation\n",
       "0  2120101  4168529         0\n",
       "1  1013206  4168935         0\n",
       "2  2612228  4170188         0\n",
       "3  1728925  4166371         0\n",
       "4    34476  4168529         0"
      ]
     },
     "execution_count": 6,
     "metadata": {},
     "output_type": "execute_result"
    }
   ],
   "source": [
    "kg_final.head()"
   ]
  },
  {
   "cell_type": "code",
   "execution_count": 8,
   "metadata": {},
   "outputs": [],
   "source": [
    "kg_final = kg_final[['head', 'relation','tail']]"
   ]
  },
  {
   "cell_type": "code",
   "execution_count": 11,
   "metadata": {},
   "outputs": [],
   "source": [
    "kg_final.to_csv(r'kg_final.txt', header=None, index=None, sep=' ', mode='a')"
   ]
  },
  {
   "cell_type": "code",
   "execution_count": null,
   "metadata": {},
   "outputs": [],
   "source": []
  }
 ],
 "metadata": {
  "kernelspec": {
   "display_name": "Python 3",
   "language": "python",
   "name": "python3"
  },
  "language_info": {
   "codemirror_mode": {
    "name": "ipython",
    "version": 3
   },
   "file_extension": ".py",
   "mimetype": "text/x-python",
   "name": "python",
   "nbconvert_exporter": "python",
   "pygments_lexer": "ipython3",
   "version": "3.10.12"
  }
 },
 "nbformat": 4,
 "nbformat_minor": 2
}
