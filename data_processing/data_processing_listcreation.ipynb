{
 "cells": [
  {
   "cell_type": "markdown",
   "metadata": {},
   "source": [
    "# Running to turn the Taobao dataset into the ones used for CKGAT\n",
    "\n",
    "The process will be as follows : \n",
    "1. Creating the encodings for each of the users, items, relations, and items/categories\n",
    "2. Creating teh knowledge graph by relating each of the items to their categories and vice versa\n",
    "3. Creating the train and test set\n",
    "    - For this one specifically, we will create two different one -- one with sparser connections by only including certain product interactions. The less sparse graph wil include more edges due to including more items \n",
    "\n",
    "\n",
    "## Encoding "
   ]
  },
  {
   "cell_type": "code",
   "execution_count": 1,
   "metadata": {},
   "outputs": [],
   "source": [
    "## importing the necessary libraries for the Amazon data set\n",
    "import torch\n",
    "import numpy as np\n",
    "from torch_geometric.datasets import AmazonBook\n",
    "import pandas as pd"
   ]
  },
  {
   "cell_type": "code",
   "execution_count": 3,
   "metadata": {},
   "outputs": [
    {
     "name": "stdout",
     "output_type": "stream",
     "text": [
      "   0        1        2   3           4\n",
      "0  1  2268318  2520377  pv  1511544070\n",
      "1  1  2333346  2520771  pv  1511561733\n",
      "2  1  2576651   149192  pv  1511572885\n",
      "3  1  3830808  4181361  pv  1511593493\n",
      "4  1  4365585  2520377  pv  1511596146\n"
     ]
    },
    {
     "data": {
      "text/html": [
       "<div>\n",
       "<style scoped>\n",
       "    .dataframe tbody tr th:only-of-type {\n",
       "        vertical-align: middle;\n",
       "    }\n",
       "\n",
       "    .dataframe tbody tr th {\n",
       "        vertical-align: top;\n",
       "    }\n",
       "\n",
       "    .dataframe thead th {\n",
       "        text-align: right;\n",
       "    }\n",
       "</style>\n",
       "<table border=\"1\" class=\"dataframe\">\n",
       "  <thead>\n",
       "    <tr style=\"text-align: right;\">\n",
       "      <th></th>\n",
       "      <th>user_id</th>\n",
       "      <th>item_id</th>\n",
       "      <th>category_id</th>\n",
       "      <th>behavior_type</th>\n",
       "      <th>timestamp</th>\n",
       "    </tr>\n",
       "  </thead>\n",
       "  <tbody>\n",
       "    <tr>\n",
       "      <th>0</th>\n",
       "      <td>1</td>\n",
       "      <td>2268318</td>\n",
       "      <td>2520377</td>\n",
       "      <td>pv</td>\n",
       "      <td>1511544070</td>\n",
       "    </tr>\n",
       "    <tr>\n",
       "      <th>1</th>\n",
       "      <td>1</td>\n",
       "      <td>2333346</td>\n",
       "      <td>2520771</td>\n",
       "      <td>pv</td>\n",
       "      <td>1511561733</td>\n",
       "    </tr>\n",
       "    <tr>\n",
       "      <th>2</th>\n",
       "      <td>1</td>\n",
       "      <td>2576651</td>\n",
       "      <td>149192</td>\n",
       "      <td>pv</td>\n",
       "      <td>1511572885</td>\n",
       "    </tr>\n",
       "    <tr>\n",
       "      <th>3</th>\n",
       "      <td>1</td>\n",
       "      <td>3830808</td>\n",
       "      <td>4181361</td>\n",
       "      <td>pv</td>\n",
       "      <td>1511593493</td>\n",
       "    </tr>\n",
       "    <tr>\n",
       "      <th>4</th>\n",
       "      <td>1</td>\n",
       "      <td>4365585</td>\n",
       "      <td>2520377</td>\n",
       "      <td>pv</td>\n",
       "      <td>1511596146</td>\n",
       "    </tr>\n",
       "  </tbody>\n",
       "</table>\n",
       "</div>"
      ],
      "text/plain": [
       "   user_id  item_id  category_id behavior_type   timestamp\n",
       "0        1  2268318      2520377            pv  1511544070\n",
       "1        1  2333346      2520771            pv  1511561733\n",
       "2        1  2576651       149192            pv  1511572885\n",
       "3        1  3830808      4181361            pv  1511593493\n",
       "4        1  4365585      2520377            pv  1511596146"
      ]
     },
     "execution_count": 3,
     "metadata": {},
     "output_type": "execute_result"
    }
   ],
   "source": [
    "## loading in the Taobao data\n",
    "taobao_df = pd.read_csv(\"taobao/raw/UserBehavior.csv\", header = None)\n",
    "print(taobao_df.head())\n",
    "taobao_df.columns = ['user_id', 'item_id', 'category_id', 'behavior_type', 'timestamp']\n",
    "taobao_df.head()"
   ]
  },
  {
   "cell_type": "code",
   "execution_count": 11,
   "metadata": {},
   "outputs": [
    {
     "name": "stdout",
     "output_type": "stream",
     "text": [
      "user id max: 1018011\n",
      "user id min: 1\n",
      "user id unique num: 987994\n",
      "item id max: 5163070\n",
      "item id min: 1\n",
      "item id unique num: 4162024\n",
      "category id max: 5162429\n",
      "category id min: 80\n",
      "category id unique num: 9439\n",
      "100150807\n"
     ]
    }
   ],
   "source": [
    "print('user id max:', taobao_df['user_id'].max())\n",
    "print('user id min:', taobao_df['user_id'].min())\n",
    "print('user id unique num:', len(taobao_df['user_id'].unique()))\n",
    "\n",
    "print('item id max:',taobao_df['item_id'].max())\n",
    "print('item id min:',taobao_df['item_id'].min())\n",
    "print('item id unique num:', len(taobao_df['item_id'].unique()))\n",
    "\n",
    "print('category id max:',taobao_df['category_id'].max())\n",
    "print('category id min:',taobao_df['category_id'].min())\n",
    "print('category id unique num:',len(taobao_df['category_id'].unique()))\n",
    "\n",
    "print(len(taobao_df))\n"
   ]
  },
  {
   "cell_type": "code",
   "execution_count": 14,
   "metadata": {},
   "outputs": [
    {
     "name": "stdout",
     "output_type": "stream",
     "text": [
      "   user_id\n",
      "0        1\n",
      "1      100\n",
      "2     1000\n",
      "3  1000001\n",
      "4  1000004\n",
      "987994\n",
      "   item_id\n",
      "0  2268318\n",
      "1  2333346\n",
      "2  2576651\n",
      "3  3830808\n",
      "4  4365585\n",
      "4162024\n",
      "   category_id\n",
      "0      2520377\n",
      "1      2520771\n",
      "2       149192\n",
      "3      4181361\n",
      "4      2735466\n",
      "9439\n"
     ]
    }
   ],
   "source": [
    "## we'll start by extracting all of the unique user ids, item ids, and category ids\n",
    "\n",
    "user_ids = taobao_df['user_id'].unique()\n",
    "user_df = pd.DataFrame({'user_id': user_ids})\n",
    "print(user_df.head())\n",
    "print(len(user_df))\n",
    "\n",
    "item_ids = taobao_df['item_id'].unique()\n",
    "item_df = pd.DataFrame({'item_id': item_ids})\n",
    "print(item_df.head())\n",
    "print(len(item_df))\n",
    "\n",
    "category_ids = taobao_df['category_id'].unique()\n",
    "category_df = pd.DataFrame({'category_id': category_ids})\n",
    "print(category_df.head())\n",
    "print(len(category_df))"
   ]
  },
  {
   "cell_type": "code",
   "execution_count": null,
   "metadata": {},
   "outputs": [
    {
     "name": "stdout",
     "output_type": "stream",
     "text": [
      "    index  user_id\n",
      "0  818361   211596\n",
      "1  158926   821582\n",
      "2  189325   962532\n",
      "3  608909    16129\n",
      "4  585633   969003\n",
      "     index  item_id\n",
      "0  1920924  1793912\n",
      "1  1657601  2395737\n",
      "2  3833127  4867338\n",
      "3   987263  1072235\n",
      "4   397206   646728\n",
      "   index  category_id\n",
      "0   7335      4085091\n",
      "1    655       235534\n",
      "2   6456      4135923\n",
      "3    707      1421739\n",
      "4   7466      4649060\n"
     ]
    }
   ],
   "source": [
    "## will now shuffle the entries to make the numberings more random\n",
    "\n",
    "user_df = user_df.sample(frac = 1).reset_index()\n",
    "item_df = item_df.sample(frac = 1).reset_index()\n",
    "category_df = category_df.sample(frac = 1).reset_index()\n",
    "\n",
    "print(user_df.head())\n",
    "print(item_df.head())\n",
    "print(category_df.head())"
   ]
  },
  {
   "cell_type": "code",
   "execution_count": null,
   "metadata": {},
   "outputs": [],
   "source": [
    "item_df.drop(columns = 'index', inplace = True)\n",
    "user_df.drop(columns = 'index', inplace = True)\n",
    "category_df.drop(columns = 'index', inplace = True)"
   ]
  },
  {
   "cell_type": "code",
   "execution_count": 25,
   "metadata": {},
   "outputs": [
    {
     "name": "stdout",
     "output_type": "stream",
     "text": [
      "   item_id\n",
      "0  1793912\n",
      "1  2395737\n",
      "2  4867338\n",
      "3  1072235\n",
      "4   646728\n",
      "   user_id\n",
      "0   211596\n",
      "1   821582\n",
      "2   962532\n",
      "3    16129\n",
      "4   969003\n",
      "   category_id\n",
      "0      4085091\n",
      "1       235534\n",
      "2      4135923\n",
      "3      1421739\n",
      "4      4649060\n"
     ]
    }
   ],
   "source": [
    "print(item_df.head())\n",
    "print(user_df.head())\n",
    "print(category_df.head())"
   ]
  },
  {
   "cell_type": "code",
   "execution_count": null,
   "metadata": {},
   "outputs": [
    {
     "name": "stdout",
     "output_type": "stream",
     "text": [
      "user id max: 1018011\n",
      "user id min: 1\n",
      "user id unique num: 987994\n",
      "item id max: 5163070\n",
      "item id min: 1\n",
      "item id unique num: 4162024\n",
      "category id max: 5162429\n",
      "category id min: 80\n",
      "category id unique num: 9439\n"
     ]
    }
   ],
   "source": [
    "## just to check that the values were kept during the shuffling\n",
    "print('user id max:', user_df['user_id'].max())\n",
    "print('user id min:', user_df['user_id'].min())\n",
    "print('user id unique num:', len(user_df['user_id'].unique()))\n",
    "\n",
    "print('item id max:',item_df['item_id'].max())\n",
    "print('item id min:',item_df['item_id'].min())\n",
    "print('item id unique num:', len(item_df['item_id'].unique()))\n",
    "\n",
    "print('category id max:',category_df['category_id'].max())\n",
    "print('category id min:',category_df['category_id'].min())\n",
    "print('category id unique num:',len(category_df['category_id'].unique()))\n"
   ]
  },
  {
   "cell_type": "code",
   "execution_count": 31,
   "metadata": {},
   "outputs": [
    {
     "name": "stdout",
     "output_type": "stream",
     "text": [
      "   usermap_id  user_id\n",
      "0           0   211596\n",
      "1           1   821582\n",
      "2           2   962532\n",
      "3           3    16129\n",
      "4           4   969003\n",
      "987993\n",
      "   itemmap_id  item_id\n",
      "0           0  1793912\n",
      "1           1  2395737\n",
      "2           2  4867338\n",
      "3           3  1072235\n",
      "4           4   646728\n",
      "4162023\n",
      "   categorymap_id  category_id\n",
      "0               0      4085091\n",
      "1               1       235534\n",
      "2               2      4135923\n",
      "3               3      1421739\n",
      "4               4      4649060\n",
      "9438\n"
     ]
    }
   ],
   "source": [
    "# user_df = user_df.reset_index()\n",
    "user_df.head()\n",
    "user_df.rename(columns = {'index': 'usermap_id'}, inplace = True)\n",
    "\n",
    "# item_df = item_df.reset_index()\n",
    "item_df.rename(columns = {'index': 'itemmap_id'}, inplace = True)\n",
    "\n",
    "# category_df = category_df.reset_index()\n",
    "category_df.rename(columns = {'index': 'categorymap_id'}, inplace = True)\n",
    "\n",
    "print(user_df.head())\n",
    "print(user_df['usermap_id'].max())\n",
    "print(item_df.head())\n",
    "print(item_df['itemmap_id'].max())\n",
    "print(category_df.head())\n",
    "print(category_df['categorymap_id'].max())"
   ]
  },
  {
   "cell_type": "code",
   "execution_count": 32,
   "metadata": {},
   "outputs": [
    {
     "name": "stdout",
     "output_type": "stream",
     "text": [
      "   categorymap_id  category_id\n",
      "0         4162024      4085091\n",
      "1         4162025       235534\n",
      "2         4162026      4135923\n",
      "3         4162027      1421739\n",
      "4         4162028      4649060\n",
      "4162024\n",
      "4171462\n",
      "9439\n"
     ]
    }
   ],
   "source": [
    "## then creating the entity mappings\n",
    "\n",
    "category_df['categorymap_id'] = category_df['categorymap_id'] + item_df['itemmap_id'].max() + 1\n",
    "print(category_df.head())\n",
    "print(category_df['categorymap_id'].min())\n",
    "print(category_df['categorymap_id'].max())\n",
    "print(len(category_df['categorymap_id'].unique()))"
   ]
  },
  {
   "cell_type": "code",
   "execution_count": 34,
   "metadata": {},
   "outputs": [],
   "source": [
    "category_df2 = category_df.copy(deep = True)\n",
    "item_df2 = item_df.copy(deep = True)\n",
    "\n",
    "category_df2['type'] = 'category'\n",
    "item_df2['type'] = 'item'\n",
    "\n",
    "category_df2.rename(columns = {'categorymap_id':'map_id', \n",
    "                               'category_id': 'og_id'}, \n",
    "                    inplace = True)\n",
    "item_df2.rename(columns = {'itemmap_id': 'map_id', \n",
    "                           'item_id': 'og_id'}, \n",
    "                inplace = True)\n",
    "\n",
    "entity_df = pd.concat([item_df2, category_df2])\n",
    "\n"
   ]
  },
  {
   "cell_type": "code",
   "execution_count": 35,
   "metadata": {},
   "outputs": [
    {
     "data": {
      "text/html": [
       "<div>\n",
       "<style scoped>\n",
       "    .dataframe tbody tr th:only-of-type {\n",
       "        vertical-align: middle;\n",
       "    }\n",
       "\n",
       "    .dataframe tbody tr th {\n",
       "        vertical-align: top;\n",
       "    }\n",
       "\n",
       "    .dataframe thead th {\n",
       "        text-align: right;\n",
       "    }\n",
       "</style>\n",
       "<table border=\"1\" class=\"dataframe\">\n",
       "  <thead>\n",
       "    <tr style=\"text-align: right;\">\n",
       "      <th></th>\n",
       "      <th>map_id</th>\n",
       "      <th>og_id</th>\n",
       "      <th>type</th>\n",
       "    </tr>\n",
       "  </thead>\n",
       "  <tbody>\n",
       "    <tr>\n",
       "      <th>0</th>\n",
       "      <td>0</td>\n",
       "      <td>1793912</td>\n",
       "      <td>item</td>\n",
       "    </tr>\n",
       "    <tr>\n",
       "      <th>1</th>\n",
       "      <td>1</td>\n",
       "      <td>2395737</td>\n",
       "      <td>item</td>\n",
       "    </tr>\n",
       "    <tr>\n",
       "      <th>2</th>\n",
       "      <td>2</td>\n",
       "      <td>4867338</td>\n",
       "      <td>item</td>\n",
       "    </tr>\n",
       "    <tr>\n",
       "      <th>3</th>\n",
       "      <td>3</td>\n",
       "      <td>1072235</td>\n",
       "      <td>item</td>\n",
       "    </tr>\n",
       "    <tr>\n",
       "      <th>4</th>\n",
       "      <td>4</td>\n",
       "      <td>646728</td>\n",
       "      <td>item</td>\n",
       "    </tr>\n",
       "  </tbody>\n",
       "</table>\n",
       "</div>"
      ],
      "text/plain": [
       "   map_id    og_id  type\n",
       "0       0  1793912  item\n",
       "1       1  2395737  item\n",
       "2       2  4867338  item\n",
       "3       3  1072235  item\n",
       "4       4   646728  item"
      ]
     },
     "execution_count": 35,
     "metadata": {},
     "output_type": "execute_result"
    }
   ],
   "source": [
    "entity_df.head()"
   ]
  },
  {
   "cell_type": "code",
   "execution_count": 37,
   "metadata": {},
   "outputs": [
    {
     "name": "stdout",
     "output_type": "stream",
     "text": [
      "entity map id min 0\n",
      "entity map id max 4171462\n",
      "number of unique map id 4171463\n",
      "number of items        type    og_id\n",
      "0  category     9439\n",
      "1      item  4162024\n"
     ]
    }
   ],
   "source": [
    "print('entity map id min', entity_df['map_id'].min())\n",
    "print('entity map id max', entity_df['map_id'].max())\n",
    "print('number of unique map id', len(entity_df['map_id'].unique()))\n",
    "print('number of items', entity_df.groupby('type')['og_id'].count().reset_index())"
   ]
  },
  {
   "cell_type": "code",
   "execution_count": 42,
   "metadata": {},
   "outputs": [],
   "source": [
    "# ## saving the user mapping, item mapping, entity mapping, and category mapping\n",
    "# entity_df.to_csv('entity_list.csv', index=False)\n",
    "# item_df.to_csv('item_list.csv', index=False)\n",
    "# user_df.to_csv('user_list.csv', index = False)\n",
    "# category_df.to_csv('category_list.csv', index = False)\n"
   ]
  },
  {
   "cell_type": "code",
   "execution_count": 47,
   "metadata": {},
   "outputs": [
    {
     "name": "stdout",
     "output_type": "stream",
     "text": [
      "entity map id min 0\n",
      "entity map id max 4171462\n",
      "number of unique map id 4171463\n",
      "number of items        type    og_id\n",
      "0  category     9439\n",
      "1      item  4162024\n"
     ]
    },
    {
     "data": {
      "text/html": [
       "<div>\n",
       "<style scoped>\n",
       "    .dataframe tbody tr th:only-of-type {\n",
       "        vertical-align: middle;\n",
       "    }\n",
       "\n",
       "    .dataframe tbody tr th {\n",
       "        vertical-align: top;\n",
       "    }\n",
       "\n",
       "    .dataframe thead th {\n",
       "        text-align: right;\n",
       "    }\n",
       "</style>\n",
       "<table border=\"1\" class=\"dataframe\">\n",
       "  <thead>\n",
       "    <tr style=\"text-align: right;\">\n",
       "      <th></th>\n",
       "      <th>map_id</th>\n",
       "      <th>og_id</th>\n",
       "      <th>type</th>\n",
       "    </tr>\n",
       "  </thead>\n",
       "  <tbody>\n",
       "    <tr>\n",
       "      <th>0</th>\n",
       "      <td>0</td>\n",
       "      <td>1793912</td>\n",
       "      <td>item</td>\n",
       "    </tr>\n",
       "    <tr>\n",
       "      <th>1</th>\n",
       "      <td>1</td>\n",
       "      <td>2395737</td>\n",
       "      <td>item</td>\n",
       "    </tr>\n",
       "    <tr>\n",
       "      <th>2</th>\n",
       "      <td>2</td>\n",
       "      <td>4867338</td>\n",
       "      <td>item</td>\n",
       "    </tr>\n",
       "    <tr>\n",
       "      <th>3</th>\n",
       "      <td>3</td>\n",
       "      <td>1072235</td>\n",
       "      <td>item</td>\n",
       "    </tr>\n",
       "    <tr>\n",
       "      <th>4</th>\n",
       "      <td>4</td>\n",
       "      <td>646728</td>\n",
       "      <td>item</td>\n",
       "    </tr>\n",
       "  </tbody>\n",
       "</table>\n",
       "</div>"
      ],
      "text/plain": [
       "   map_id    og_id  type\n",
       "0       0  1793912  item\n",
       "1       1  2395737  item\n",
       "2       2  4867338  item\n",
       "3       3  1072235  item\n",
       "4       4   646728  item"
      ]
     },
     "execution_count": 47,
     "metadata": {},
     "output_type": "execute_result"
    }
   ],
   "source": [
    "entity_reload = pd.read_csv('entity_list.csv')\n",
    "print('entity map id min', entity_reload['map_id'].min())\n",
    "print('entity map id max', entity_reload['map_id'].max())\n",
    "print('number of unique map id', len(entity_reload['map_id'].unique()))\n",
    "print('number of items', entity_reload.groupby('type')['og_id'].count().reset_index())\n",
    "entity_reload.head()\n"
   ]
  },
  {
   "cell_type": "code",
   "execution_count": 44,
   "metadata": {},
   "outputs": [
    {
     "data": {
      "text/html": [
       "<div>\n",
       "<style scoped>\n",
       "    .dataframe tbody tr th:only-of-type {\n",
       "        vertical-align: middle;\n",
       "    }\n",
       "\n",
       "    .dataframe tbody tr th {\n",
       "        vertical-align: top;\n",
       "    }\n",
       "\n",
       "    .dataframe thead th {\n",
       "        text-align: right;\n",
       "    }\n",
       "</style>\n",
       "<table border=\"1\" class=\"dataframe\">\n",
       "  <thead>\n",
       "    <tr style=\"text-align: right;\">\n",
       "      <th></th>\n",
       "      <th>itemmap_id</th>\n",
       "      <th>item_id</th>\n",
       "    </tr>\n",
       "  </thead>\n",
       "  <tbody>\n",
       "    <tr>\n",
       "      <th>0</th>\n",
       "      <td>0</td>\n",
       "      <td>1793912</td>\n",
       "    </tr>\n",
       "    <tr>\n",
       "      <th>1</th>\n",
       "      <td>1</td>\n",
       "      <td>2395737</td>\n",
       "    </tr>\n",
       "    <tr>\n",
       "      <th>2</th>\n",
       "      <td>2</td>\n",
       "      <td>4867338</td>\n",
       "    </tr>\n",
       "    <tr>\n",
       "      <th>3</th>\n",
       "      <td>3</td>\n",
       "      <td>1072235</td>\n",
       "    </tr>\n",
       "    <tr>\n",
       "      <th>4</th>\n",
       "      <td>4</td>\n",
       "      <td>646728</td>\n",
       "    </tr>\n",
       "  </tbody>\n",
       "</table>\n",
       "</div>"
      ],
      "text/plain": [
       "   itemmap_id  item_id\n",
       "0           0  1793912\n",
       "1           1  2395737\n",
       "2           2  4867338\n",
       "3           3  1072235\n",
       "4           4   646728"
      ]
     },
     "execution_count": 44,
     "metadata": {},
     "output_type": "execute_result"
    }
   ],
   "source": [
    "item_reload = pd.read_csv('item_list.csv')\n",
    "item_reload.head()"
   ]
  },
  {
   "cell_type": "code",
   "execution_count": 45,
   "metadata": {},
   "outputs": [
    {
     "data": {
      "text/html": [
       "<div>\n",
       "<style scoped>\n",
       "    .dataframe tbody tr th:only-of-type {\n",
       "        vertical-align: middle;\n",
       "    }\n",
       "\n",
       "    .dataframe tbody tr th {\n",
       "        vertical-align: top;\n",
       "    }\n",
       "\n",
       "    .dataframe thead th {\n",
       "        text-align: right;\n",
       "    }\n",
       "</style>\n",
       "<table border=\"1\" class=\"dataframe\">\n",
       "  <thead>\n",
       "    <tr style=\"text-align: right;\">\n",
       "      <th></th>\n",
       "      <th>usermap_id</th>\n",
       "      <th>user_id</th>\n",
       "    </tr>\n",
       "  </thead>\n",
       "  <tbody>\n",
       "    <tr>\n",
       "      <th>0</th>\n",
       "      <td>0</td>\n",
       "      <td>211596</td>\n",
       "    </tr>\n",
       "    <tr>\n",
       "      <th>1</th>\n",
       "      <td>1</td>\n",
       "      <td>821582</td>\n",
       "    </tr>\n",
       "    <tr>\n",
       "      <th>2</th>\n",
       "      <td>2</td>\n",
       "      <td>962532</td>\n",
       "    </tr>\n",
       "    <tr>\n",
       "      <th>3</th>\n",
       "      <td>3</td>\n",
       "      <td>16129</td>\n",
       "    </tr>\n",
       "    <tr>\n",
       "      <th>4</th>\n",
       "      <td>4</td>\n",
       "      <td>969003</td>\n",
       "    </tr>\n",
       "  </tbody>\n",
       "</table>\n",
       "</div>"
      ],
      "text/plain": [
       "   usermap_id  user_id\n",
       "0           0   211596\n",
       "1           1   821582\n",
       "2           2   962532\n",
       "3           3    16129\n",
       "4           4   969003"
      ]
     },
     "execution_count": 45,
     "metadata": {},
     "output_type": "execute_result"
    }
   ],
   "source": [
    "user_reload = pd.read_csv('user_list.csv')\n",
    "user_reload.head()"
   ]
  },
  {
   "cell_type": "code",
   "execution_count": 46,
   "metadata": {},
   "outputs": [
    {
     "data": {
      "text/html": [
       "<div>\n",
       "<style scoped>\n",
       "    .dataframe tbody tr th:only-of-type {\n",
       "        vertical-align: middle;\n",
       "    }\n",
       "\n",
       "    .dataframe tbody tr th {\n",
       "        vertical-align: top;\n",
       "    }\n",
       "\n",
       "    .dataframe thead th {\n",
       "        text-align: right;\n",
       "    }\n",
       "</style>\n",
       "<table border=\"1\" class=\"dataframe\">\n",
       "  <thead>\n",
       "    <tr style=\"text-align: right;\">\n",
       "      <th></th>\n",
       "      <th>categorymap_id</th>\n",
       "      <th>category_id</th>\n",
       "    </tr>\n",
       "  </thead>\n",
       "  <tbody>\n",
       "    <tr>\n",
       "      <th>0</th>\n",
       "      <td>4162024</td>\n",
       "      <td>4085091</td>\n",
       "    </tr>\n",
       "    <tr>\n",
       "      <th>1</th>\n",
       "      <td>4162025</td>\n",
       "      <td>235534</td>\n",
       "    </tr>\n",
       "    <tr>\n",
       "      <th>2</th>\n",
       "      <td>4162026</td>\n",
       "      <td>4135923</td>\n",
       "    </tr>\n",
       "    <tr>\n",
       "      <th>3</th>\n",
       "      <td>4162027</td>\n",
       "      <td>1421739</td>\n",
       "    </tr>\n",
       "    <tr>\n",
       "      <th>4</th>\n",
       "      <td>4162028</td>\n",
       "      <td>4649060</td>\n",
       "    </tr>\n",
       "  </tbody>\n",
       "</table>\n",
       "</div>"
      ],
      "text/plain": [
       "   categorymap_id  category_id\n",
       "0         4162024      4085091\n",
       "1         4162025       235534\n",
       "2         4162026      4135923\n",
       "3         4162027      1421739\n",
       "4         4162028      4649060"
      ]
     },
     "execution_count": 46,
     "metadata": {},
     "output_type": "execute_result"
    }
   ],
   "source": [
    "category_reload = pd.read_csv('category_list.csv')\n",
    "category_reload.head()"
   ]
  },
  {
   "cell_type": "code",
   "execution_count": 48,
   "metadata": {},
   "outputs": [
    {
     "name": "stdout",
     "output_type": "stream",
     "text": [
      "      relation_type  relationmap_id\n",
      "0  item_to_category               0\n",
      "1  category_to_item               1\n"
     ]
    }
   ],
   "source": [
    "relation_list = ['item_to_category', 'category_to_item']\n",
    "relation_id = [0,1]\n",
    "\n",
    "relation_df = pd.DataFrame({'relation_type': relation_list, \n",
    "                            'relationmap_id': relation_id})\n",
    "print(relation_df)\n",
    "\n"
   ]
  },
  {
   "cell_type": "code",
   "execution_count": null,
   "metadata": {},
   "outputs": [],
   "source": [
    "# relation_df.to_csv('relation_list.csv', index = False)"
   ]
  },
  {
   "cell_type": "code",
   "execution_count": 51,
   "metadata": {},
   "outputs": [
    {
     "data": {
      "text/html": [
       "<div>\n",
       "<style scoped>\n",
       "    .dataframe tbody tr th:only-of-type {\n",
       "        vertical-align: middle;\n",
       "    }\n",
       "\n",
       "    .dataframe tbody tr th {\n",
       "        vertical-align: top;\n",
       "    }\n",
       "\n",
       "    .dataframe thead th {\n",
       "        text-align: right;\n",
       "    }\n",
       "</style>\n",
       "<table border=\"1\" class=\"dataframe\">\n",
       "  <thead>\n",
       "    <tr style=\"text-align: right;\">\n",
       "      <th></th>\n",
       "      <th>relation_type</th>\n",
       "      <th>relationmap_id</th>\n",
       "    </tr>\n",
       "  </thead>\n",
       "  <tbody>\n",
       "    <tr>\n",
       "      <th>0</th>\n",
       "      <td>item_to_category</td>\n",
       "      <td>0</td>\n",
       "    </tr>\n",
       "    <tr>\n",
       "      <th>1</th>\n",
       "      <td>category_to_item</td>\n",
       "      <td>1</td>\n",
       "    </tr>\n",
       "  </tbody>\n",
       "</table>\n",
       "</div>"
      ],
      "text/plain": [
       "      relation_type  relationmap_id\n",
       "0  item_to_category               0\n",
       "1  category_to_item               1"
      ]
     },
     "execution_count": 51,
     "metadata": {},
     "output_type": "execute_result"
    }
   ],
   "source": [
    "relation_reload = pd.read_csv('relation_list.csv')\n",
    "relation_reload"
   ]
  },
  {
   "cell_type": "markdown",
   "metadata": {},
   "source": [
    "# Creating the knowledge graph \n",
    "\n",
    "1. Checking if every product only has one category\n",
    "2. Then if so, will just extract every unique entry between the item and the category \n",
    "3. Then add in the first relation type\n",
    "4. Then flip the head/tail and then add in the second relation type. \n",
    "5. Concatenate the dataset"
   ]
  },
  {
   "cell_type": "code",
   "execution_count": null,
   "metadata": {},
   "outputs": [],
   "source": [
    "taobao_df['']"
   ]
  },
  {
   "cell_type": "markdown",
   "metadata": {},
   "source": []
  }
 ],
 "metadata": {
  "kernelspec": {
   "display_name": "Python 3",
   "language": "python",
   "name": "python3"
  },
  "language_info": {
   "codemirror_mode": {
    "name": "ipython",
    "version": 3
   },
   "file_extension": ".py",
   "mimetype": "text/x-python",
   "name": "python",
   "nbconvert_exporter": "python",
   "pygments_lexer": "ipython3",
   "version": "3.10.12"
  }
 },
 "nbformat": 4,
 "nbformat_minor": 2
}
