{
 "cells": [
  {
   "cell_type": "markdown",
   "metadata": {},
   "source": [
    "# Getting Datasets from Pytorch Geometric"
   ]
  },
  {
   "cell_type": "code",
   "execution_count": 4,
   "metadata": {},
   "outputs": [],
   "source": [
    "from torch_geometric.datasets import AmazonBook"
   ]
  },
  {
   "cell_type": "code",
   "execution_count": 7,
   "metadata": {},
   "outputs": [
    {
     "name": "stderr",
     "output_type": "stream",
     "text": [
      "Processing...\n",
      "Done!\n"
     ]
    }
   ],
   "source": [
    "dataset = AmazonBook(root = './amazonbook')"
   ]
  },
  {
   "cell_type": "code",
   "execution_count": null,
   "metadata": {},
   "outputs": [],
   "source": [
    "dataset[0]"
   ]
  },
  {
   "cell_type": "code",
   "execution_count": null,
   "metadata": {},
   "outputs": [],
   "source": [
    "dataset.num_features"
   ]
  },
  {
   "cell_type": "code",
   "execution_count": null,
   "metadata": {},
   "outputs": [],
   "source": [
    "# Load the processed data\n",
    "print(dataset[0])\n",
    "\n",
    "# Check the node types and number of nodes\n",
    "print(f\"User nodes: {dataset[0]['user'].num_nodes}\")\n",
    "print(f\"Book nodes: {dataset[0]['book'].num_nodes}\")"
   ]
  },
  {
   "cell_type": "code",
   "execution_count": null,
   "metadata": {},
   "outputs": [],
   "source": [
    "\n",
    "# Inspect the edge indices (relationship between users and books)\n",
    "print(f\"Edge index (user -> book): \\n {dataset[0]['user', 'rates', 'book']['edge_index']}\")\n",
    "print(f\"Edge index (book -> user): \\n {dataset[0]['book', 'rated_by', 'user']['edge_index']}\")\n"
   ]
  },
  {
   "cell_type": "code",
   "execution_count": 9,
   "metadata": {},
   "outputs": [],
   "source": [
    "data = dataset[0]"
   ]
  },
  {
   "cell_type": "code",
   "execution_count": null,
   "metadata": {},
   "outputs": [],
   "source": [
    "print(\"Node types:\", data.node_types)\n",
    "print(\"Edge types:\", data.edge_types)\n"
   ]
  },
  {
   "cell_type": "code",
   "execution_count": null,
   "metadata": {},
   "outputs": [],
   "source": [
    "user_to_book_edge_index = data['user', 'rates', 'book']['edge_index']\n",
    "print('Edge index (user -> book):\\n', user_to_book_edge_index)\n"
   ]
  },
  {
   "cell_type": "code",
   "execution_count": 8,
   "metadata": {},
   "outputs": [],
   "source": [
    "from torch_geometric.datasets import MovieLens1M"
   ]
  },
  {
   "cell_type": "code",
   "execution_count": 9,
   "metadata": {},
   "outputs": [
    {
     "name": "stderr",
     "output_type": "stream",
     "text": [
      "Downloading https://files.grouplens.org/datasets/movielens/ml-1m.zip\n",
      "Extracting movielens/ml-1m.zip\n",
      "Processing...\n",
      "Done!\n"
     ]
    }
   ],
   "source": [
    "df = MovieLens1M(root = './movielens')"
   ]
  },
  {
   "cell_type": "code",
   "execution_count": 11,
   "metadata": {},
   "outputs": [],
   "source": [
    "movies = df[0]"
   ]
  },
  {
   "cell_type": "code",
   "execution_count": 12,
   "metadata": {},
   "outputs": [
    {
     "data": {
      "text/plain": [
       "HeteroData(\n",
       "  movie={ x=[3883, 18] },\n",
       "  user={ x=[6040, 30] },\n",
       "  (user, rates, movie)={\n",
       "    edge_index=[2, 1000209],\n",
       "    rating=[1000209],\n",
       "    time=[1000209],\n",
       "  },\n",
       "  (movie, rated_by, user)={\n",
       "    edge_index=[2, 1000209],\n",
       "    rating=[1000209],\n",
       "    time=[1000209],\n",
       "  }\n",
       ")"
      ]
     },
     "execution_count": 12,
     "metadata": {},
     "output_type": "execute_result"
    }
   ],
   "source": [
    "movies"
   ]
  },
  {
   "cell_type": "code",
   "execution_count": 14,
   "metadata": {},
   "outputs": [],
   "source": [
    "from torch_geometric.datasets import Taobao"
   ]
  },
  {
   "cell_type": "code",
   "execution_count": 15,
   "metadata": {},
   "outputs": [
    {
     "name": "stderr",
     "output_type": "stream",
     "text": [
      "Downloading https://alicloud-dev.oss-cn-hangzhou.aliyuncs.com/UserBehavior.csv.zip\n",
      "Extracting taobao/raw/UserBehavior.csv.zip\n",
      "Processing...\n",
      "Done!\n"
     ]
    }
   ],
   "source": [
    "dataset = Taobao(root='taobao', force_reload=True)"
   ]
  },
  {
   "cell_type": "markdown",
   "metadata": {},
   "source": [
    "# Connecting to Google Big Query "
   ]
  },
  {
   "cell_type": "code",
   "execution_count": 40,
   "metadata": {},
   "outputs": [],
   "source": [
    "from google.cloud import bigquery\n",
    "from google.oauth2 import service_account"
   ]
  },
  {
   "cell_type": "code",
   "execution_count": 41,
   "metadata": {},
   "outputs": [],
   "source": [
    "key_path = \"cpsc483-49e73bf4d565.json\"\n",
    "credentials = service_account.Credentials.from_service_account_file(key_path)\n",
    "client = bigquery.Client(credentials=credentials, project=credentials.project_id)\n"
   ]
  },
  {
   "cell_type": "code",
   "execution_count": 42,
   "metadata": {},
   "outputs": [],
   "source": [
    "dataset_id = \"final_project\"\n",
    "table_id = \"taobao\""
   ]
  },
  {
   "cell_type": "code",
   "execution_count": 43,
   "metadata": {},
   "outputs": [],
   "source": [
    "table_ref = client.dataset(dataset_id).table(table_id)"
   ]
  },
  {
   "cell_type": "code",
   "execution_count": 44,
   "metadata": {},
   "outputs": [],
   "source": [
    "table = client.get_table(table_ref)"
   ]
  },
  {
   "cell_type": "code",
   "execution_count": 45,
   "metadata": {},
   "outputs": [],
   "source": [
    "query = \"Select * from cpsc483.final_project.taobao limit 10000\""
   ]
  },
  {
   "cell_type": "code",
   "execution_count": 46,
   "metadata": {},
   "outputs": [],
   "source": [
    "query_job = client.query(query)  # Make an API request to execute the query"
   ]
  },
  {
   "cell_type": "code",
   "execution_count": 47,
   "metadata": {},
   "outputs": [
    {
     "name": "stderr",
     "output_type": "stream",
     "text": [
      "/opt/anaconda3/lib/python3.11/site-packages/google/cloud/bigquery/table.py:1727: UserWarning: BigQuery Storage module not found, fetch data with the REST endpoint instead.\n",
      "  warnings.warn(\n"
     ]
    }
   ],
   "source": [
    "df = query_job.to_dataframe() "
   ]
  },
  {
   "cell_type": "code",
   "execution_count": 48,
   "metadata": {},
   "outputs": [
    {
     "data": {
      "text/html": [
       "<div>\n",
       "<style scoped>\n",
       "    .dataframe tbody tr th:only-of-type {\n",
       "        vertical-align: middle;\n",
       "    }\n",
       "\n",
       "    .dataframe tbody tr th {\n",
       "        vertical-align: top;\n",
       "    }\n",
       "\n",
       "    .dataframe thead th {\n",
       "        text-align: right;\n",
       "    }\n",
       "</style>\n",
       "<table border=\"1\" class=\"dataframe\">\n",
       "  <thead>\n",
       "    <tr style=\"text-align: right;\">\n",
       "      <th></th>\n",
       "      <th>userId</th>\n",
       "      <th>itemId</th>\n",
       "      <th>categoryId</th>\n",
       "      <th>behaviorType</th>\n",
       "      <th>timestamp</th>\n",
       "    </tr>\n",
       "  </thead>\n",
       "  <tbody>\n",
       "    <tr>\n",
       "      <th>0</th>\n",
       "      <td>580045</td>\n",
       "      <td>4664713</td>\n",
       "      <td>721664</td>\n",
       "      <td>pv</td>\n",
       "      <td>1512276886</td>\n",
       "    </tr>\n",
       "    <tr>\n",
       "      <th>1</th>\n",
       "      <td>832241</td>\n",
       "      <td>808112</td>\n",
       "      <td>721664</td>\n",
       "      <td>pv</td>\n",
       "      <td>1512282159</td>\n",
       "    </tr>\n",
       "    <tr>\n",
       "      <th>2</th>\n",
       "      <td>575635</td>\n",
       "      <td>854934</td>\n",
       "      <td>721664</td>\n",
       "      <td>pv</td>\n",
       "      <td>1511710445</td>\n",
       "    </tr>\n",
       "    <tr>\n",
       "      <th>3</th>\n",
       "      <td>805537</td>\n",
       "      <td>1217839</td>\n",
       "      <td>721664</td>\n",
       "      <td>pv</td>\n",
       "      <td>1512287749</td>\n",
       "    </tr>\n",
       "    <tr>\n",
       "      <th>4</th>\n",
       "      <td>904909</td>\n",
       "      <td>3211819</td>\n",
       "      <td>721664</td>\n",
       "      <td>pv</td>\n",
       "      <td>1511705511</td>\n",
       "    </tr>\n",
       "    <tr>\n",
       "      <th>...</th>\n",
       "      <td>...</td>\n",
       "      <td>...</td>\n",
       "      <td>...</td>\n",
       "      <td>...</td>\n",
       "      <td>...</td>\n",
       "    </tr>\n",
       "    <tr>\n",
       "      <th>9995</th>\n",
       "      <td>299908</td>\n",
       "      <td>2608238</td>\n",
       "      <td>4244487</td>\n",
       "      <td>pv</td>\n",
       "      <td>1512227359</td>\n",
       "    </tr>\n",
       "    <tr>\n",
       "      <th>9996</th>\n",
       "      <td>746029</td>\n",
       "      <td>4897873</td>\n",
       "      <td>4244487</td>\n",
       "      <td>pv</td>\n",
       "      <td>1512138805</td>\n",
       "    </tr>\n",
       "    <tr>\n",
       "      <th>9997</th>\n",
       "      <td>952799</td>\n",
       "      <td>261976</td>\n",
       "      <td>4244487</td>\n",
       "      <td>pv</td>\n",
       "      <td>1511628515</td>\n",
       "    </tr>\n",
       "    <tr>\n",
       "      <th>9998</th>\n",
       "      <td>551540</td>\n",
       "      <td>3379970</td>\n",
       "      <td>4244487</td>\n",
       "      <td>pv</td>\n",
       "      <td>1512122057</td>\n",
       "    </tr>\n",
       "    <tr>\n",
       "      <th>9999</th>\n",
       "      <td>801769</td>\n",
       "      <td>2804459</td>\n",
       "      <td>4244487</td>\n",
       "      <td>pv</td>\n",
       "      <td>1512180158</td>\n",
       "    </tr>\n",
       "  </tbody>\n",
       "</table>\n",
       "<p>10000 rows × 5 columns</p>\n",
       "</div>"
      ],
      "text/plain": [
       "      userId   itemId  categoryId behaviorType   timestamp\n",
       "0     580045  4664713      721664           pv  1512276886\n",
       "1     832241   808112      721664           pv  1512282159\n",
       "2     575635   854934      721664           pv  1511710445\n",
       "3     805537  1217839      721664           pv  1512287749\n",
       "4     904909  3211819      721664           pv  1511705511\n",
       "...      ...      ...         ...          ...         ...\n",
       "9995  299908  2608238     4244487           pv  1512227359\n",
       "9996  746029  4897873     4244487           pv  1512138805\n",
       "9997  952799   261976     4244487           pv  1511628515\n",
       "9998  551540  3379970     4244487           pv  1512122057\n",
       "9999  801769  2804459     4244487           pv  1512180158\n",
       "\n",
       "[10000 rows x 5 columns]"
      ]
     },
     "execution_count": 48,
     "metadata": {},
     "output_type": "execute_result"
    }
   ],
   "source": [
    "df"
   ]
  },
  {
   "cell_type": "markdown",
   "metadata": {},
   "source": [
    "# Node Degree Distribution "
   ]
  },
  {
   "cell_type": "markdown",
   "metadata": {},
   "source": [
    "Out-Degree for Users: Number of items each user has interacted with.\n",
    "\n",
    "In-Degree for Items (from Users): Number of users who have interacted with each item.\n",
    "\n",
    "Out-Degree for Items: Number of categories each item belongs to.\n",
    "\n",
    "In-Degree for Categories: Number of items in each category.\n"
   ]
  },
  {
   "cell_type": "code",
   "execution_count": 52,
   "metadata": {},
   "outputs": [],
   "source": [
    "outdegreeUsersQ = \"\"\"\n",
    "SELECT userId, COUNT(DISTINCT itemId) AS out_degree\n",
    "FROM cpsc483.final_project.taobao\n",
    "GROUP BY userId;\n",
    "\"\"\""
   ]
  },
  {
   "cell_type": "code",
   "execution_count": 53,
   "metadata": {},
   "outputs": [
    {
     "name": "stderr",
     "output_type": "stream",
     "text": [
      "/opt/anaconda3/lib/python3.11/site-packages/google/cloud/bigquery/table.py:1727: UserWarning: BigQuery Storage module not found, fetch data with the REST endpoint instead.\n",
      "  warnings.warn(\n"
     ]
    }
   ],
   "source": [
    "query_job = client.query(outdegreeUsersQ) \n",
    "outdegreeUsers = query_job.to_dataframe() "
   ]
  },
  {
   "cell_type": "code",
   "execution_count": 54,
   "metadata": {},
   "outputs": [
    {
     "data": {
      "text/plain": [
       "(987994, 2)"
      ]
     },
     "execution_count": 54,
     "metadata": {},
     "output_type": "execute_result"
    }
   ],
   "source": [
    "outdegreeUsers.shape"
   ]
  },
  {
   "cell_type": "code",
   "execution_count": 57,
   "metadata": {},
   "outputs": [
    {
     "data": {
      "text/html": [
       "<div>\n",
       "<style scoped>\n",
       "    .dataframe tbody tr th:only-of-type {\n",
       "        vertical-align: middle;\n",
       "    }\n",
       "\n",
       "    .dataframe tbody tr th {\n",
       "        vertical-align: top;\n",
       "    }\n",
       "\n",
       "    .dataframe thead th {\n",
       "        text-align: right;\n",
       "    }\n",
       "</style>\n",
       "<table border=\"1\" class=\"dataframe\">\n",
       "  <thead>\n",
       "    <tr style=\"text-align: right;\">\n",
       "      <th></th>\n",
       "      <th>userId</th>\n",
       "      <th>out_degree</th>\n",
       "    </tr>\n",
       "  </thead>\n",
       "  <tbody>\n",
       "    <tr>\n",
       "      <th>108371</th>\n",
       "      <td>435009</td>\n",
       "      <td>710</td>\n",
       "    </tr>\n",
       "    <tr>\n",
       "      <th>297571</th>\n",
       "      <td>208813</td>\n",
       "      <td>699</td>\n",
       "    </tr>\n",
       "    <tr>\n",
       "      <th>256158</th>\n",
       "      <td>503757</td>\n",
       "      <td>698</td>\n",
       "    </tr>\n",
       "    <tr>\n",
       "      <th>105645</th>\n",
       "      <td>419460</td>\n",
       "      <td>687</td>\n",
       "    </tr>\n",
       "    <tr>\n",
       "      <th>239005</th>\n",
       "      <td>54206</td>\n",
       "      <td>681</td>\n",
       "    </tr>\n",
       "    <tr>\n",
       "      <th>...</th>\n",
       "      <td>...</td>\n",
       "      <td>...</td>\n",
       "    </tr>\n",
       "    <tr>\n",
       "      <th>294793</th>\n",
       "      <td>489899</td>\n",
       "      <td>1</td>\n",
       "    </tr>\n",
       "    <tr>\n",
       "      <th>179696</th>\n",
       "      <td>195014</td>\n",
       "      <td>1</td>\n",
       "    </tr>\n",
       "    <tr>\n",
       "      <th>65176</th>\n",
       "      <td>190075</td>\n",
       "      <td>1</td>\n",
       "    </tr>\n",
       "    <tr>\n",
       "      <th>294601</th>\n",
       "      <td>350058</td>\n",
       "      <td>1</td>\n",
       "    </tr>\n",
       "    <tr>\n",
       "      <th>130709</th>\n",
       "      <td>98707</td>\n",
       "      <td>1</td>\n",
       "    </tr>\n",
       "  </tbody>\n",
       "</table>\n",
       "<p>987994 rows × 2 columns</p>\n",
       "</div>"
      ],
      "text/plain": [
       "        userId  out_degree\n",
       "108371  435009         710\n",
       "297571  208813         699\n",
       "256158  503757         698\n",
       "105645  419460         687\n",
       "239005   54206         681\n",
       "...        ...         ...\n",
       "294793  489899           1\n",
       "179696  195014           1\n",
       "65176   190075           1\n",
       "294601  350058           1\n",
       "130709   98707           1\n",
       "\n",
       "[987994 rows x 2 columns]"
      ]
     },
     "execution_count": 57,
     "metadata": {},
     "output_type": "execute_result"
    }
   ],
   "source": [
    "outdegreeUsers.sort_values(by = 'out_degree', ascending = False)"
   ]
  },
  {
   "cell_type": "code",
   "execution_count": 60,
   "metadata": {},
   "outputs": [],
   "source": [
    "import numpy as np"
   ]
  },
  {
   "cell_type": "code",
   "execution_count": 61,
   "metadata": {},
   "outputs": [
    {
     "data": {
      "text/plain": [
       "76.89281412640157"
      ]
     },
     "execution_count": 61,
     "metadata": {},
     "output_type": "execute_result"
    }
   ],
   "source": [
    "np.mean(outdegreeUsers['out_degree'])"
   ]
  },
  {
   "cell_type": "code",
   "execution_count": 62,
   "metadata": {},
   "outputs": [
    {
     "data": {
      "text/plain": [
       "58.0"
      ]
     },
     "execution_count": 62,
     "metadata": {},
     "output_type": "execute_result"
    }
   ],
   "source": [
    "np.median(outdegreeUsers['out_degree'])"
   ]
  },
  {
   "cell_type": "code",
   "execution_count": null,
   "metadata": {},
   "outputs": [],
   "source": []
  }
 ],
 "metadata": {
  "kernelspec": {
   "display_name": "base",
   "language": "python",
   "name": "python3"
  },
  "language_info": {
   "codemirror_mode": {
    "name": "ipython",
    "version": 3
   },
   "file_extension": ".py",
   "mimetype": "text/x-python",
   "name": "python",
   "nbconvert_exporter": "python",
   "pygments_lexer": "ipython3",
   "version": "3.11.7"
  }
 },
 "nbformat": 4,
 "nbformat_minor": 2
}
