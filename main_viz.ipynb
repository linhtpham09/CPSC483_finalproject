{
 "cells": [
  {
   "cell_type": "code",
   "execution_count": 34,
   "metadata": {},
   "outputs": [
    {
     "name": "stdout",
     "output_type": "stream",
     "text": [
      "New Output\n"
     ]
    }
   ],
   "source": [
    "import matplotlib.pyplot as plt\n",
    "import numpy as np\n",
    "import pandas as pd\n",
    "\n",
    "from IPython.display import clear_output\n",
    "\n",
    "# Clear previous output\n",
    "clear_output(wait=True)\n",
    "\n",
    "# Display the new output\n",
    "print(\"New Output\")\n"
   ]
  },
  {
   "cell_type": "markdown",
   "metadata": {},
   "source": [
    "# Amazon Book"
   ]
  },
  {
   "cell_type": "code",
   "execution_count": null,
   "metadata": {},
   "outputs": [],
   "source": [
    "#Ran model on Amazon-book with pretrained model to get these initial results \n",
    "amazon = {   \"categories\":[\"<=7\", \"<=15\", \"<=48\", \"<=4475\", \"All\"],\n",
    "    \"recall\":[\n",
    "    [0.15202, 0.21597, 0.26033, 0.29410, 0.32154],\n",
    "    [0.11909, 0.18290, 0.22878, 0.26543, 0.29626],\n",
    "    [0.07871, 0.13337, 0.17622, 0.20970, 0.23955],\n",
    "    [0.04057, 0.07202, 0.10067, 0.12535, 0.14640],\n",
    "    [0.13043, 0.19235, 0.23656, 0.27090, 0.29946],\n",
    "],\n",
    "\"precision\":[\n",
    "    [0.01132, 0.00804, 0.00646, 0.00548, 0.00480],\n",
    "    [0.01394, 0.01075, 0.00899, 0.00782, 0.00699],\n",
    "    [0.02029, 0.01734, 0.01531, 0.01373, 0.01259],\n",
    "    [0.03404, 0.03108, 0.02916, 0.02750, 0.02591],\n",
    "    [0.01379, 0.01058, 0.00889, 0.00776, 0.00695],\n",
    "],\n",
    "\"hit\":[\n",
    "    [0.20399, 0.28197, 0.33446, 0.37270, 0.40358],\n",
    "    [0.23367, 0.34104, 0.40982, 0.45929, 0.49981],\n",
    "    [0.29660, 0.44051, 0.52673, 0.58149, 0.62841],\n",
    "    [0.41158, 0.57143, 0.67339, 0.73394, 0.78226],\n",
    "    [0.22952, 0.32636, 0.38907, 0.43323, 0.46937],\n",
    "],\n",
    "\"ndcg\":[\n",
    "    [0.08875, 0.10582, 0.11622, 0.12349, 0.12922],\n",
    "    [0.08839, 0.11229, 0.12749, 0.13858, 0.14764],\n",
    "    [0.09111, 0.12600, 0.15009, 0.16790, 0.18336],\n",
    "    [0.10053, 0.14792, 0.18565, 0.21694, 0.24326],\n",
    "    [0.08924, 0.11130, 0.12551, 0.13582, 0.14427],\n",
    "]}"
   ]
  },
  {
   "cell_type": "code",
   "execution_count": null,
   "metadata": {},
   "outputs": [],
   "source": [
    "# Function to calculate mean of each column for a given metric\n",
    "def calculate_mean_per_column(metric_data):\n",
    "    return list(np.mean(metric_data, axis=0))\n",
    "\n",
    "# Calculate means for all metrics\n",
    "mean_metrics = {metric: calculate_mean_per_column(data) for metric, data in amazon.items() if metric != \"categories\"}\n",
    "\n",
    "# Display the result\n",
    "for metric, means in mean_metrics.items():\n",
    "    print(f\"Mean values for {metric}: {means}\")"
   ]
  },
  {
   "cell_type": "code",
   "execution_count": null,
   "metadata": {},
   "outputs": [],
   "source": [
    "pd.DataFrame(amazon['precision']).mean()"
   ]
  },
  {
   "cell_type": "code",
   "execution_count": null,
   "metadata": {},
   "outputs": [],
   "source": [
    "user_groups = [\"<=7\", \"<=15\", \"<=48\", \"<=4475\"]  # User groups based on sparsity\n",
    "ndcg_kgat = [0.08875, 0.10582, 0.11622, 0.12349]  # KGAT NDCG values for each group\n",
    "density = [40, 30, 20, 10]  # Example density percentages for user groups\n",
    "\n",
    "# Normalize density to percentages\n",
    "density_normalized = [d / sum(density) * 100 for d in density]"
   ]
  },
  {
   "cell_type": "code",
   "execution_count": null,
   "metadata": {},
   "outputs": [],
   "source": [
    "\n",
    "# Create the plot\n",
    "fig, ax1 = plt.subplots(figsize=(8, 6))\n",
    "\n",
    "# Plot the histogram for density\n",
    "ax1.bar(user_groups, density_normalized, color='lightgreen', alpha=0.5, label=\"Density (%)\")\n",
    "ax1.set_ylabel(\"Density %\", color=\"green\")\n",
    "ax1.set_ylim(0, max(density_normalized) + 10)\n",
    "ax1.legend(loc=\"upper left\")\n",
    "\n",
    "# Add a line plot for KGAT NDCG@20\n",
    "ax2 = ax1.twinx()\n",
    "ax2.plot(user_groups, ndcg_kgat, color='red', marker='o', linewidth=2, label=\"KGAT NDCG@20\")\n",
    "ax2.set_ylabel(\"NDCG@20\", color=\"red\")\n",
    "ax2.set_ylim(0.08, 0.13)\n",
    "ax2.legend(loc=\"upper right\")\n",
    "\n",
    "# Add gridlines and labels\n",
    "ax1.grid(axis='y', linestyle='--', alpha=0.7)\n",
    "plt.title(\"NDCG and Density Across User Groups (Amazon-Book, KGAT)\")\n",
    "plt.xlabel(\"User Group\")\n",
    "\n",
    "# Display the plot\n",
    "plt.show()"
   ]
  },
  {
   "cell_type": "markdown",
   "metadata": {},
   "source": [
    "# Taobao"
   ]
  },
  {
   "cell_type": "code",
   "execution_count": 35,
   "metadata": {},
   "outputs": [],
   "source": [
    "users = {\n",
    "    'categories':['<=5', '<=7','<=11','<=37'], \n",
    "    'amt':[4205,4054,2219,570]\n",
    "}"
   ]
  },
  {
   "cell_type": "code",
   "execution_count": null,
   "metadata": {},
   "outputs": [],
   "source": []
  }
 ],
 "metadata": {
  "kernelspec": {
   "display_name": "Python 3",
   "language": "python",
   "name": "python3"
  },
  "language_info": {
   "codemirror_mode": {
    "name": "ipython",
    "version": 3
   },
   "file_extension": ".py",
   "mimetype": "text/x-python",
   "name": "python",
   "nbconvert_exporter": "python",
   "pygments_lexer": "ipython3",
   "version": "3.10.12"
  }
 },
 "nbformat": 4,
 "nbformat_minor": 2
}
