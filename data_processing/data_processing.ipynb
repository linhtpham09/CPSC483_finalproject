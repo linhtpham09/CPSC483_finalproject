{
 "cells": [
  {
   "cell_type": "markdown",
   "metadata": {},
   "source": [
    "## Data Processing Exploratory Notebook\n"
   ]
  },
  {
   "cell_type": "markdown",
   "metadata": {},
   "source": [
    "This notebook will be some exploratory work for processing the data. This will look at both the data for the Amazon data set and the Tao Bao data set. \n",
    "\n",
    "we will start off with looking at the data for the Amazon Data Set."
   ]
  },
  {
   "cell_type": "code",
   "execution_count": 1,
   "metadata": {},
   "outputs": [],
   "source": [
    "## importing the necessary libraries for the Amazon data set\n",
    "import torch\n",
    "import numpy as np\n",
    "from torch_geometric.datasets import AmazonBook"
   ]
  },
  {
   "cell_type": "code",
   "execution_count": null,
   "metadata": {},
   "outputs": [],
   "source": []
  },
  {
   "cell_type": "code",
   "execution_count": 3,
   "metadata": {},
   "outputs": [
    {
     "ename": "SyntaxError",
     "evalue": "invalid syntax (1069287471.py, line 3)",
     "output_type": "error",
     "traceback": [
      "\u001b[0;36m  File \u001b[0;32m\"/tmp/ipykernel_1848307/1069287471.py\"\u001b[0;36m, line \u001b[0;32m3\u001b[0m\n\u001b[0;31m    amazon_entity_list = np.loadtxt(~/Data Processing/amazon-book/entity_list.txt\u001b[0m\n\u001b[0m                                     ^\u001b[0m\n\u001b[0;31mSyntaxError\u001b[0m\u001b[0;31m:\u001b[0m invalid syntax\n"
     ]
    }
   ],
   "source": [
    "## importing the proper datasets to understand what's going on: \n",
    "\n",
    "amazon_entity_list = np.loadtxt(~/Data Processing/amazon-book/entity_list.txt\n",
    "                                )"
   ]
  },
  {
   "cell_type": "code",
   "execution_count": 3,
   "metadata": {},
   "outputs": [],
   "source": [
    "data = dataset[0]"
   ]
  },
  {
   "cell_type": "code",
   "execution_count": 6,
   "metadata": {},
   "outputs": [
    {
     "name": "stdout",
     "output_type": "stream",
     "text": [
      "['user', 'book']\n",
      "[('user', 'rates', 'book'), ('book', 'rated_by', 'user')]\n"
     ]
    }
   ],
   "source": [
    "print(data.node_types)\n",
    "print(data.edge_types)"
   ]
  },
  {
   "cell_type": "code",
   "execution_count": 7,
   "metadata": {},
   "outputs": [
    {
     "name": "stderr",
     "output_type": "stream",
     "text": [
      "Downloading https://alicloud-dev.oss-cn-hangzhou.aliyuncs.com/UserBehavior.csv.zip\n",
      "Extracting taobao/raw/UserBehavior.csv.zip\n",
      "Processing...\n",
      "Done!\n"
     ]
    }
   ],
   "source": [
    "from torch_geometric.datasets import Taobao\n",
    "taobao_dataset = Taobao(root = './taobao')"
   ]
  }
 ],
 "metadata": {
  "kernelspec": {
   "display_name": "Python 3",
   "language": "python",
   "name": "python3"
  },
  "language_info": {
   "codemirror_mode": {
    "name": "ipython",
    "version": 3
   },
   "file_extension": ".py",
   "mimetype": "text/x-python",
   "name": "python",
   "nbconvert_exporter": "python",
   "pygments_lexer": "ipython3",
   "version": "3.10.12"
  }
 },
 "nbformat": 4,
 "nbformat_minor": 2
}
