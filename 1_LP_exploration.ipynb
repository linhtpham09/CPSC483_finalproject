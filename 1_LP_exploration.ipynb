{
 "cells": [
  {
   "cell_type": "markdown",
   "metadata": {},
   "source": [
    "# Getting Datasets from Pytorch Geometric"
   ]
  },
  {
   "cell_type": "code",
   "execution_count": 4,
   "metadata": {},
   "outputs": [],
   "source": [
    "from torch_geometric.datasets import AmazonBook"
   ]
  },
  {
   "cell_type": "code",
   "execution_count": 7,
   "metadata": {},
   "outputs": [
    {
     "name": "stderr",
     "output_type": "stream",
     "text": [
      "Processing...\n",
      "Done!\n"
     ]
    }
   ],
   "source": [
    "dataset = AmazonBook(root = './amazonbook')"
   ]
  },
  {
   "cell_type": "code",
   "execution_count": null,
   "metadata": {},
   "outputs": [],
   "source": [
    "dataset[0]"
   ]
  },
  {
   "cell_type": "code",
   "execution_count": null,
   "metadata": {},
   "outputs": [],
   "source": [
    "dataset.num_features"
   ]
  },
  {
   "cell_type": "code",
   "execution_count": null,
   "metadata": {},
   "outputs": [],
   "source": [
    "# Load the processed data\n",
    "print(dataset[0])\n",
    "\n",
    "# Check the node types and number of nodes\n",
    "print(f\"User nodes: {dataset[0]['user'].num_nodes}\")\n",
    "print(f\"Book nodes: {dataset[0]['book'].num_nodes}\")"
   ]
  },
  {
   "cell_type": "code",
   "execution_count": null,
   "metadata": {},
   "outputs": [],
   "source": [
    "\n",
    "# Inspect the edge indices (relationship between users and books)\n",
    "print(f\"Edge index (user -> book): \\n {dataset[0]['user', 'rates', 'book']['edge_index']}\")\n",
    "print(f\"Edge index (book -> user): \\n {dataset[0]['book', 'rated_by', 'user']['edge_index']}\")\n"
   ]
  },
  {
   "cell_type": "code",
   "execution_count": 9,
   "metadata": {},
   "outputs": [],
   "source": [
    "data = dataset[0]"
   ]
  },
  {
   "cell_type": "code",
   "execution_count": null,
   "metadata": {},
   "outputs": [],
   "source": [
    "print(\"Node types:\", data.node_types)\n",
    "print(\"Edge types:\", data.edge_types)\n"
   ]
  },
  {
   "cell_type": "code",
   "execution_count": null,
   "metadata": {},
   "outputs": [],
   "source": [
    "user_to_book_edge_index = data['user', 'rates', 'book']['edge_index']\n",
    "print('Edge index (user -> book):\\n', user_to_book_edge_index)\n"
   ]
  },
  {
   "cell_type": "code",
   "execution_count": 8,
   "metadata": {},
   "outputs": [],
   "source": [
    "from torch_geometric.datasets import MovieLens1M"
   ]
  },
  {
   "cell_type": "code",
   "execution_count": 9,
   "metadata": {},
   "outputs": [
    {
     "name": "stderr",
     "output_type": "stream",
     "text": [
      "Downloading https://files.grouplens.org/datasets/movielens/ml-1m.zip\n",
      "Extracting movielens/ml-1m.zip\n",
      "Processing...\n",
      "Done!\n"
     ]
    }
   ],
   "source": [
    "df = MovieLens1M(root = './movielens')"
   ]
  },
  {
   "cell_type": "code",
   "execution_count": 11,
   "metadata": {},
   "outputs": [],
   "source": [
    "movies = df[0]"
   ]
  },
  {
   "cell_type": "code",
   "execution_count": 12,
   "metadata": {},
   "outputs": [
    {
     "data": {
      "text/plain": [
       "HeteroData(\n",
       "  movie={ x=[3883, 18] },\n",
       "  user={ x=[6040, 30] },\n",
       "  (user, rates, movie)={\n",
       "    edge_index=[2, 1000209],\n",
       "    rating=[1000209],\n",
       "    time=[1000209],\n",
       "  },\n",
       "  (movie, rated_by, user)={\n",
       "    edge_index=[2, 1000209],\n",
       "    rating=[1000209],\n",
       "    time=[1000209],\n",
       "  }\n",
       ")"
      ]
     },
     "execution_count": 12,
     "metadata": {},
     "output_type": "execute_result"
    }
   ],
   "source": [
    "movies"
   ]
  },
  {
   "cell_type": "markdown",
   "metadata": {},
   "source": [
    "# Connecting to Google Big Query "
   ]
  },
  {
   "cell_type": "code",
   "execution_count": 27,
   "metadata": {},
   "outputs": [],
   "source": [
    "from google.cloud import bigquery\n",
    "from google.oauth2 import service_account"
   ]
  },
  {
   "cell_type": "code",
   "execution_count": 30,
   "metadata": {},
   "outputs": [],
   "source": [
    "key_path = \"cpsc483-e259a971f86e.json\"\n",
    "credentials = service_account.Credentials.from_service_account_file(key_path)\n",
    "client = bigquery.Client(credentials=credentials, project=credentials.project_id)\n"
   ]
  },
  {
   "cell_type": "code",
   "execution_count": 31,
   "metadata": {},
   "outputs": [],
   "source": [
    "dataset_id = \"final_project\"\n",
    "table_id = \"taobao\""
   ]
  },
  {
   "cell_type": "code",
   "execution_count": 32,
   "metadata": {},
   "outputs": [],
   "source": [
    "table_ref = client.dataset(dataset_id).table(table_id)"
   ]
  },
  {
   "cell_type": "code",
   "execution_count": 33,
   "metadata": {},
   "outputs": [],
   "source": [
    "table = client.get_table(table_ref)"
   ]
  },
  {
   "cell_type": "code",
   "execution_count": 37,
   "metadata": {},
   "outputs": [],
   "source": [
    "query = \"Select * from cpsc483.final_project.taobao limit 10000\""
   ]
  },
  {
   "cell_type": "code",
   "execution_count": 38,
   "metadata": {},
   "outputs": [],
   "source": [
    "query_job = client.query(query)  # Make an API request to execute the query\n",
    "df = query_job.to_dataframe() "
   ]
  },
  {
   "cell_type": "code",
   "execution_count": 39,
   "metadata": {},
   "outputs": [
    {
     "data": {
      "text/html": [
       "<div>\n",
       "<style scoped>\n",
       "    .dataframe tbody tr th:only-of-type {\n",
       "        vertical-align: middle;\n",
       "    }\n",
       "\n",
       "    .dataframe tbody tr th {\n",
       "        vertical-align: top;\n",
       "    }\n",
       "\n",
       "    .dataframe thead th {\n",
       "        text-align: right;\n",
       "    }\n",
       "</style>\n",
       "<table border=\"1\" class=\"dataframe\">\n",
       "  <thead>\n",
       "    <tr style=\"text-align: right;\">\n",
       "      <th></th>\n",
       "      <th>int64_field_0</th>\n",
       "      <th>int64_field_1</th>\n",
       "      <th>int64_field_2</th>\n",
       "      <th>string_field_3</th>\n",
       "      <th>int64_field_4</th>\n",
       "    </tr>\n",
       "  </thead>\n",
       "  <tbody>\n",
       "    <tr>\n",
       "      <th>0</th>\n",
       "      <td>295176</td>\n",
       "      <td>588711</td>\n",
       "      <td>721664</td>\n",
       "      <td>pv</td>\n",
       "      <td>1511866603</td>\n",
       "    </tr>\n",
       "    <tr>\n",
       "      <th>1</th>\n",
       "      <td>398393</td>\n",
       "      <td>3214715</td>\n",
       "      <td>721664</td>\n",
       "      <td>pv</td>\n",
       "      <td>1511969910</td>\n",
       "    </tr>\n",
       "    <tr>\n",
       "      <th>2</th>\n",
       "      <td>139186</td>\n",
       "      <td>1112150</td>\n",
       "      <td>721664</td>\n",
       "      <td>pv</td>\n",
       "      <td>1511894242</td>\n",
       "    </tr>\n",
       "    <tr>\n",
       "      <th>3</th>\n",
       "      <td>42193</td>\n",
       "      <td>2503879</td>\n",
       "      <td>721664</td>\n",
       "      <td>pv</td>\n",
       "      <td>1511671762</td>\n",
       "    </tr>\n",
       "    <tr>\n",
       "      <th>4</th>\n",
       "      <td>17532</td>\n",
       "      <td>4619479</td>\n",
       "      <td>721664</td>\n",
       "      <td>pv</td>\n",
       "      <td>1512054627</td>\n",
       "    </tr>\n",
       "    <tr>\n",
       "      <th>...</th>\n",
       "      <td>...</td>\n",
       "      <td>...</td>\n",
       "      <td>...</td>\n",
       "      <td>...</td>\n",
       "      <td>...</td>\n",
       "    </tr>\n",
       "    <tr>\n",
       "      <th>9995</th>\n",
       "      <td>797396</td>\n",
       "      <td>383797</td>\n",
       "      <td>4244487</td>\n",
       "      <td>pv</td>\n",
       "      <td>1511875079</td>\n",
       "    </tr>\n",
       "    <tr>\n",
       "      <th>9996</th>\n",
       "      <td>938143</td>\n",
       "      <td>4806800</td>\n",
       "      <td>4244487</td>\n",
       "      <td>pv</td>\n",
       "      <td>1511938787</td>\n",
       "    </tr>\n",
       "    <tr>\n",
       "      <th>9997</th>\n",
       "      <td>569927</td>\n",
       "      <td>3593392</td>\n",
       "      <td>4244487</td>\n",
       "      <td>pv</td>\n",
       "      <td>1511624257</td>\n",
       "    </tr>\n",
       "    <tr>\n",
       "      <th>9998</th>\n",
       "      <td>578059</td>\n",
       "      <td>3706904</td>\n",
       "      <td>4244487</td>\n",
       "      <td>pv</td>\n",
       "      <td>1512046788</td>\n",
       "    </tr>\n",
       "    <tr>\n",
       "      <th>9999</th>\n",
       "      <td>79881</td>\n",
       "      <td>2971467</td>\n",
       "      <td>4244487</td>\n",
       "      <td>pv</td>\n",
       "      <td>1512024751</td>\n",
       "    </tr>\n",
       "  </tbody>\n",
       "</table>\n",
       "<p>10000 rows × 5 columns</p>\n",
       "</div>"
      ],
      "text/plain": [
       "      int64_field_0  int64_field_1  int64_field_2 string_field_3  \\\n",
       "0            295176         588711         721664             pv   \n",
       "1            398393        3214715         721664             pv   \n",
       "2            139186        1112150         721664             pv   \n",
       "3             42193        2503879         721664             pv   \n",
       "4             17532        4619479         721664             pv   \n",
       "...             ...            ...            ...            ...   \n",
       "9995         797396         383797        4244487             pv   \n",
       "9996         938143        4806800        4244487             pv   \n",
       "9997         569927        3593392        4244487             pv   \n",
       "9998         578059        3706904        4244487             pv   \n",
       "9999          79881        2971467        4244487             pv   \n",
       "\n",
       "      int64_field_4  \n",
       "0        1511866603  \n",
       "1        1511969910  \n",
       "2        1511894242  \n",
       "3        1511671762  \n",
       "4        1512054627  \n",
       "...             ...  \n",
       "9995     1511875079  \n",
       "9996     1511938787  \n",
       "9997     1511624257  \n",
       "9998     1512046788  \n",
       "9999     1512024751  \n",
       "\n",
       "[10000 rows x 5 columns]"
      ]
     },
     "execution_count": 39,
     "metadata": {},
     "output_type": "execute_result"
    }
   ],
   "source": [
    "df"
   ]
  },
  {
   "cell_type": "code",
   "execution_count": null,
   "metadata": {},
   "outputs": [],
   "source": []
  }
 ],
 "metadata": {
  "kernelspec": {
   "display_name": "Python 3",
   "language": "python",
   "name": "python3"
  },
  "language_info": {
   "codemirror_mode": {
    "name": "ipython",
    "version": 3
   },
   "file_extension": ".py",
   "mimetype": "text/x-python",
   "name": "python",
   "nbconvert_exporter": "python",
   "pygments_lexer": "ipython3",
   "version": "3.9.6"
  }
 },
 "nbformat": 4,
 "nbformat_minor": 2
}
